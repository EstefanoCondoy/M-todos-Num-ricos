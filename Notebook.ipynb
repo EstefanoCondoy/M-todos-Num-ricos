{
 "cells": [
  {
   "cell_type": "markdown",
   "id": "fabd3132",
   "metadata": {},
   "source": [
    "<div style=\"text-align: center;\">\n",
    "\n",
    "$$\\huge \\textcolor{red}{\\textbf{ESCUELA POLITÉCNICA NACIONAL}}$$  \n",
    "<br><br>\n",
    "\n",
    "$$\\Large \\textcolor{brown}{\\textbf{Facultad de Ingeniería en Sistemas}}$$  \n",
    "$$\\Large \\textcolor{brown}{\\textbf{Ingeniería en Ciencias Computacionales}}$$  \n",
    "$$\\Large \\textcolor{brown}{\\textbf{Métodos Numéricos}}$$  \n",
    "\n",
    "<br><br>\n",
    "\n",
    "<img src=\"MN.png\" width=\"350\"/>\n",
    "\n",
    "<br><br>\n",
    "\n",
    "$$\\Large \\textcolor{red}{\\textbf{Estudiante:}}$$  \n",
    "$$\\Large \\textbf{Estéfano Condoy}$$  \n",
    "\n",
    "<br>\n",
    "\n",
    "$$\\Large \\textcolor{red}{\\textbf{Docente:}}$$  \n",
    "$$\\Large \\textbf{Carlos Ayala}$$  \n",
    "\n",
    "<br>\n",
    "\n",
    "$$\\Large \\textcolor{red}{\\textbf{Semestre:}}$$  \n",
    "$$\\Large \\textbf{25-A}$$  \n",
    "\n",
    "</div>\n",
    "\n",
    "<div style=\"page-break-after: always;\"></div>\n"
   ]
  },
  {
   "cell_type": "markdown",
   "id": "301b118f",
   "metadata": {
    "vscode": {
     "languageId": "plaintext"
    }
   },
   "source": [
    "\n",
    "<div style=\"text-align: center;\">\n",
    "\n",
    "$$\\huge \\textcolor{red}{\\textbf{U2 Preliminares A}}$$  \n",
    "<br><br>"
   ]
  }
 ],
 "metadata": {
  "language_info": {
   "name": "python"
  }
 },
 "nbformat": 4,
 "nbformat_minor": 5
}
