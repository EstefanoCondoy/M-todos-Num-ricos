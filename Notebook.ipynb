{
 "cells": [
  {
   "cell_type": "markdown",
   "id": "fabd3132",
   "metadata": {},
   "source": [
    "<style>\n",
    "    .rojo {\n",
    "        color: #FF0000; /* Rojo */\n",
    "    }\n",
    "\n",
    "    .azul {\n",
    "        color: #0000FF; /* Azul */\n",
    "    }\n",
    "\n",
    "    .verde {\n",
    "        color: #00FF00; /* Verde */\n",
    "    }\n",
    "\n",
    "    .naranja {\n",
    "        color: #FFA500; /* Naranja */\n",
    "    }\n",
    "\n",
    "    .marron {\n",
    "        color: #A52A2A; /* Marrón */\n",
    "    }\n",
    "</style>\n",
    "# <div align=\"center\" class=\"rojo\">**ESCUELA POLITECNICA NACIONAL**</div>\n",
    "### <div align=\"center\" class=\"marron\">***Facultad de Ingenieria en Sistemas***</div>\n",
    "### <div align=\"center\" class=\"marron\">***Ingenieria en Computacion***</div>\n",
    "### <div align=\"center\" class=\"marron\">***Programacion II***</div>\n",
    "\n",
    "<br>\n",
    "<br>\n",
    "<p align=\"center\">\n",
    "  <img src=\"ImagenesC/java.png\" width=\"350\"/>\n",
    "</p>\n",
    "</br>\n",
    "</br>\n",
    "\n",
    "### <div align=\"center\" class=\"rojo\">**Estudiante:**</div>\n",
    "### <div align=\"center\">*Estéfano Condoy*</div>\n",
    "### <div align=\"center\" class=\"rojo\">**Tutor:**</div>\n",
    "### <div align=\"center\">*MSc. Patricio Paccha*</div>\n",
    "### <div align=\"center\" class=\"rojo\">**Semestre:**</div>\n",
    "### <div align=\"center\">*24-A*</div>\n",
    "<div style=\"page-break-after: always;\"></div>"
   ]
  }
 ],
 "metadata": {
  "language_info": {
   "name": "python"
  }
 },
 "nbformat": 4,
 "nbformat_minor": 5
}
