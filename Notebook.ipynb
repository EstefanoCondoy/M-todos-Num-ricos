{
 "cells": [
  {
   "cell_type": "markdown",
   "id": "fabd3132",
   "metadata": {},
   "source": [
    "<div style=\"text-align: center;\">\n",
    "\n",
    "$$\\huge \\textcolor{red}{\\textbf{ESCUELA POLITÉCNICA NACIONAL}}$$  \n",
    "<br><br>\n",
    "\n",
    "$$\\Large \\textcolor{brown}{\\textbf{Facultad de Ingeniería en Sistemas}}$$  \n",
    "$$\\Large \\textcolor{brown}{\\textbf{Ingeniería en Ciencias Computacionales}}$$  \n",
    "$$\\Large \\textcolor{brown}{\\textbf{Métodos Numéricos}}$$  \n",
    "\n",
    "<br><br>\n",
    "\n",
    "<img src=\"MN.png\" width=\"350\"/>\n",
    "\n",
    "<br><br>\n",
    "\n",
    "$$\\Large \\textcolor{red}{\\textbf{Estudiante:}}$$  \n",
    "$$\\Large \\textbf{Estéfano Condoy}$$  \n",
    "\n",
    "<br>\n",
    "\n",
    "$$\\Large \\textcolor{red}{\\textbf{Docente:}}$$  \n",
    "$$\\Large \\textbf{Carlos Ayala}$$  \n",
    "\n",
    "<br>\n",
    "\n",
    "$$\\Large \\textcolor{red}{\\textbf{Semestre:}}$$  \n",
    "$$\\Large \\textbf{25-A}$$  \n",
    "\n",
    "</div>\n",
    "\n",
    "<div style=\"page-break-after: always;\"></div>\n",
    "\n",
    "\n",
    "<div style=\"text-align: center;\">\n",
    "\n",
    "$$\\huge \\textcolor{red}{\\textbf{U2 Preliminares A}}$$  \n",
    "<br><br>"
   ]
  },
  {
   "cell_type": "markdown",
   "id": "29af373e",
   "metadata": {},
   "source": [
    "## Métodos Analíticos\n",
    "El método analítico nos da soluciones exactas.\n",
    "Nota:Todas mis variables y funcione stendran Ec(Para hacer referencia a mi nombre Estéfano Condoy)"
   ]
  },
  {
   "cell_type": "code",
   "execution_count": 23,
   "id": "6ea4ae1e",
   "metadata": {},
   "outputs": [
    {
     "name": "stdout",
     "output_type": "stream",
     "text": [
      "Las soluciones son: [1, 3]\n"
     ]
    }
   ],
   "source": [
    "#@autor: Estefano Condoy\n",
    "#@fecha: 2025-30-04\n",
    "#@version: 1.0\n",
    "#@asignatura: Métodos Numéricos\n",
    "import sympy as sp\n",
    "\n",
    "# Definimos la variable, en este caso la 'e'\n",
    "e = sp.symbols('e')\n",
    "\n",
    "# Definimos la ecuación a resolver\n",
    "EcEcuacion = 3 + e**2 - 4*e\n",
    "\n",
    "# Resolvemos la ecuación de manera analitica \n",
    "EcSoluciones = sp.solve(EcEcuacion, e)\n",
    "\n",
    "# Imprimimos la solución de nuestra ecuación\n",
    "print(\"Las soluciones son:\", EcSoluciones)\n"
   ]
  },
  {
   "cell_type": "markdown",
   "id": "baedfde8",
   "metadata": {},
   "source": [
    "## Métodos Númericos\n",
    "Permite obtener soluciones cercanas para problemas cuya resolución exacta no es posible mediante métodos analíticos, es decir es un aproximado, se basa en calculos iterativos (Por ejemplo, método de Newton,Secante,Bisección, etc).\n",
    "Para este codigo del ejemplo, opte por investigar otro metodo aparte de los aprendido y escogi el **Método numérico de la regla del trapecio.**"
   ]
  },
  {
   "cell_type": "code",
   "execution_count": 24,
   "id": "b726db3f",
   "metadata": {},
   "outputs": [
    {
     "name": "stdout",
     "output_type": "stream",
     "text": [
      "La integral aproximada calculada por la regla del trapecio es: 0.7468180014679697\n"
     ]
    }
   ],
   "source": [
    "#@autor: Estefano Condoy\n",
    "#@fecha: 2025-30-04\n",
    "#@version: 1.0\n",
    "#@asignatura: Métodos Numéricos\n",
    "import math\n",
    "\n",
    "# Ponemos los parámetros del intervalo y el numero de trapecios.\n",
    "EcA = 0          # Límite inferior de integración\n",
    "EcB = 1          # Límite superior de integración\n",
    "EcN = 100        # Número de trapecios para dividir el intervalo\n",
    "\n",
    "# Definimos la función a integrar: f(x) = e^(-x^2)\n",
    "def EcFuncion(EcX):\n",
    "    return math.exp(-EcX**2)\n",
    "\n",
    "# Implementamos la regla del trapecio\n",
    "def EcReglaTrapecio(EcA, EcB, EcN):\n",
    "    # Calculamos la base de cada trapecio\n",
    "    EcH = (EcB - EcA) / EcN  \n",
    "    \n",
    "    # Inicializamos la suma con la mitad de la función evaluada en los extremos\n",
    "    EcSuma = 0.5 * (EcFuncion(EcA) + EcFuncion(EcB))\n",
    "\n",
    "    # Recorremos cada punto interno del intervalo [a,b]\n",
    "    for EcI in range(1, EcN):\n",
    "        # Calculamos la posición del punto i-ésimo\n",
    "        EcXI = EcA + EcI * EcH\n",
    "        # Sumamos el valor de la función en ese punto a la suma total\n",
    "        # Estos puntos tienen peso completo (1) en la fórmula\n",
    "        EcSuma += EcFuncion(EcXI)\n",
    "\n",
    "    # Multiplicamos la suma por la base de os trapecios, para obtener el área total\n",
    "    return EcSuma * EcH\n",
    "\n",
    "# Ejecutamos la función de integración\n",
    "EcIntegralAproximada = EcReglaTrapecio(EcA, EcB, EcN)\n",
    "\n",
    "# Imprimimos el resltado final\n",
    "print(f\"La integral aproximada calculada por la regla del trapecio es: {EcIntegralAproximada}\")\n"
   ]
  },
  {
   "cell_type": "markdown",
   "id": "5ef7c060",
   "metadata": {},
   "source": [
    "## Exactitud vs Precisión\n",
    "**Exactitud:** Cerca del valor real.\n",
    "\n",
    "**Presicisión:** Valores consistentes entre sí.\n",
    "\n",
    "Este ejemplo muestra cómo se puede evaluar la calidad de un conjunto de mediciones,en el código que escribi hice que se calcule  ambas usando tres mediciones simuladas y se imprime el promedio, la exactitud y la precisión para entender la diferencia entre Exactitud vs Precisión.\n"
   ]
  },
  {
   "cell_type": "code",
   "execution_count": 25,
   "id": "2f7a0b6b",
   "metadata": {},
   "outputs": [
    {
     "name": "stdout",
     "output_type": "stream",
     "text": [
      "Mediciones: 98.0 98.2 98.1\n",
      "Promedio: 98.09999999999998\n",
      "Exactitud (diferencia con el valor real): 1.90000000000002\n",
      "Precisión (diferencia entre mediciones): 0.20000000000000284\n"
     ]
    }
   ],
   "source": [
    "#@autor: Estefano Condoy\n",
    "#@fecha: 2025-30-04\n",
    "#@version: 1.0\n",
    "#@asignatura: Métodos Numéricos\n",
    "import math\n",
    "\n",
    "# Le ponemos un valor verdadero para el calculo.\n",
    "EcValorVerdadero = 100.0\n",
    "\n",
    "# Le damos tres mediciones simuladas\n",
    "EcMedicion1 = 98.0\n",
    "EcMedicion2 = 98.2\n",
    "EcMedicion3 = 98.1\n",
    "\n",
    "# Promediamos las mediciones\n",
    "EcPromedio = (EcMedicion1 + EcMedicion2 + EcMedicion3) / 3\n",
    "\n",
    "# Exactitud: Cerca del valor real\n",
    "EcExactitud = abs(EcPromedio - EcValorVerdadero)\n",
    "\n",
    "# Precisión: Valores consistentes entre sí\n",
    "EcPrecisión = max(EcMedicion1, EcMedicion2, EcMedicion3) - min(EcMedicion1, EcMedicion2, EcMedicion3)\n",
    "\n",
    "# Imprimimos los resultados\n",
    "print(\"Mediciones:\", EcMedicion1, EcMedicion2, EcMedicion3)\n",
    "print(\"Promedio:\", EcPromedio)\n",
    "print(\"Exactitud (diferencia con el valor real):\", EcExactitud)\n",
    "print(\"Precisión (diferencia entre mediciones):\", EcPrecisión)\n"
   ]
  },
  {
   "cell_type": "markdown",
   "id": "6327ee03",
   "metadata": {},
   "source": [
    "## Tipos de errores\n",
    "### Error por truncamiento\n",
    "Si un algoritmo con truncamiento fijo no se implementa correctamente, puede proporcionar resultados exactos pero con una precisión limitada.\n",
    "\n",
    "Haremos el ejemplo con pi, con 5 cifras significativas."
   ]
  },
  {
   "cell_type": "code",
   "execution_count": 32,
   "id": "ea919120",
   "metadata": {},
   "outputs": [
    {
     "name": "stdout",
     "output_type": "stream",
     "text": [
      "Truncamiento de pi a 5 cifras significativas: 3.1415\n"
     ]
    }
   ],
   "source": [
    "#@autor: Estefano Condoy\n",
    "#@fecha: 2025-30-04\n",
    "#@version: 1.0\n",
    "#@asignatura: Métodos Numéricos\n",
    "import math\n",
    "\n",
    "EcPiReal = math.pi\n",
    "EcPiStr = str(EcPiReal)\n",
    "\n",
    "# Truncar a 5 cifras significativas\n",
    "EcPiTruncado = float(EcPiStr[:6]) #Toma desde la posicion 0 hasta la posicion 5\n",
    "\n",
    "print(\"Truncamiento de pi a 5 cifras significativas:\", EcPiTruncado)\n"
   ]
  },
  {
   "cell_type": "markdown",
   "id": "e693801a",
   "metadata": {},
   "source": [
    "### Error por redondeo\n",
    "Un algoritmo con redondeo puede tener mucha aproximación pero no exactitud.\n",
    "\n",
    "Haremos el ejemplo con pi, con 5 cifras significativas."
   ]
  },
  {
   "cell_type": "code",
   "execution_count": 34,
   "id": "b3282f04",
   "metadata": {},
   "outputs": [
    {
     "name": "stdout",
     "output_type": "stream",
     "text": [
      "Redondeo de pi a 5 cifras significativas: 3.1416\n"
     ]
    }
   ],
   "source": [
    "#@autor: Estefano Condoy\n",
    "#@fecha: 2025-30-04\n",
    "#@version: 1.0\n",
    "#@asignatura: Métodos Numéricos\n",
    "import math\n",
    "\n",
    "EcPiReal = math.pi\n",
    "\n",
    "# Redondear a 5 cifras significativas -> 3.1416\n",
    "EcPiRedondeado = round(EcPiReal, 4)  # 4 decimales para total 5 cifras significativas\n",
    "\n",
    "print(\"Redondeo de pi a 5 cifras significativas:\", EcPiRedondeado)"
   ]
  },
  {
   "cell_type": "markdown",
   "id": "94fa19fd",
   "metadata": {},
   "source": [
    "## Cálculo de error\n",
    "El ejemplo se realizara para los cuatro errores con $p = \\sqrt{3}$   y $p* = 1.73205$\n",
    "\n",
    "### Error real"
   ]
  },
  {
   "cell_type": "code",
   "execution_count": 48,
   "id": "e76798ee",
   "metadata": {},
   "outputs": [
    {
     "name": "stdout",
     "output_type": "stream",
     "text": [
      "1. Error real: 8.075688771036482e-07\n",
      "2. Valor real: 1.7320508075688772\n",
      "3. Valor aproximado: 1.73205\n"
     ]
    }
   ],
   "source": [
    "#@autor: Estefano Condoy\n",
    "#@fecha: 2025-30-04\n",
    "#@version: 1.0\n",
    "#@asignatura: Métodos Numéricos\n",
    "import math\n",
    "\n",
    "# Definir los valores\n",
    "EcValorReal = math.sqrt(3) \n",
    "EcValorAprox = 1.73205# Aproximación truncada         \n",
    "\n",
    "# Calcular el error real\n",
    "EcErrorReal = EcValorReal - EcValorAprox\n",
    "print(\"1. Error real:\", EcErrorReal)\n",
    "print(\"2. Valor real:\", EcValorReal)\n",
    "print(\"3. Valor aproximado:\", EcValorAprox)\n"
   ]
  },
  {
   "cell_type": "markdown",
   "id": "c8ce3999",
   "metadata": {},
   "source": [
    "### Error absoluto"
   ]
  },
  {
   "cell_type": "code",
   "execution_count": 49,
   "id": "39cd3206",
   "metadata": {},
   "outputs": [
    {
     "name": "stdout",
     "output_type": "stream",
     "text": [
      "1. Error absoluto: 8.075688771036482e-07\n",
      "2. Valor real: 1.7320508075688772\n",
      "3. Valor aproximado: 1.73205\n"
     ]
    }
   ],
   "source": [
    "#@autor: Estefano Condoy\n",
    "#@fecha: 2025-30-04\n",
    "#@version: 1.0\n",
    "#@asignatura: Métodos Numéricos\n",
    "import math\n",
    "\n",
    "# Definir los valores reales y aproximados\n",
    "EcValorReal = math.sqrt(3)\n",
    "EcValorAprox = 1.73205 # Aproximación truncada\n",
    "\n",
    "# Calcular el error absoluto \n",
    "EcErrorAbsoluto = abs(EcValorReal - EcValorAprox)\n",
    "\n",
    "# Mostrar el resultado\n",
    "print(\"1. Error absoluto:\", EcErrorAbsoluto)\n",
    "print(\"2. Valor real:\", EcValorReal)\n",
    "print(\"3. Valor aproximado:\", EcValorAprox)\n"
   ]
  },
  {
   "cell_type": "markdown",
   "id": "48a7e9b3",
   "metadata": {},
   "source": [
    "### Error relativo"
   ]
  },
  {
   "cell_type": "code",
   "execution_count": 50,
   "id": "fb21d414",
   "metadata": {},
   "outputs": [
    {
     "name": "stdout",
     "output_type": "stream",
     "text": [
      "1. Error relativo: 4.6625010858495513e-07\n",
      "2. Valor real: 1.7320508075688772\n",
      "3. Valor aproximado: 1.73205\n"
     ]
    }
   ],
   "source": [
    "#@autor: Estefano Condoy\n",
    "#@fecha: 2025-30-04\n",
    "#@version: 1.0\n",
    "#@asignatura: Métodos Numéricos\n",
    "import math\n",
    "\n",
    "# Definir los valores\n",
    "EcValorReal = math.sqrt(3)\n",
    "EcValorAprox = 1.73205\n",
    "\n",
    "# Calcular el error relativo (error absoluto dividido por el valor real)\n",
    "EcErrorRelativo = math.fabs(EcValorReal - EcValorAprox) / EcValorReal\n",
    "print(\"1. Error relativo:\", EcErrorRelativo)\n",
    "print(\"2. Valor real:\", EcValorReal)\n",
    "print(\"3. Valor aproximado:\", EcValorAprox)"
   ]
  },
  {
   "cell_type": "markdown",
   "id": "3eb359c4",
   "metadata": {},
   "source": [
    "### Error relativo porcentual\n"
   ]
  },
  {
   "cell_type": "code",
   "execution_count": 53,
   "id": "3c820262",
   "metadata": {},
   "outputs": [
    {
     "name": "stdout",
     "output_type": "stream",
     "text": [
      "1. Error relativo porcentual: 4.6625010858495514e-05 %\n",
      "2. Valor real: 1.7320508075688772\n",
      "3. Valor aproximado: 1.73205\n"
     ]
    }
   ],
   "source": [
    "#@autor: Estefano Condoy\n",
    "#@fecha: 2025-30-04\n",
    "#@version: 1.0\n",
    "#@asignatura: Métodos Numéricos\n",
    "import math\n",
    "\n",
    "# Definir los valores\n",
    "EcValorReal = math.sqrt(3)\n",
    "EcValorAprox = 1.73205\n",
    "\n",
    "# Calcular el error relativo porcentual\n",
    "EcErrorPorcentual = (math.fabs(EcValorReal - EcValorAprox) / EcValorReal) * 100\n",
    "print(\"1. Error relativo porcentual:\", EcErrorPorcentual, \"%\")\n",
    "print(\"2. Valor real:\", EcValorReal)\n",
    "print(\"3. Valor aproximado:\", EcValorAprox)"
   ]
  },
  {
   "cell_type": "markdown",
   "id": "10af8066",
   "metadata": {},
   "source": [
    "<div style=\"text-align: center;\">\n",
    "\n",
    "$$\\huge \\textcolor{red}{\\textbf{U2 Preliminares B}}$$  \n",
    "<br><br>"
   ]
  },
  {
   "cell_type": "markdown",
   "id": "f8ab9bac",
   "metadata": {},
   "source": [
    "## Representación Numérica 32 bits\n",
    "- 1 bit se usa para el signo (0 para positivo, 1 para negativo).\n",
    "\n",
    "- 8 bits corresponden al exponente.\n",
    "\n",
    "- 23 bits se destinan a la mantisa."
   ]
  },
  {
   "cell_type": "code",
   "execution_count": null,
   "id": "a1ac29ef",
   "metadata": {},
   "outputs": [
    {
     "name": "stdout",
     "output_type": "stream",
     "text": [
      "Bit del signo: 0\n",
      "Bits de la parte del exponente: 10000111\n",
      "Bits de la parte de la mantisa: 00000111010011001100110\n",
      "IEEE 754 (32 bits): 01000011100000111010011001100110\n"
     ]
    }
   ],
   "source": [
    "#@autor: Estefano Condoy\n",
    "#@fecha: 2025-06-05\n",
    "#@version: 1.0\n",
    "#@asignatura: Métodos Numéricos\n",
    "\n",
    "# Este numero se eligio fue porque el ingeniero nos lo dio en clases\n",
    "EcNumero = 263.3 \n",
    "\n",
    "# En el paso 1 determinamos el signo del Bit\n",
    "EcSigno = 0\n",
    "if EcNumero < 0:\n",
    "    EcSigno = 1\n",
    "    EcNumero = -EcNumero \n",
    "\n",
    "# 2.En el paso 2 convertimos en binario la parte entera\n",
    "EcParteEntera = int(EcNumero)  # Tomamos la parte entera de 263\n",
    "EcBinEntera = bin(EcParteEntera)[2:]  # Convertimos 263 a binario\n",
    "\n",
    "# En el paso 3 convertimos en binrio la parte decimal\n",
    "EcParteDecimal = EcNumero - EcParteEntera  # Obtenemos la parte decimal → 0.3\n",
    "EcBinDecimal = \"\"\n",
    "EcTemp = EcParteDecimal\n",
    "while len(EcBinDecimal) < 23:\n",
    "    EcTemp *= 2\n",
    "    bit = int(EcTemp)\n",
    "    EcBinDecimal += str(bit)\n",
    "    EcTemp -= bit\n",
    "    if EcTemp == 0:\n",
    "        break\n",
    "\n",
    "# En el paso 4 lo convertimos en notación científica\n",
    "EcExp = len(EcBinEntera) - 1  # Le desplazamos la coma a la izquierda hasta antes del primer bit\n",
    "EcMantisa = EcBinEntera[1:] + EcBinDecimal \n",
    "EcMantisa = EcMantisa[:23]  # Solo tomamos los primeros 23 bits para la mantisa\n",
    "\n",
    "# En el paso 5 Sumamos el exponente mas 127 para el formato IEEE 754\n",
    "EcExponente = EcExp + 127  \n",
    "EcExponenteBin = format(EcExponente, '08b')  # Representamos el exponente en 8 bits binarios\n",
    "\n",
    "# En el ultimo paso unimos al format IEEE 754\n",
    "Ec32bits = str(EcSigno) + EcExponenteBin + EcMantisa\n",
    "# Imprimimos los resultados\n",
    "print(\"Bit del signo:\", EcSigno)\n",
    "print(\"Bits de la parte del exponente:\", EcExponenteBin)\n",
    "print(\"Bits de la parte de la mantisa:\", EcMantisa)\n",
    "print(\"IEEE 754 (32 bits):\", Ec32bits)\n"
   ]
  },
  {
   "cell_type": "markdown",
   "id": "3a84bcfc",
   "metadata": {},
   "source": [
    "## Representación Numérica 64 bits\n",
    "- 1 bit se usa para el signo (0 para positivo, 1 para negativo).\n",
    "\n",
    "- 11 bits corresponden al exponente.\n",
    "\n",
    "- 52 bits se destinan a la mantisa."
   ]
  },
  {
   "cell_type": "code",
   "execution_count": null,
   "id": "c44b477e",
   "metadata": {},
   "outputs": [
    {
     "name": "stdout",
     "output_type": "stream",
     "text": [
      "Bit del signo: 0\n",
      "Bits de la parte del exponente: 10000000111\n",
      "Bits de la parte de la mantisa: 0000011101001100110011001100110011001100110011001101\n",
      "IEEE 754 (32 bits): 0100000001110000011101001100110011001100110011001100110011001101\n"
     ]
    }
   ],
   "source": [
    "#@autor: Estefano Condoy\n",
    "#@fecha: 2025-06-04\n",
    "#@version: 1.0\n",
    "#@asignatura: Métodos Numéricos\n",
    "\n",
    "# Este numero se eligio fue porque el ingeniero nos lo dio en clases\n",
    "EcNumero = 263.3 \n",
    "\n",
    "# En el paso 1 determinamos el signo del Bit\n",
    "EcSigno = 0\n",
    "if EcNumero < 0:\n",
    "    EcSigno = 1\n",
    "    EcNumero = -EcNumero \n",
    "\n",
    "# 2.En el paso 2 convertimos en binario la parte entera\n",
    "EcParteEntera = int(EcNumero)  # Tomamos la parte entera de 263\n",
    "EcBinEntera = bin(EcParteEntera)[2:]  # Convertimos 263 a binario\n",
    "\n",
    "# En el paso 3 convertimos en binrio la parte decimal\n",
    "EcParteDecimal = EcNumero - EcParteEntera  # Obtenemos la parte decimal → 0.3\n",
    "EcBinDecimal = \"\"\n",
    "EcTemp = EcParteDecimal\n",
    "while len(EcBinDecimal) < 52:\n",
    "    EcTemp *= 2\n",
    "    bit = int(EcTemp)\n",
    "    EcBinDecimal += str(bit)\n",
    "    EcTemp -= bit\n",
    "    if EcTemp == 0:\n",
    "        break\n",
    "\n",
    "# En el paso 4 lo convertimos en notación científica\n",
    "EcExp = len(EcBinEntera) - 1  # Le desplazamos la coma a la izquierda hasta antes del primer bit\n",
    "EcMantisa = EcBinEntera[1:] + EcBinDecimal \n",
    "EcMantisa = EcMantisa[:52]  # Solo tomamos los primeros 23 bits para la mantisa\n",
    "\n",
    "# En el paso 5 Sumamos el exponente mas 127 para el formato IEEE 754\n",
    "EcExponente = EcExp + 1023  \n",
    "EcExponenteBin = format(EcExponente, '011b')  # Representamos el exponente en 8 bits binarios\n",
    "\n",
    "# En el ultimo paso unimos al format IEEE 754\n",
    "Ec64bits = str(EcSigno) + EcExponenteBin + EcMantisa\n",
    "# Imprimimos los resultados\n",
    "print(\"Bit del signo:\", EcSigno)\n",
    "print(\"Bits de la parte del exponente:\", EcExponenteBin)\n",
    "print(\"Bits de la parte de la mantisa:\", EcMantisa)\n",
    "print(\"IEEE 754 (32 bits):\", Ec64bits)"
   ]
  },
  {
   "cell_type": "markdown",
   "id": "1d8f0651",
   "metadata": {},
   "source": [
    "## Aritmética de dígitos finitos / de computador\n",
    "Es la representación en punto flotante y sus operaciones son:\n",
    "$$ x \\oplus y = \\text{fl}(\\text{fl}(x) + \\text{fl}(y)) $$\n",
    "\n",
    "$$ x \\ominus y = \\text{fl}(\\text{fl}(x) - \\text{fl}(y)) $$\n",
    "\n",
    "$$ x \\otimes y = \\text{fl}(\\text{fl}(x) \\times \\text{fl}(y)) $$\n",
    "\n",
    "$$ x \\oslash y = \\text{fl} \\left( \\frac{\\text{fl}(x)}{\\text{fl}(y)} \\right) $$\n"
   ]
  },
  {
   "cell_type": "code",
   "execution_count": 70,
   "id": "bc23a3a7",
   "metadata": {},
   "outputs": [
    {
     "name": "stdout",
     "output_type": "stream",
     "text": [
      "x = 3.14 → 0.314e+01\n",
      "y = 2.72 → 0.272e+01\n",
      "\n",
      "Resultados de las operaciones:\n",
      "\n",
      "x ⊕ y = 0.586e+01\n",
      "x ⊖ y = 0.42 e+00\n",
      "x ⊗ y = 0.854e+01\n",
      "x ⊘ y = 0.115e+01\n"
     ]
    }
   ],
   "source": [
    "#@autor: Estefano Condoy\n",
    "#@fecha: 2025-06-04\n",
    "#@version: 1.0\n",
    "#@asignatura: Métodos Numéricos\n",
    "\n",
    "Ec_x = 3.141592\n",
    "Ec_y = 2.718281\n",
    "\n",
    "def Ec_fl_redondeo(numero):\n",
    "    # Simulamos la aritmetica de computadora\n",
    "    if numero == 0:\n",
    "        return 0.0\n",
    "\n",
    "    negativo = False\n",
    "    if numero < 0:\n",
    "        negativo = True\n",
    "        numero = -numero\n",
    "\n",
    "    exponente = 0\n",
    "    # Normalizamos para que el numero siempre empieze en 0....( ya que la computadora solo maneja 0 y 1)\n",
    "    while numero >= 1:\n",
    "        numero = numero / 10\n",
    "        exponente += 1\n",
    "    while numero < 0.1:\n",
    "        numero = numero * 10\n",
    "        exponente -= 1\n",
    "\n",
    "    # Redondeamos a 3 cifras significativas\n",
    "    numero = int(numero * 1000 + 0.5) / 1000.0\n",
    "\n",
    "    # Reconstruye el número completo\n",
    "    numero = numero * (10 ** exponente)\n",
    "    if negativo:\n",
    "        numero = -numero\n",
    "    return numero\n",
    "\n",
    "# Definimos la función para convertir a formato científico\n",
    "def Ec_formato_cientifico(numero):\n",
    "    if numero == 0:\n",
    "        return \"0.000e+00\"\n",
    "\n",
    "    negativo = numero < 0\n",
    "    if negativo:\n",
    "        numero = -numero\n",
    "\n",
    "    exponente = 0\n",
    "    while numero >= 1:\n",
    "        numero = numero / 10\n",
    "        exponente += 1\n",
    "    while numero < 0.1:\n",
    "        numero = numero * 10\n",
    "        exponente -= 1\n",
    "\n",
    "    numero = int(numero * 1000 + 0.5) / 1000.0\n",
    "    signo = \"-\" if negativo else \"\"\n",
    "    return f\"{signo}0.{str(numero)[2:]:<3}e{exponente:+03d}\"\n",
    "\n",
    "# realizamos las operaciones\n",
    "def Ec_suma(x, y):\n",
    "    return Ec_fl_redondeo(Ec_fl_redondeo(x) + Ec_fl_redondeo(y))\n",
    "\n",
    "def Ec_resta(x, y):\n",
    "    return Ec_fl_redondeo(Ec_fl_redondeo(x) - Ec_fl_redondeo(y))\n",
    "\n",
    "def Ec_multiplicacion(x, y):\n",
    "    return Ec_fl_redondeo(Ec_fl_redondeo(x) * Ec_fl_redondeo(y))\n",
    "\n",
    "def Ec_division(x, y):\n",
    "    return Ec_fl_redondeo(Ec_fl_redondeo(x) / Ec_fl_redondeo(y))\n",
    "\n",
    "# Imprimimos el cambio a aritmetica de computadoras los datos dados.\n",
    "print(\"x =\", Ec_fl_redondeo(Ec_x), \"→\", Ec_formato_cientifico(Ec_fl_redondeo(Ec_x)))\n",
    "print(\"y =\", Ec_fl_redondeo(Ec_y), \"→\", Ec_formato_cientifico(Ec_fl_redondeo(Ec_y)))\n",
    "# Imprimimos los resultados de las operaaciones en resultado normal y tambien en formato de computadoras]\n",
    "print(\"\\nResultados de las operaciones:\")\n",
    "print(\"\\nx ⊕ y =\",Ec_formato_cientifico(Ec_suma(Ec_x, Ec_y)))\n",
    "print(\"x ⊖ y =\",Ec_formato_cientifico(Ec_resta(Ec_x, Ec_y)))\n",
    "print(\"x ⊗ y =\",Ec_formato_cientifico(Ec_multiplicacion(Ec_x, Ec_y)))\n",
    "print(\"x ⊘ y =\",Ec_formato_cientifico(Ec_division(Ec_x, Ec_y)))\n"
   ]
  }
 ],
 "metadata": {
  "kernelspec": {
   "display_name": "Python 3",
   "language": "python",
   "name": "python3"
  },
  "language_info": {
   "codemirror_mode": {
    "name": "ipython",
    "version": 3
   },
   "file_extension": ".py",
   "mimetype": "text/x-python",
   "name": "python",
   "nbconvert_exporter": "python",
   "pygments_lexer": "ipython3",
   "version": "3.12.7"
  }
 },
 "nbformat": 4,
 "nbformat_minor": 5
}
