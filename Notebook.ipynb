{
 "cells": [
  {
   "cell_type": "markdown",
   "id": "fabd3132",
   "metadata": {},
   "source": [
    "<div style=\"text-align: center;\">\n",
    "\n",
    "$$\\huge \\textcolor{red}{\\textbf{ESCUELA POLITÉCNICA NACIONAL}}$$  \n",
    "<br><br>\n",
    "\n",
    "$$\\Large \\textcolor{brown}{\\textbf{Facultad de Ingeniería en Sistemas}}$$  \n",
    "$$\\Large \\textcolor{brown}{\\textbf{Ingeniería en Ciencias Computacionales}}$$  \n",
    "$$\\Large \\textcolor{brown}{\\textbf{Métodos Numéricos}}$$  \n",
    "\n",
    "<br><br>\n",
    "\n",
    "<img src=\"MN.png\" width=\"350\"/>\n",
    "\n",
    "<br><br>\n",
    "\n",
    "$$\\Large \\textcolor{red}{\\textbf{Estudiante:}}$$  \n",
    "$$\\Large \\textbf{Estéfano Condoy}$$  \n",
    "\n",
    "<br>\n",
    "\n",
    "$$\\Large \\textcolor{red}{\\textbf{Docente:}}$$  \n",
    "$$\\Large \\textbf{Carlos Ayala}$$  \n",
    "\n",
    "<br>\n",
    "\n",
    "$$\\Large \\textcolor{red}{\\textbf{Semestre:}}$$  \n",
    "$$\\Large \\textbf{25-A}$$  \n",
    "\n",
    "</div>\n",
    "\n",
    "<div style=\"page-break-after: always;\"></div>\n",
    "\n",
    "\n",
    "<div style=\"text-align: center;\">\n",
    "\n",
    "$$\\huge \\textcolor{red}{\\textbf{U2 Preliminares A}}$$  \n",
    "<br><br>"
   ]
  },
  {
   "cell_type": "markdown",
   "id": "29af373e",
   "metadata": {},
   "source": [
    "## Métodos Analíticos\n",
    "El método analítico nos da soluciones exactas.\n",
    "Nota:Todas mis variables y funcione stendran Ec(Para hacer referencia a mi nombre Estéfano Condoy)"
   ]
  },
  {
   "cell_type": "code",
   "execution_count": 23,
   "id": "6ea4ae1e",
   "metadata": {},
   "outputs": [
    {
     "name": "stdout",
     "output_type": "stream",
     "text": [
      "Las soluciones son: [1, 3]\n"
     ]
    }
   ],
   "source": [
    "#@autor: Estefano Condoy\n",
    "#@fecha: 2025-30-04\n",
    "#@version: 1.0\n",
    "#@asignatura: Métodos Numéricos\n",
    "import sympy as sp\n",
    "\n",
    "# Definimos la variable, en este caso la 'e'\n",
    "e = sp.symbols('e')\n",
    "\n",
    "# Definimos la ecuación a resolver\n",
    "EcEcuacion = 3 + e**2 - 4*e\n",
    "\n",
    "# Resolvemos la ecuación de manera analitica \n",
    "EcSoluciones = sp.solve(EcEcuacion, e)\n",
    "\n",
    "# Imprimimos la solución de nuestra ecuación\n",
    "print(\"Las soluciones son:\", EcSoluciones)\n"
   ]
  },
  {
   "cell_type": "markdown",
   "id": "baedfde8",
   "metadata": {},
   "source": [
    "## Métodos Númericos\n",
    "Permite obtener soluciones cercanas para problemas cuya resolución exacta no es posible mediante métodos analíticos, es decir es un aproximado, se basa en calculos iterativos (Por ejemplo, método de Newton,Secante,Bisección, etc).\n",
    "Para este codigo del ejemplo, opte por investigar otro metodo aparte de los aprendido y escogi el **Método numérico de la regla del trapecio.**"
   ]
  },
  {
   "cell_type": "code",
   "execution_count": 24,
   "id": "b726db3f",
   "metadata": {},
   "outputs": [
    {
     "name": "stdout",
     "output_type": "stream",
     "text": [
      "La integral aproximada calculada por la regla del trapecio es: 0.7468180014679697\n"
     ]
    }
   ],
   "source": [
    "#@autor: Estefano Condoy\n",
    "#@fecha: 2025-30-04\n",
    "#@version: 1.0\n",
    "#@asignatura: Métodos Numéricos\n",
    "import math\n",
    "\n",
    "# Ponemos los parámetros del intervalo y el numero de trapecios.\n",
    "EcA = 0          # Límite inferior de integración\n",
    "EcB = 1          # Límite superior de integración\n",
    "EcN = 100        # Número de trapecios para dividir el intervalo\n",
    "\n",
    "# Definimos la función a integrar: f(x) = e^(-x^2)\n",
    "def EcFuncion(EcX):\n",
    "    return math.exp(-EcX**2)\n",
    "\n",
    "# Implementamos la regla del trapecio\n",
    "def EcReglaTrapecio(EcA, EcB, EcN):\n",
    "    # Calculamos la base de cada trapecio\n",
    "    EcH = (EcB - EcA) / EcN  \n",
    "    \n",
    "    # Inicializamos la suma con la mitad de la función evaluada en los extremos\n",
    "    EcSuma = 0.5 * (EcFuncion(EcA) + EcFuncion(EcB))\n",
    "\n",
    "    # Recorremos cada punto interno del intervalo [a,b]\n",
    "    for EcI in range(1, EcN):\n",
    "        # Calculamos la posición del punto i-ésimo\n",
    "        EcXI = EcA + EcI * EcH\n",
    "        # Sumamos el valor de la función en ese punto a la suma total\n",
    "        # Estos puntos tienen peso completo (1) en la fórmula\n",
    "        EcSuma += EcFuncion(EcXI)\n",
    "\n",
    "    # Multiplicamos la suma por la base de os trapecios, para obtener el área total\n",
    "    return EcSuma * EcH\n",
    "\n",
    "# Ejecutamos la función de integración\n",
    "EcIntegralAproximada = EcReglaTrapecio(EcA, EcB, EcN)\n",
    "\n",
    "# Imprimimos el resltado final\n",
    "print(f\"La integral aproximada calculada por la regla del trapecio es: {EcIntegralAproximada}\")\n"
   ]
  },
  {
   "cell_type": "markdown",
   "id": "5ef7c060",
   "metadata": {},
   "source": [
    "## Exactitud vs Precisión\n",
    "**Exactitud:** Cerca del valor real.\n",
    "\n",
    "**Presicisión:** Valores consistentes entre sí.\n",
    "\n",
    "Este ejemplo muestra cómo se puede evaluar la calidad de un conjunto de mediciones,en el código que escribi hice que se calcule  ambas usando tres mediciones simuladas y se imprime el promedio, la exactitud y la precisión para entender la diferencia entre Exactitud vs Precisión.\n"
   ]
  },
  {
   "cell_type": "code",
   "execution_count": 25,
   "id": "2f7a0b6b",
   "metadata": {},
   "outputs": [
    {
     "name": "stdout",
     "output_type": "stream",
     "text": [
      "Mediciones: 98.0 98.2 98.1\n",
      "Promedio: 98.09999999999998\n",
      "Exactitud (diferencia con el valor real): 1.90000000000002\n",
      "Precisión (diferencia entre mediciones): 0.20000000000000284\n"
     ]
    }
   ],
   "source": [
    "#@autor: Estefano Condoy\n",
    "#@fecha: 2025-30-04\n",
    "#@version: 1.0\n",
    "#@asignatura: Métodos Numéricos\n",
    "import math\n",
    "\n",
    "# Le ponemos un valor verdadero para el calculo.\n",
    "EcValorVerdadero = 100.0\n",
    "\n",
    "# Le damos tres mediciones simuladas\n",
    "EcMedicion1 = 98.0\n",
    "EcMedicion2 = 98.2\n",
    "EcMedicion3 = 98.1\n",
    "\n",
    "# Promediamos las mediciones\n",
    "EcPromedio = (EcMedicion1 + EcMedicion2 + EcMedicion3) / 3\n",
    "\n",
    "# Exactitud: Cerca del valor real\n",
    "EcExactitud = abs(EcPromedio - EcValorVerdadero)\n",
    "\n",
    "# Precisión: Valores consistentes entre sí\n",
    "EcPrecisión = max(EcMedicion1, EcMedicion2, EcMedicion3) - min(EcMedicion1, EcMedicion2, EcMedicion3)\n",
    "\n",
    "# Imprimimos los resultados\n",
    "print(\"Mediciones:\", EcMedicion1, EcMedicion2, EcMedicion3)\n",
    "print(\"Promedio:\", EcPromedio)\n",
    "print(\"Exactitud (diferencia con el valor real):\", EcExactitud)\n",
    "print(\"Precisión (diferencia entre mediciones):\", EcPrecisión)\n"
   ]
  },
  {
   "cell_type": "markdown",
   "id": "6327ee03",
   "metadata": {},
   "source": [
    "## Tipos de errores\n",
    "### Error por truncamiento\n",
    "Si un algoritmo con truncamiento fijo no se implementa correctamente, puede proporcionar resultados exactos pero con una precisión limitada.\n",
    "\n",
    "Haremos el ejemplo con pi, con 5 cifras significativas."
   ]
  },
  {
   "cell_type": "code",
   "execution_count": 32,
   "id": "ea919120",
   "metadata": {},
   "outputs": [
    {
     "name": "stdout",
     "output_type": "stream",
     "text": [
      "Truncamiento de pi a 5 cifras significativas: 3.1415\n"
     ]
    }
   ],
   "source": [
    "#@autor: Estefano Condoy\n",
    "#@fecha: 2025-30-04\n",
    "#@version: 1.0\n",
    "#@asignatura: Métodos Numéricos\n",
    "import math\n",
    "\n",
    "EcPiReal = math.pi\n",
    "EcPiStr = str(EcPiReal)\n",
    "\n",
    "# Truncar a 5 cifras significativas\n",
    "EcPiTruncado = float(EcPiStr[:6]) #Toma desde la posicion 0 hasta la posicion 5\n",
    "\n",
    "print(\"Truncamiento de pi a 5 cifras significativas:\", EcPiTruncado)\n"
   ]
  },
  {
   "cell_type": "markdown",
   "id": "e693801a",
   "metadata": {},
   "source": [
    "### Error por redondeo\n",
    "Un algoritmo con redondeo puede tener mucha aproximación pero no exactitud.\n",
    "\n",
    "Haremos el ejemplo con pi, con 5 cifras significativas."
   ]
  },
  {
   "cell_type": "code",
   "execution_count": 34,
   "id": "b3282f04",
   "metadata": {},
   "outputs": [
    {
     "name": "stdout",
     "output_type": "stream",
     "text": [
      "Redondeo de pi a 5 cifras significativas: 3.1416\n"
     ]
    }
   ],
   "source": [
    "#@autor: Estefano Condoy\n",
    "#@fecha: 2025-30-04\n",
    "#@version: 1.0\n",
    "#@asignatura: Métodos Numéricos\n",
    "import math\n",
    "\n",
    "EcPiReal = math.pi\n",
    "\n",
    "# Redondear a 5 cifras significativas -> 3.1416\n",
    "EcPiRedondeado = round(EcPiReal, 4)  # 4 decimales para total 5 cifras significativas\n",
    "\n",
    "print(\"Redondeo de pi a 5 cifras significativas:\", EcPiRedondeado)"
   ]
  },
  {
   "cell_type": "markdown",
   "id": "94fa19fd",
   "metadata": {},
   "source": [
    "## Cálculo de error\n",
    "El ejemplo se realizara para los cuatro errores con $p = \\sqrt{3}$   y $p* = 1.73205$\n",
    "\n",
    "### Error real"
   ]
  },
  {
   "cell_type": "code",
   "execution_count": 48,
   "id": "e76798ee",
   "metadata": {},
   "outputs": [
    {
     "name": "stdout",
     "output_type": "stream",
     "text": [
      "1. Error real: 8.075688771036482e-07\n",
      "2. Valor real: 1.7320508075688772\n",
      "3. Valor aproximado: 1.73205\n"
     ]
    }
   ],
   "source": [
    "#@autor: Estefano Condoy\n",
    "#@fecha: 2025-30-04\n",
    "#@version: 1.0\n",
    "#@asignatura: Métodos Numéricos\n",
    "import math\n",
    "\n",
    "# Definir los valores\n",
    "EcValorReal = math.sqrt(3) \n",
    "EcValorAprox = 1.73205# Aproximación truncada         \n",
    "\n",
    "# Calcular el error real\n",
    "EcErrorReal = EcValorReal - EcValorAprox\n",
    "print(\"1. Error real:\", EcErrorReal)\n",
    "print(\"2. Valor real:\", EcValorReal)\n",
    "print(\"3. Valor aproximado:\", EcValorAprox)\n"
   ]
  },
  {
   "cell_type": "markdown",
   "id": "c8ce3999",
   "metadata": {},
   "source": [
    "### Error absoluto"
   ]
  },
  {
   "cell_type": "code",
   "execution_count": 49,
   "id": "39cd3206",
   "metadata": {},
   "outputs": [
    {
     "name": "stdout",
     "output_type": "stream",
     "text": [
      "1. Error absoluto: 8.075688771036482e-07\n",
      "2. Valor real: 1.7320508075688772\n",
      "3. Valor aproximado: 1.73205\n"
     ]
    }
   ],
   "source": [
    "#@autor: Estefano Condoy\n",
    "#@fecha: 2025-30-04\n",
    "#@version: 1.0\n",
    "#@asignatura: Métodos Numéricos\n",
    "import math\n",
    "\n",
    "# Definir los valores reales y aproximados\n",
    "EcValorReal = math.sqrt(3)\n",
    "EcValorAprox = 1.73205 # Aproximación truncada\n",
    "\n",
    "# Calcular el error absoluto \n",
    "EcErrorAbsoluto = abs(EcValorReal - EcValorAprox)\n",
    "\n",
    "# Mostrar el resultado\n",
    "print(\"1. Error absoluto:\", EcErrorAbsoluto)\n",
    "print(\"2. Valor real:\", EcValorReal)\n",
    "print(\"3. Valor aproximado:\", EcValorAprox)\n"
   ]
  },
  {
   "cell_type": "markdown",
   "id": "48a7e9b3",
   "metadata": {},
   "source": [
    "### Error relativo"
   ]
  },
  {
   "cell_type": "code",
   "execution_count": 50,
   "id": "fb21d414",
   "metadata": {},
   "outputs": [
    {
     "name": "stdout",
     "output_type": "stream",
     "text": [
      "1. Error relativo: 4.6625010858495513e-07\n",
      "2. Valor real: 1.7320508075688772\n",
      "3. Valor aproximado: 1.73205\n"
     ]
    }
   ],
   "source": [
    "#@autor: Estefano Condoy\n",
    "#@fecha: 2025-30-04\n",
    "#@version: 1.0\n",
    "#@asignatura: Métodos Numéricos\n",
    "import math\n",
    "\n",
    "# Definir los valores\n",
    "EcValorReal = math.sqrt(3)\n",
    "EcValorAprox = 1.73205\n",
    "\n",
    "# Calcular el error relativo (error absoluto dividido por el valor real)\n",
    "EcErrorRelativo = math.fabs(EcValorReal - EcValorAprox) / EcValorReal\n",
    "print(\"1. Error relativo:\", EcErrorRelativo)\n",
    "print(\"2. Valor real:\", EcValorReal)\n",
    "print(\"3. Valor aproximado:\", EcValorAprox)"
   ]
  },
  {
   "cell_type": "markdown",
   "id": "3eb359c4",
   "metadata": {},
   "source": [
    "### Error relativo porcentual\n"
   ]
  },
  {
   "cell_type": "code",
   "execution_count": 53,
   "id": "3c820262",
   "metadata": {},
   "outputs": [
    {
     "name": "stdout",
     "output_type": "stream",
     "text": [
      "1. Error relativo porcentual: 4.6625010858495514e-05 %\n",
      "2. Valor real: 1.7320508075688772\n",
      "3. Valor aproximado: 1.73205\n"
     ]
    }
   ],
   "source": [
    "#@autor: Estefano Condoy\n",
    "#@fecha: 2025-30-04\n",
    "#@version: 1.0\n",
    "#@asignatura: Métodos Numéricos\n",
    "import math\n",
    "\n",
    "# Definir los valores\n",
    "EcValorReal = math.sqrt(3)\n",
    "EcValorAprox = 1.73205\n",
    "\n",
    "# Calcular el error relativo porcentual\n",
    "EcErrorPorcentual = (math.fabs(EcValorReal - EcValorAprox) / EcValorReal) * 100\n",
    "print(\"1. Error relativo porcentual:\", EcErrorPorcentual, \"%\")\n",
    "print(\"2. Valor real:\", EcValorReal)\n",
    "print(\"3. Valor aproximado:\", EcValorAprox)"
   ]
  },
  {
   "cell_type": "markdown",
   "id": "10af8066",
   "metadata": {},
   "source": [
    "<div style=\"text-align: center;\">\n",
    "\n",
    "$$\\huge \\textcolor{red}{\\textbf{U2 Preliminares B}}$$  \n",
    "<br><br>"
   ]
  },
  {
   "cell_type": "markdown",
   "id": "f8ab9bac",
   "metadata": {},
   "source": [
    "## Representación Numérica 32 bits\n",
    "- 1 bit se usa para el signo (0 para positivo, 1 para negativo).\n",
    "\n",
    "- 8 bits corresponden al exponente.\n",
    "\n",
    "- 23 bits se destinan a la mantisa."
   ]
  },
  {
   "cell_type": "code",
   "execution_count": null,
   "id": "a1ac29ef",
   "metadata": {},
   "outputs": [
    {
     "name": "stdout",
     "output_type": "stream",
     "text": [
      "Bit del signo: 0\n",
      "Bits de la parte del exponente: 10000111\n",
      "Bits de la parte de la mantisa: 00000111010011001100110\n",
      "IEEE 754 (32 bits): 01000011100000111010011001100110\n"
     ]
    }
   ],
   "source": [
    "#@autor: Estefano Condoy\n",
    "#@fecha: 2025-06-05\n",
    "#@version: 1.0\n",
    "#@asignatura: Métodos Numéricos\n",
    "\n",
    "# Este numero se eligio fue porque el ingeniero nos lo dio en clases\n",
    "EcNumero = 263.3 \n",
    "\n",
    "# En el paso 1 determinamos el signo del Bit\n",
    "EcSigno = 0\n",
    "if EcNumero < 0:\n",
    "    EcSigno = 1\n",
    "    EcNumero = -EcNumero \n",
    "\n",
    "# 2.En el paso 2 convertimos en binario la parte entera\n",
    "EcParteEntera = int(EcNumero)  # Tomamos la parte entera de 263\n",
    "EcBinEntera = bin(EcParteEntera)[2:]  # Convertimos 263 a binario\n",
    "\n",
    "# En el paso 3 convertimos en binrio la parte decimal\n",
    "EcParteDecimal = EcNumero - EcParteEntera  # Obtenemos la parte decimal → 0.3\n",
    "EcBinDecimal = \"\"\n",
    "EcTemp = EcParteDecimal\n",
    "while len(EcBinDecimal) < 23:\n",
    "    EcTemp *= 2\n",
    "    bit = int(EcTemp)\n",
    "    EcBinDecimal += str(bit)\n",
    "    EcTemp -= bit\n",
    "    if EcTemp == 0:\n",
    "        break\n",
    "\n",
    "# En el paso 4 lo convertimos en notación científica\n",
    "EcExp = len(EcBinEntera) - 1  # Le desplazamos la coma a la izquierda hasta antes del primer bit\n",
    "EcMantisa = EcBinEntera[1:] + EcBinDecimal \n",
    "EcMantisa = EcMantisa[:23]  # Solo tomamos los primeros 23 bits para la mantisa\n",
    "\n",
    "# En el paso 5 Sumamos el exponente mas 127 para el formato IEEE 754\n",
    "EcExponente = EcExp + 127  \n",
    "EcExponenteBin = format(EcExponente, '08b')  # Representamos el exponente en 8 bits binarios\n",
    "\n",
    "# En el ultimo paso unimos al format IEEE 754\n",
    "Ec32bits = str(EcSigno) + EcExponenteBin + EcMantisa\n",
    "# Imprimimos los resultados\n",
    "print(\"Bit del signo:\", EcSigno)\n",
    "print(\"Bits de la parte del exponente:\", EcExponenteBin)\n",
    "print(\"Bits de la parte de la mantisa:\", EcMantisa)\n",
    "print(\"IEEE 754 (32 bits):\", Ec32bits)\n"
   ]
  },
  {
   "cell_type": "markdown",
   "id": "3a84bcfc",
   "metadata": {},
   "source": [
    "## Representación Numérica 64 bits\n",
    "- 1 bit se usa para el signo (0 para positivo, 1 para negativo).\n",
    "\n",
    "- 11 bits corresponden al exponente.\n",
    "\n",
    "- 52 bits se destinan a la mantisa."
   ]
  },
  {
   "cell_type": "code",
   "execution_count": null,
   "id": "c44b477e",
   "metadata": {},
   "outputs": [
    {
     "name": "stdout",
     "output_type": "stream",
     "text": [
      "Bit del signo: 0\n",
      "Bits de la parte del exponente: 10000000111\n",
      "Bits de la parte de la mantisa: 0000011101001100110011001100110011001100110011001101\n",
      "IEEE 754 (32 bits): 0100000001110000011101001100110011001100110011001100110011001101\n"
     ]
    }
   ],
   "source": [
    "#@autor: Estefano Condoy\n",
    "#@fecha: 2025-06-05\n",
    "#@version: 1.0\n",
    "#@asignatura: Métodos Numéricos\n",
    "\n",
    "# Este numero se eligio fue porque el ingeniero nos lo dio en clases\n",
    "EcNumero = 263.3 \n",
    "\n",
    "# En el paso 1 determinamos el signo del Bit\n",
    "EcSigno = 0\n",
    "if EcNumero < 0:\n",
    "    EcSigno = 1\n",
    "    EcNumero = -EcNumero \n",
    "\n",
    "# 2.En el paso 2 convertimos en binario la parte entera\n",
    "EcParteEntera = int(EcNumero)  # Tomamos la parte entera de 263\n",
    "EcBinEntera = bin(EcParteEntera)[2:]  # Convertimos 263 a binario\n",
    "\n",
    "# En el paso 3 convertimos en binrio la parte decimal\n",
    "EcParteDecimal = EcNumero - EcParteEntera  # Obtenemos la parte decimal → 0.3\n",
    "EcBinDecimal = \"\"\n",
    "EcTemp = EcParteDecimal\n",
    "while len(EcBinDecimal) < 52:\n",
    "    EcTemp *= 2\n",
    "    bit = int(EcTemp)\n",
    "    EcBinDecimal += str(bit)\n",
    "    EcTemp -= bit\n",
    "    if EcTemp == 0:\n",
    "        break\n",
    "\n",
    "# En el paso 4 lo convertimos en notación científica\n",
    "EcExp = len(EcBinEntera) - 1  # Le desplazamos la coma a la izquierda hasta antes del primer bit\n",
    "EcMantisa = EcBinEntera[1:] + EcBinDecimal \n",
    "EcMantisa = EcMantisa[:52]  # Solo tomamos los primeros 23 bits para la mantisa\n",
    "\n",
    "# En el paso 5 Sumamos el exponente mas 127 para el formato IEEE 754\n",
    "EcExponente = EcExp + 1023  \n",
    "EcExponenteBin = format(EcExponente, '011b')  # Representamos el exponente en 8 bits binarios\n",
    "\n",
    "# En el ultimo paso unimos al format IEEE 754\n",
    "Ec64bits = str(EcSigno) + EcExponenteBin + EcMantisa\n",
    "# Imprimimos los resultados\n",
    "print(\"Bit del signo:\", EcSigno)\n",
    "print(\"Bits de la parte del exponente:\", EcExponenteBin)\n",
    "print(\"Bits de la parte de la mantisa:\", EcMantisa)\n",
    "print(\"IEEE 754 (32 bits):\", Ec64bits)"
   ]
  },
  {
   "cell_type": "markdown",
   "id": "1d8f0651",
   "metadata": {},
   "source": [
    "## Aritmética de dígitos finitos / de computador\n",
    "Es la representación en punto flotante y sus operaciones son:\n",
    "$$ x \\oplus y = \\text{fl}(\\text{fl}(x) + \\text{fl}(y)) $$\n",
    "\n",
    "$$ x \\ominus y = \\text{fl}(\\text{fl}(x) - \\text{fl}(y)) $$\n",
    "\n",
    "$$ x \\otimes y = \\text{fl}(\\text{fl}(x) \\times \\text{fl}(y)) $$\n",
    "\n",
    "$$ x \\oslash y = \\text{fl} \\left( \\frac{\\text{fl}(x)}{\\text{fl}(y)} \\right) $$\n"
   ]
  },
  {
   "cell_type": "code",
   "execution_count": null,
   "id": "bc23a3a7",
   "metadata": {},
   "outputs": [
    {
     "name": "stdout",
     "output_type": "stream",
     "text": [
      "x = 3.14 → 0.314e+01\n",
      "y = 2.72 → 0.272e+01\n",
      "\n",
      "Resultados de las operaciones:\n",
      "\n",
      "x ⊕ y = 0.586e+01\n",
      "x ⊖ y = 0.42 e+00\n",
      "x ⊗ y = 0.854e+01\n",
      "x ⊘ y = 0.115e+01\n"
     ]
    }
   ],
   "source": [
    "#@autor: Estefano Condoy\n",
    "#@fecha: 2025-06-05\n",
    "#@version: 1.0\n",
    "#@asignatura: Métodos Numéricos\n",
    "\n",
    "Ec_x = 3.141592\n",
    "Ec_y = 2.718281\n",
    "\n",
    "def Ec_fl_redondeo(numero):\n",
    "    # Simulamos la aritmetica de computadora\n",
    "    if numero == 0:\n",
    "        return 0.0\n",
    "\n",
    "    negativo = False\n",
    "    if numero < 0:\n",
    "        negativo = True\n",
    "        numero = -numero\n",
    "\n",
    "    exponente = 0\n",
    "    # Normalizamos para que el numero siempre empieze en 0....( ya que la computadora solo maneja 0 y 1)\n",
    "    while numero >= 1:\n",
    "        numero = numero / 10\n",
    "        exponente += 1\n",
    "    while numero < 0.1:\n",
    "        numero = numero * 10\n",
    "        exponente -= 1\n",
    "\n",
    "    # Redondeamos a 3 cifras significativas\n",
    "    numero = int(numero * 1000 + 0.5) / 1000.0\n",
    "\n",
    "    # Reconstruye el número completo\n",
    "    numero = numero * (10 ** exponente)\n",
    "    if negativo:\n",
    "        numero = -numero\n",
    "    return numero\n",
    "\n",
    "# Definimos la función para convertir a formato científico\n",
    "def Ec_formato_cientifico(numero):\n",
    "    if numero == 0:\n",
    "        return \"0.000e+00\"\n",
    "\n",
    "    negativo = numero < 0\n",
    "    if negativo:\n",
    "        numero = -numero\n",
    "\n",
    "    exponente = 0\n",
    "    while numero >= 1:\n",
    "        numero = numero / 10\n",
    "        exponente += 1\n",
    "    while numero < 0.1:\n",
    "        numero = numero * 10\n",
    "        exponente -= 1\n",
    "\n",
    "    numero = int(numero * 1000 + 0.5) / 1000.0\n",
    "    signo = \"-\" if negativo else \"\"\n",
    "    return f\"{signo}0.{str(numero)[2:]:<3}e{exponente:+03d}\"\n",
    "\n",
    "# realizamos las operaciones\n",
    "def Ec_suma(x, y):\n",
    "    return Ec_fl_redondeo(Ec_fl_redondeo(x) + Ec_fl_redondeo(y))\n",
    "\n",
    "def Ec_resta(x, y):\n",
    "    return Ec_fl_redondeo(Ec_fl_redondeo(x) - Ec_fl_redondeo(y))\n",
    "\n",
    "def Ec_multiplicacion(x, y):\n",
    "    return Ec_fl_redondeo(Ec_fl_redondeo(x) * Ec_fl_redondeo(y))\n",
    "\n",
    "def Ec_division(x, y):\n",
    "    return Ec_fl_redondeo(Ec_fl_redondeo(x) / Ec_fl_redondeo(y))\n",
    "\n",
    "# Imprimimos el cambio a aritmetica de computadoras los datos dados.\n",
    "print(\"x =\", Ec_fl_redondeo(Ec_x), \"→\", Ec_formato_cientifico(Ec_fl_redondeo(Ec_x)))\n",
    "print(\"y =\", Ec_fl_redondeo(Ec_y), \"→\", Ec_formato_cientifico(Ec_fl_redondeo(Ec_y)))\n",
    "# Imprimimos los resultados de las operaaciones en resultado normal y tambien en formato de computadoras]\n",
    "print(\"\\nResultados de las operaciones:\")\n",
    "print(\"\\nx ⊕ y =\",Ec_formato_cientifico(Ec_suma(Ec_x, Ec_y)))\n",
    "print(\"x ⊖ y =\",Ec_formato_cientifico(Ec_resta(Ec_x, Ec_y)))\n",
    "print(\"x ⊗ y =\",Ec_formato_cientifico(Ec_multiplicacion(Ec_x, Ec_y)))\n",
    "print(\"x ⊘ y =\",Ec_formato_cientifico(Ec_division(Ec_x, Ec_y)))\n"
   ]
  },
  {
   "cell_type": "markdown",
   "id": "8a542000",
   "metadata": {},
   "source": [
    "## Convergencia, Divergencia y Tolerancia\n",
    "- **Convergencia:**  Al aumentar el número de iteraciones, los resultados se acerca a la solución exacta.\n",
    "- **Divergencia:** Si los Resultados se alejan o nunca se estabilizan.\n",
    "- **Tolerancia:** Es la cantidad de error que se permite en la solución, o tambien se utilizan los criterios de parada."
   ]
  },
  {
   "cell_type": "code",
   "execution_count": null,
   "id": "72ba4c9f",
   "metadata": {},
   "outputs": [
    {
     "data": {
      "image/png": "[encoded data removed]",
      "text/plain": [
       "<Figure size 1100x500 with 1 Axes>"
      ]
     },
     "metadata": {},
     "output_type": "display_data"
    }
   ],
   "source": [
    "#@autor: Estefano Condoy\n",
    "#@fecha: 2025-06-05\n",
    "#@version: 1.0\n",
    "#@asignatura: Métodos Numéricos\n",
    "\n",
    "import matplotlib.pyplot as plt # Utilizo esta libreria solo para poder graficar.\n",
    "\n",
    "Ec_solucion = 2.0\n",
    "Ec_tolerancia = 0.01\n",
    "Ec_iteraciones = list(range(5, 18))\n",
    "\n",
    "# Convergencia: se acerca a la solución\n",
    "Ec_convergencia = [2 + 5 / e for e in Ec_iteraciones]\n",
    "\n",
    "# Divergencia: se aleja de la solución\n",
    "Ec_divergencia = [1 + e * 3 for e in Ec_iteraciones]\n",
    "\n",
    "# Aqui estaran las lineas de referencia\n",
    "Ec_sol_line = [Ec_solucion] * len(Ec_iteraciones)\n",
    "Ec_tolerancia_sup = [Ec_solucion + Ec_tolerancia] * len(Ec_iteraciones)\n",
    "Ec_tolerancia_inf = [Ec_solucion - Ec_tolerancia] * len(Ec_iteraciones)\n",
    "\n",
    "# Gráfica\n",
    "plt.figure(figsize=(11, 5))\n",
    "plt.plot(Ec_iteraciones, Ec_convergencia, color='red', label='Convergencia')\n",
    "plt.plot(Ec_iteraciones, Ec_divergencia, color='black', label='Divergencia')\n",
    "plt.plot(Ec_iteraciones, Ec_sol_line, 'g--', label='Solución Exacta')\n",
    "plt.plot(Ec_iteraciones, Ec_tolerancia_sup, 'r:', label='Tolerancia ±0.01')\n",
    "plt.plot(Ec_iteraciones, Ec_tolerancia_inf, 'r:')\n",
    "\n",
    "plt.title(\"Convergencia, Divergencia y Tolerancia – Estefano Condoy\")\n",
    "plt.xlabel(\"Iteración\")\n",
    "plt.ylabel(\"Valor Aproximado\")\n",
    "plt.grid(True)\n",
    "plt.legend()\n",
    "plt.tight_layout()\n",
    "plt.show()\n"
   ]
  },
  {
   "cell_type": "markdown",
   "id": "3ce7e0ca",
   "metadata": {},
   "source": [
    "## Criterios de parada\n",
    "\n",
    "1. **Error absoluto**  \n",
    "   $$ |x_{n} - x_{n-1}| < \\varepsilon $$\n",
    "\n",
    "2. **Error relativo**  \n",
    "   $$ \\frac{|x_{n+1} - x_n|}{|x_{n+1}|} < \\varepsilon $$\n",
    "\n",
    "3. **Número máximo de iteraciones**  \n",
    "   $$ K \\geq i $$\n",
    "\n",
    "4. **Tiempo de ejecución máximo**  \n",
    "   - Se detiene si el tiempo total excede un límite predefinido **T**.\n"
   ]
  },
  {
   "cell_type": "code",
   "execution_count": null,
   "id": "f5e97db8",
   "metadata": {},
   "outputs": [
    {
     "name": "stdout",
     "output_type": "stream",
     "text": [
      "Iteración 1: x=1.500000, f(x)=2.500000e-01, error_abs=5.000000e-01, error_rel=3.333333e-01, tiempo=0.00s\n",
      "Iteración 2: x=1.250000, f(x)=-4.375000e-01, error_abs=2.500000e-01, error_rel=2.000000e-01, tiempo=0.00s\n",
      "Iteración 3: x=1.375000, f(x)=-1.093750e-01, error_abs=1.250000e-01, error_rel=9.090909e-02, tiempo=0.00s\n",
      "Iteración 4: x=1.437500, f(x)=6.640625e-02, error_abs=6.250000e-02, error_rel=4.347826e-02, tiempo=0.00s\n",
      "Iteración 5: x=1.406250, f(x)=-2.246094e-02, error_abs=3.125000e-02, error_rel=2.222222e-02, tiempo=0.00s\n",
      "Parada por número máximo de iteraciones\n",
      "Raíz aproximada: 1.40625\n"
     ]
    }
   ],
   "source": [
    "#@autor: Estefano Condoy\n",
    "#@fecha: 2025-06-05\n",
    "#@version: 1.0\n",
    "#@asignatura: Métodos Numéricos\n",
    "import time\n",
    "\n",
    "def Ec_f(x):\n",
    "    # Función x^2 - 2\n",
    "    return x**2 - 2\n",
    "\n",
    "def Ec_biseccion(Ec_a, Ec_b, Ec_K=5, Ec_epsilon_abs=1e-5, Ec_epsilon_rel=1e-5, Ec_epsilon_func=1e-5, Ec_T=1):\n",
    "    Ec_start_time = time.time()\n",
    "\n",
    "    if Ec_f(Ec_a)*Ec_f(Ec_b) >= 0:\n",
    "        print(\"Error: f(a) y f(b) deben tener signos opuestos\")\n",
    "        return None\n",
    "\n",
    "    Ec_x_anterior = Ec_a\n",
    "    for Ec_i in range(1, Ec_K+1):\n",
    "        Ec_x_nuevo = (Ec_a + Ec_b) / 2\n",
    "        Ec_f_xnuevo = Ec_f(Ec_x_nuevo)\n",
    "\n",
    "        # Criterios de parada\n",
    "        Ec_error_abs = abs(Ec_x_nuevo - Ec_x_anterior)\n",
    "        Ec_error_rel = Ec_error_abs / abs(Ec_x_nuevo) if Ec_x_nuevo != 0 else float('inf')\n",
    "        Ec_tiempo_transcurrido = time.time() - Ec_start_time\n",
    "\n",
    "        print(f\"Iteración {Ec_i}: x={Ec_x_nuevo:.6f}, f(x)={Ec_f_xnuevo:.6e}, error_abs={Ec_error_abs:.6e}, error_rel={Ec_error_rel:.6e}, tiempo={Ec_tiempo_transcurrido:.2f}s\")\n",
    "\n",
    "        if Ec_error_abs < Ec_epsilon_abs:\n",
    "            print(\"Parada por error absoluto\")\n",
    "            return Ec_x_nuevo\n",
    "        if Ec_error_rel < Ec_epsilon_rel:\n",
    "            print(\"Parada por error relativo\")\n",
    "            return Ec_x_nuevo\n",
    "        if abs(Ec_f_xnuevo) < Ec_epsilon_func:\n",
    "            print(\"Parada por valor de función pequeño\")\n",
    "            return Ec_x_nuevo\n",
    "        if Ec_tiempo_transcurrido > Ec_T:\n",
    "            print(\"Parada por tiempo máximo\")\n",
    "            return Ec_x_nuevo\n",
    "\n",
    "        # Actualizar intervalo\n",
    "        if Ec_f(Ec_a)*Ec_f_xnuevo < 0:\n",
    "            Ec_b = Ec_x_nuevo\n",
    "        else:\n",
    "            Ec_a = Ec_x_nuevo\n",
    "        \n",
    "        Ec_x_anterior = Ec_x_nuevo\n",
    "\n",
    "    print(\"Parada por número máximo de iteraciones\")\n",
    "    return Ec_x_nuevo\n",
    "\n",
    "Ec_raiz = Ec_biseccion(1, 2) # Definimos el intervalo [1, 2] para la bisecciónS\n",
    "print(f\"Raíz aproximada: {Ec_raiz}\")\n"
   ]
  },
  {
   "cell_type": "markdown",
   "id": "01d1aeb2",
   "metadata": {},
   "source": [
    "<div style=\"text-align: center;\">\n",
    "\n",
    "$$\\huge \\textcolor{red}{\\textbf{U3 Soluciones de sistemas de\n",
    "ecuaciones no lineales A}}$$  \n",
    "<br><br>"
   ]
  },
  {
   "cell_type": "markdown",
   "id": "04c8fbdf",
   "metadata": {},
   "source": [
    "## Método de la Bisección\n",
    "\n",
    "El **Método de Bisección** se fundamenta en el **Teorema del Valor Intermedio**, el cual asegura la existencia de una raíz dentro de un intervalo cerrado \\([a, b]\\), siempre que la función \\( f(x) \\) sea continua en dicho intervalo y se cumpla la condición:\n",
    "\n",
    "$$ f(a) \\cdot f(b) < 0 $$\n",
    "\n",
    "### **Fórmula del punto medio**\n",
    "Para cada iteración, se calcula el punto medio \\( m \\):\n",
    "\n",
    "$$ m = \\frac{a + b}{2} $$\n",
    "\n",
    "Con esto evaluamos \\( f(m) \\):\n",
    "\n",
    "### **Condiciones de evaluación**\n",
    "- **Si \\( f(m) = 0 \\):** \\( m \\) es una **raíz exacta**.\n",
    "- **Si \\( f(a) * f(m) < 0 \\):** la raíz está en el intervalo \\([a, m]\\).\n",
    "- **Si \\( f(b) * f(m) > 0 \\):** la raíz está en el intervalo \\([m, b]\\).\n",
    "\n",
    "Se repite el procedimiento sobre el nuevo intervalo hasta que el **error absoluto** sea inferior a una **tolerancia** previamente establecida.\n",
    "\n",
    "**Ejemplo:**\n",
    "Use el método de bisección para encontrar soluciones precisas dentro de \\( 10^{-2} \\) para:\n",
    "\n",
    "$$ x^3 - 7x^2 + 14x - 6 = 0 $$\n",
    "Intervalo :  \\( [0, 1] \\)\n"
   ]
  },
  {
   "cell_type": "code",
   "execution_count": 119,
   "id": "ca270723",
   "metadata": {},
   "outputs": [
    {
     "name": "stdout",
     "output_type": "stream",
     "text": [
      "Iter  EcA         EcB         EcC         EcF(A)      EcF(B)      EcF(C)      Tolerancia  \n",
      "------------------------------------------------------------------------------------------\n",
      "1     0.000000    1.000000    0.500000    -6.000000   2.000000    -0.625000   0.500000    \n",
      "2     0.500000    1.000000    0.750000    -0.625000   2.000000    0.984375    0.250000    \n",
      "3     0.500000    0.750000    0.625000    -0.625000   0.984375    0.259766    0.125000    \n",
      "4     0.500000    0.625000    0.562500    -0.625000   0.259766    -0.161865   0.062500    \n",
      "5     0.562500    0.625000    0.593750    -0.161865   0.259766    0.054047    0.031250    \n",
      "6     0.562500    0.593750    0.578125    -0.161865   0.054047    -0.052624   0.015625    \n",
      "7     0.578125    0.593750    0.585938    -0.052624   0.054047    0.001031    0.007812    \n",
      "\n",
      "El Método de Bisección encontró la raíz.\n",
      "Raíz aproximada: 0.5859375000\n"
     ]
    }
   ],
   "source": [
    "# @autor: Estefano Condoy\n",
    "# @fecha: 2025-14-05\n",
    "# @version: 1.0\n",
    "# @asignatura: Métodos Numéricos\n",
    "\n",
    "import math\n",
    "\n",
    "def EcFuncion(x):\n",
    "    return x**3 - 7*x**2 + 14*x - 6  # Esta función es de un deber\n",
    "\n",
    "cA = 0           # Límite izquierdo\n",
    "EcB = 1           # Límite derecho\n",
    "EcTOL = 1e-2      # Tolerancia\n",
    "EcN0 = 50         # Número máximo de iteraciones\n",
    "\n",
    "\n",
    "def EcBiseccion(EcA, EcB, EcTOL, EcN0):\n",
    "    EcFA = EcFuncion(EcA)\n",
    "    \n",
    "    print(f\"{'Iter':<6}{'EcA':<12}{'EcB':<12}{'EcC':<12}{'EcF(A)':<12}{'EcF(B)':<12}{'EcF(C)':<12}{'Tolerancia':<12}\")\n",
    "    print(\"-\" * 90)\n",
    "    \n",
    "    for EcI in range(1, EcN0 + 1):\n",
    "        EcC = (EcA + EcB) / 2\n",
    "        EcFC = EcFuncion(EcC)\n",
    "        EcFB = EcFuncion(EcB)\n",
    "        EcError = abs(EcB - EcA) / 2\n",
    "\n",
    "        print(f\"{EcI:<6}{EcA:<12.6f}{EcB:<12.6f}{EcC:<12.6f}{EcFA:<12.6f}{EcFB:<12.6f}{EcFC:<12.6f}{EcError:<12.6f}\")\n",
    "\n",
    "        if EcFC == 0 or EcError < EcTOL:\n",
    "            print(\"\\nEl Método de Bisección encontró la raíz.\")\n",
    "            print(f\"Raíz aproximada: {EcC:.10f}\")\n",
    "            return\n",
    "\n",
    "        if EcFA * EcFC > 0:\n",
    "            EcA = EcC\n",
    "            EcFA = EcFC\n",
    "        else:\n",
    "            EcB = EcC\n",
    "\n",
    "    print(\"\\nEl método fracasó después de\", EcN0, \"iteraciones.\")\n",
    "\n",
    "EcBiseccion(EcA, EcB, EcTOL, EcN0)"
   ]
  },
  {
   "cell_type": "markdown",
   "id": "7e8b997a",
   "metadata": {},
   "source": [
    "<div style=\"text-align: center;\">\n",
    "\n",
    "$$\\huge \\textcolor{red}{\\textbf{U3 Soluciones de sistemas de\n",
    "ecuaciones no lineales B}}$$  \n",
    "<br><br>"
   ]
  },
  {
   "cell_type": "markdown",
   "id": "1d7b28d4",
   "metadata": {},
   "source": [
    "## Método de Newton (Newton-Raphson)  \n",
    "\n",
    "El método de **Newton-Raphson** es un procedimiento iterativo que obtiene aproximaciones a la raíz de una función no lineal \\( f(x) = 0 \\).  \n",
    "\n",
    "Este método exige que la función sea **diferenciable**, ya que se fundamenta en la aproximación mediante su **tangente lineal**.  \n",
    "\n",
    "### **Fórmula iterativa**\n",
    "$$ x_n = x_{n-1} - \\frac{f(x_{n-1})}{f'(x_{n-1})}, \\quad n \\geq 1 $$\n",
    "\n",
    "Siempre inicia con un **valor inicial** y emplea la **derivada** de la función para aproximarse gradualmente a la raíz.  \n",
    "\n",
    "Su **convergencia cuadrática** es muy acelerada, siempre que la estimación inicial sea suficientemente cercana a la raíz y la función sea distinta de 0.\n"
   ]
  },
  {
   "cell_type": "markdown",
   "id": "9a17da59",
   "metadata": {},
   "source": [
    "Ejemplo:\n",
    "Dada la función:  \n",
    "$$ f(x) = x^4 - x - 1 $$  \n",
    "\n",
    "Con valor inicial:  \n",
    "$$ p_0 = 1 $$  \n",
    "\n",
    "Use el **Método de Newton** para obtener soluciones precisas con una tolerancia de:  \n",
    "$$ \\varepsilon = 10^{-6} $$\n"
   ]
  },
  {
   "cell_type": "code",
   "execution_count": 121,
   "id": "220a7e96",
   "metadata": {},
   "outputs": [
    {
     "name": "stdout",
     "output_type": "stream",
     "text": [
      "n     EcXn-1      EcF(EcXn-1)    EcF'(EcXn-1)   EcXn        Tolerancia  \n",
      "---------------------------------------------------------------------------\n",
      "1     1.000000    -1.000000      3.000000       1.333333    0.333333    \n",
      "2     1.333333    0.827160       8.481481       1.235808    0.097525    \n",
      "3     1.235808    0.096596       6.549407       1.221059    0.014749    \n",
      "4     1.221059    0.001977       6.282323       1.220744    0.000315    \n",
      "5     1.220744    0.000001       6.276693       1.220744    0.000000    \n",
      "\n",
      "El método de Newton-Raphson encontro la raíz.\n",
      "Raíz aproximada: 1.2207440846\n"
     ]
    }
   ],
   "source": [
    "# @autor: Estefano Condoy\n",
    "# @fecha: 2025-16-05\n",
    "# @versión: 1.0\n",
    "# @asignatura: Métodos Numéricos\n",
    "\n",
    "import math\n",
    "\n",
    "def EcFuncion(x):\n",
    "    return x**4-x-1\n",
    "\n",
    "def EcDerivada(x):\n",
    "    return 4*x**3 - 1\n",
    "\n",
    "# Codificamos el método de Newton-Raphson \n",
    "def EcNewton(EcP0, EcTOL, EcN0):\n",
    "    print(f\"{'n':<6}{'EcXn-1':<12}{'EcF(EcXn-1)':<15}{'EcF\\'(EcXn-1)':<15}{'EcXn':<12}{'Tolerancia':<12}\")\n",
    "    print(\"-\" * 75)\n",
    "    \n",
    "    for EcI in range(1, EcN0 + 1):\n",
    "        EcF0 = EcFuncion(EcP0)\n",
    "        EcDF0 = EcDerivada(EcP0)\n",
    "        \n",
    "        if EcDF0 == 0:\n",
    "            print(\"Error: Derivada cero. No se puede continuar.\")\n",
    "            return\n",
    "        \n",
    "        EcP = EcP0 - EcF0 / EcDF0\n",
    "        EcError = abs(EcP - EcP0)\n",
    "        \n",
    "        print(f\"{EcI:<6}{EcP0:<12.6f}{EcF0:<15.6f}{EcDF0:<15.6f}{EcP:<12.6f}{EcError:<12.6f}\")\n",
    "\n",
    "        if EcError < EcTOL:\n",
    "            print(\"\\nEl método de Newton-Raphson encontro la raíz.\")\n",
    "            print(f\"Raíz aproximada: {EcP:.10f}\")\n",
    "            return\n",
    "\n",
    "        EcP0 = EcP\n",
    "\n",
    "    print(\"\\nEl método falló después de\", EcN0, \"iteraciones.\")\n",
    "\n",
    "EcP0 = 1        # Aproximación inicial\n",
    "EcTOL = 1e-6      # Tolerancia\n",
    "EcN0 = 50         # Máximo número de iteraciones\n",
    "\n",
    "EcNewton(EcP0, EcTOL, EcN0)\n"
   ]
  },
  {
   "cell_type": "markdown",
   "id": "eafc3dd0",
   "metadata": {},
   "source": [
    "## Método de la Secante\n",
    "\n",
    "El **Método de la Secante** es una variante del **Método de Newton**, pero en lugar de utilizar la derivada, emplea una aproximación basada en dos puntos cercanos de la función.  \n",
    "\n",
    "### **Fórmula iterativa**\n",
    "$$ x_n = x_{n-1} - f(x_{n-1}) \\times \\frac{x_{n-1} - x_{n-2}}{f(x_{n-1}) - f(x_{n-2})} $$\n",
    "\n",
    "### **Pasos del método**\n",
    "- Se eligen **dos valores iniciales** dentro del intervalo de interés.\n",
    "- Se calcula el siguiente valor utilizando la ecuación iterativa.\n",
    "- Se genera una **secuencia de valores** que se aproxima a la raíz de la ecuación.\n",
    "- **El algoritmo se detiene** cuando se alcanza la raíz o una aproximación que cumple con un criterio de precisión, como **tolerancia** o otro criterio de parada.\n"
   ]
  },
  {
   "cell_type": "markdown",
   "id": "8771764c",
   "metadata": {},
   "source": [
    "Ejemplo:\n",
    "Dada la función:  \n",
    "$$ f(x) = x^4 - x - 1 $$  \n",
    "\n",
    "Con valor inicial:  \n",
    "$$ p_0 = 1     p_1 = 1.4 $$  \n",
    "\n",
    "Use el **Método de la secante** para obtener soluciones precisas con una tolerancia de:  \n",
    "$$ \\varepsilon = 10^{-6} $$"
   ]
  },
  {
   "cell_type": "code",
   "execution_count": null,
   "id": "d018735e",
   "metadata": {},
   "outputs": [
    {
     "name": "stdout",
     "output_type": "stream",
     "text": [
      "n-2         n-1         EcF(n-2)       EcF(n-1)       n           Tolerancia  \n",
      "--------------------------------------------------------------------------------\n",
      "1.000000    1.400000    -1.000000      1.441600       1.163827    0.236173    \n",
      "1.400000    1.163827    1.441600       -0.329175      1.207730    0.043903    \n",
      "1.163827    1.207730    -0.329175      -0.080182      1.221868    0.014138    \n",
      "1.207730    1.221868    -0.080182      0.007065       1.220723    0.001145    \n",
      "1.221868    1.220723    0.007065       -0.000132      1.220744    0.000021    \n",
      "1.220723    1.220744    -0.000132      -0.000000      1.220744    0.000000    \n",
      "\n",
      "El método de la Secante fue exitoso.\n",
      "Raíz aproximada: 1.2207440846\n"
     ]
    }
   ],
   "source": [
    "# @autor: Estefano Condoy\n",
    "# @fecha: 2025-14-05\n",
    "# @versión: 1.0\n",
    "# @asignatura: Métodos Numéricos\n",
    "\n",
    "import math\n",
    "\n",
    "def EcFuncion(x):\n",
    "    return x**4-x-1\n",
    "\n",
    "# Codificar método de la secante\n",
    "def EcSecante(EcP0, EcP1, EcTOL, EcN0):\n",
    "    EcQ0 = EcFuncion(EcP0)\n",
    "    EcQ1 = EcFuncion(EcP1)\n",
    "\n",
    "    print(f\"{'n-2':<12}{'n-1':<12}{'EcF(n-2)':<15}{'EcF(n-1)':<15}{'n':<12}{'Tolerancia':<12}\")\n",
    "    print(\"-\" * 80)\n",
    "\n",
    "    for EcI in range(2, EcN0 + 1):\n",
    "        if (EcQ1 - EcQ0) == 0:\n",
    "            print(\"Error: División por cero (EcQ1 - EcQ0 = 0)\")\n",
    "            return\n",
    "\n",
    "        EcP = EcP1 - EcQ1 * (EcP1 - EcP0) / (EcQ1 - EcQ0)\n",
    "        EcError = abs(EcP - EcP1)\n",
    "\n",
    "        print(f\"{EcP0:<12.6f}{EcP1:<12.6f}{EcQ0:<15.6f}{EcQ1:<15.6f}{EcP:<12.6f}{EcError:<12.6f}\")\n",
    "\n",
    "        if EcError < EcTOL:\n",
    "            print(\"\\nEl método de la Secante fue exitoso.\")\n",
    "            print(f\"Raíz aproximada: {EcP:.10f}\")\n",
    "            return\n",
    "\n",
    "        # Actualizamos los valores para la siguiente iteración\n",
    "        EcP0, EcQ0 = EcP1, EcQ1\n",
    "        EcP1, EcQ1 = EcP, EcFuncion(EcP)\n",
    "\n",
    "    print(\"\\nEl método falló después de\", EcN0, \"iteraciones.\")\n",
    "\n",
    "EcP0 = 1.0        # Aproximación inicial n-2\n",
    "EcP1 = 1.4        # Aproximación inicial n-1\n",
    "EcTOL = 1e-6      # Tolerancia\n",
    "EcN0 = 50         # Número máximo de iteraciones\n",
    "\n",
    "EcSecante(EcP0, EcP1, EcTOL, EcN0)\n"
   ]
  },
  {
   "cell_type": "markdown",
   "id": "7786f079",
   "metadata": {},
   "source": [
    "<div style=\"text-align: center;\">\n",
    "\n",
    "$$\\huge \\textcolor{red}{\\textbf{U3 Soluciones de sistemas de\n",
    "ecuaciones no lineales C}}$$  \n",
    "<br><br>"
   ]
  },
  {
   "cell_type": "markdown",
   "id": "e0136edc",
   "metadata": {},
   "source": [
    "## Método de Posición Falsa (Regula Falsi)"
   ]
  },
  {
   "cell_type": "markdown",
   "id": "907bcc6f",
   "metadata": {},
   "source": [
    "\n",
    "Este método mantiene las propiedades del **Método de Bisección** y la **fórmula iterativa de la Secante**, pero se diferencia en la forma de encontrar nuevos intervalos.  \n",
    "\n",
    "A partir de **dos puntos iniciales**, se traza una **recta secante** y se determina su **intersección con el eje \\( x \\)**, lo que permite una aproximación más rápida a la raíz.\n",
    "\n",
    "### Fórmula iterativa\n",
    "$$ x_n = x_{n-1} - f(x_{n-1}) \\times \\frac{x_{n-1} - x_{n-2}}{f(x_{n-1}) - f(x_{n-2})} $$\n",
    "\n",
    "Se verifica la condición:\n",
    "$$ \\text{sgn} f(p_2) \\times \\text{sgn} f(p_1) < 0 $$\n",
    "\n",
    "### Pasos del método\n",
    "- Se eligen **dos valores iniciales** \\( p_0 \\) y \\( p_1 \\) dentro del intervalo de interés, y se traza una **recta secante** entre ellos.\n",
    "- Se verifica que \\( f(p_0) \\) y \\( f(p_1) \\) tengan **signos opuestos**, lo que asegura la existencia de una **raíz aproximada en el intervalo**.\n",
    "\n"
   ]
  },
  {
   "cell_type": "markdown",
   "id": "32865fe6",
   "metadata": {},
   "source": [
    "Ejemplo:\n",
    "Dada la función:  \n",
    "$$ f(x) = x^4 - x - 1 $$  \n",
    "\n",
    "Con valor inicial:  \n",
    "$$ p_0 = 1     p_1 = 1.4 $$  \n",
    "\n",
    "Use el **Método de la Posición Falsa** para obtener soluciones precisas con una tolerancia de:  \n",
    "$$ \\varepsilon = 10^{-6} $$"
   ]
  },
  {
   "cell_type": "code",
   "execution_count": 131,
   "id": "54496c0d",
   "metadata": {},
   "outputs": [
    {
     "name": "stdout",
     "output_type": "stream",
     "text": [
      "n-2         n-1         f(n-2)         f(n-1)         n           Error       \n",
      "--------------------------------------------------------------------------------\n",
      "1.000000    1.400000    -1.000000      1.441600       1.163827    0.236173    \n",
      "1.400000    1.163827    1.441600       -0.329175      1.207730    0.043903    \n",
      "1.400000    1.207730    1.441600       -0.080182      1.217861    0.010131    \n",
      "1.400000    1.217861    1.441600       -0.018025      1.220110    0.002249    \n",
      "1.400000    1.220110    1.441600       -0.003978      1.220605    0.000495    \n",
      "1.400000    1.220605    1.441600       -0.000874      1.220714    0.000109    \n",
      "1.400000    1.220714    1.441600       -0.000192      1.220737    0.000024    \n",
      "1.400000    1.220737    1.441600       -0.000042      1.220743    0.000005    \n",
      "1.400000    1.220743    1.441600       -0.000009      1.220744    0.000001    \n",
      "1.400000    1.220744    1.441600       -0.000002      1.220744    0.000000    \n",
      "\n",
      "El método de la Posición Falsa fue exitoso.\n",
      "Raíz aproximada: 1.2207440136\n"
     ]
    }
   ],
   "source": [
    "# @autor: Estefano Condoy\n",
    "# @fecha: 2025-14-05\n",
    "# @versión: 1.0\n",
    "# @asignatura: Métodos Numéricos\n",
    "\n",
    "import math\n",
    "\n",
    "def EcFuncion(x):\n",
    "    return x**4 - x - 1\n",
    "\n",
    "# Método de la posición falsa (Regula Falsi)\n",
    "def EcPosicionFalsa(EcP0, EcP1, EcTOL, EcN0):\n",
    "    EcQ0 = EcFuncion(EcP0)\n",
    "    EcQ1 = EcFuncion(EcP1)\n",
    "\n",
    "    print(f\"{'n-2':<12}{'n-1':<12}{'f(n-2)':<15}{'f(n-1)':<15}{'n':<12}{'Error':<12}\")\n",
    "    print(\"-\" * 80)\n",
    "\n",
    "    for EcI in range(2, EcN0 + 1):\n",
    "        if (EcQ1 - EcQ0) == 0:\n",
    "            print(\"Error: División por cero (EcQ1 - EcQ0 = 0)\")\n",
    "            return\n",
    "\n",
    "        EcP = EcP1 - EcQ1 * (EcP1 - EcP0) / (EcQ1 - EcQ0)\n",
    "        EcError = abs(EcP - EcP1)\n",
    "\n",
    "        print(f\"{EcP0:<12.6f}{EcP1:<12.6f}{EcQ0:<15.6f}{EcQ1:<15.6f}{EcP:<12.6f}{EcError:<12.6f}\")\n",
    "\n",
    "        if EcError < EcTOL:\n",
    "            print(\"\\nEl método de la Posición Falsa fue exitoso.\")\n",
    "            print(f\"Raíz aproximada: {EcP:.10f}\")\n",
    "            return\n",
    "\n",
    "        EcQ = EcFuncion(EcP)\n",
    "\n",
    "        # Verificamos el signoS\n",
    "        if EcQ * EcQ1 < 0:\n",
    "            EcP0 = EcP1\n",
    "            EcQ0 = EcQ1\n",
    "\n",
    "        EcP1 = EcP\n",
    "        EcQ1 = EcQ\n",
    "\n",
    "    print(\"\\nEl método falló después de\", EcN0, \"iteraciones.\")\n",
    "\n",
    "# Parámetros de entrada\n",
    "EcP0 = 1.0        # Aproximación inicial p0\n",
    "EcP1 = 1.4        # Aproximación inicial p1\n",
    "EcTOL = 1e-6      # Tolerancia\n",
    "EcN0 = 50         # Número máximo de iteraciones\n",
    "\n",
    "# Ejecutar método\n",
    "EcPosicionFalsa(EcP0, EcP1, EcTOL, EcN0)\n"
   ]
  },
  {
   "cell_type": "code",
   "execution_count": null,
   "id": "793a19d5",
   "metadata": {},
   "outputs": [],
   "source": []
  }
 ],
 "metadata": {
  "kernelspec": {
   "display_name": "Python 3",
   "language": "python",
   "name": "python3"
  },
  "language_info": {
   "codemirror_mode": {
    "name": "ipython",
    "version": 3
   },
   "file_extension": ".py",
   "mimetype": "text/x-python",
   "name": "python",
   "nbconvert_exporter": "python",
   "pygments_lexer": "ipython3",
   "version": "3.12.7"
  }
 },
 "nbformat": 4,
 "nbformat_minor": 5
}
