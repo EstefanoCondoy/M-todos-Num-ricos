{
 "cells": [
  {
   "cell_type": "markdown",
   "id": "fabd3132",
   "metadata": {},
   "source": [
    "<style>\n",
    "    .rojo {\n",
    "        color: #FF0000; /* Rojo */\n",
    "    }\n",
    "\n",
    "    .azul {\n",
    "        color: #0000FF; /* Azul */\n",
    "    }\n",
    "\n",
    "    .verde {\n",
    "        color: #00FF00; /* Verde */\n",
    "    }\n",
    "\n",
    "    .naranja {\n",
    "        color: #FFA500; /* Naranja */\n",
    "    }\n",
    "\n",
    "    .marron {\n",
    "        color: #A52A2A; /* Marrón */\n",
    "    }\n",
    "</style>\n",
    "# <div align=\"center\" class=\"rojo\">**ESCUELA POLITECNICA NACIONAL**</div>\n",
    "### <div align=\"center\" class=\"marron\">***Facultad de Ingenieria en Sistemas***</div>\n",
    "### <div align=\"center\" class=\"marron\">***Ingenieria en Ciencias Computacionales***</div>\n",
    "### <div align=\"center\" class=\"marron\">***Métodos Numéricos***</div>\n",
    "\n",
    "<br>\n",
    "<br>\n",
    "<div style=\"text-align: center;\">\n",
    "    <img src=\"MN.png\" width=\"350\"/>\n",
    "</div>\n",
    "</br>\n",
    "</br>\n",
    "\n",
    "### <div align=\"center\" class=\"rojo\">**Estudiante:**</div>\n",
    "### <div align=\"center\">*Estéfano Condoy*</div>\n",
    "### <div align=\"center\" class=\"rojo\">**Docente:**</div>\n",
    "### <div align=\"center\">*Carlos Ayala*</div>\n",
    "### <div align=\"center\" class=\"rojo\">**Semestre:**</div>\n",
    "### <div align=\"center\">*25-A*</div>\n",
    "<div style=\"page-break-after: always;\"></div>"
   ]
  },
  {
   "cell_type": "code",
   "execution_count": null,
   "id": "301b118f",
   "metadata": {
    "vscode": {
     "languageId": "plaintext"
    }
   },
   "outputs": [],
   "source": []
  }
 ],
 "metadata": {
  "language_info": {
   "name": "python"
  }
 },
 "nbformat": 4,
 "nbformat_minor": 5
}
