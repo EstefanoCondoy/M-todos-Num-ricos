{
 "cells": [
  {
   "cell_type": "markdown",
   "id": "fabd3132",
   "metadata": {},
   "source": [
    "<div style=\"text-align: center;\">\n",
    "\n",
    "$$\\huge \\textcolor{red}{\\textbf{ESCUELA POLITÉCNICA NACIONAL}}$$  \n",
    "<br><br>\n",
    "\n",
    "$$\\Large \\textcolor{brown}{\\textbf{Facultad de Ingeniería en Sistemas}}$$  \n",
    "$$\\Large \\textcolor{brown}{\\textbf{Ingeniería en Ciencias Computacionales}}$$  \n",
    "$$\\Large \\textcolor{brown}{\\textbf{Métodos Numéricos}}$$  \n",
    "\n",
    "<br><br>\n",
    "\n",
    "<img src=\"https://img-c.udemycdn.com/course/750x422/2388982_8eb3.jpg\" width=\"350\"/>\n",
    "\n",
    "<br><br>\n",
    "\n",
    "$$\\Large \\textcolor{red}{\\textbf{Estudiante:}}$$  \n",
    "$$\\Large \\textbf{Estéfano Condoy}$$  \n",
    "\n",
    "<br>\n",
    "\n",
    "$$\\Large \\textcolor{red}{\\textbf{Docente:}}$$  \n",
    "$$\\Large \\textbf{Carlos Ayala}$$  \n",
    "\n",
    "<br>\n",
    "\n",
    "$$\\Large \\textcolor{red}{\\textbf{Semestre:}}$$  \n",
    "$$\\Large \\textbf{25-A}$$  \n",
    "\n",
    "</div>\n",
    "\n",
    "<div style=\"page-break-after: always;\"></div>\n",
    "\n",
    "\n",
    "<div style=\"text-align: center;\">\n",
    "\n",
    "$$\\huge \\textcolor{red}{\\textbf{U2 Preliminares A}}$$  \n",
    "<br><br>"
   ]
  },
  {
   "cell_type": "markdown",
   "id": "29af373e",
   "metadata": {},
   "source": [
    "## Métodos Analíticos\n",
    "El método analítico nos da soluciones exactas.\n",
    "Nota:Todas mis variables y funcione stendran Ec(Para hacer referencia a mi nombre Estéfano Condoy)"
   ]
  },
  {
   "cell_type": "code",
   "execution_count": 4,
   "id": "6ea4ae1e",
   "metadata": {},
   "outputs": [
    {
     "name": "stdout",
     "output_type": "stream",
     "text": [
      "Las soluciones son: [1, 3]\n"
     ]
    }
   ],
   "source": [
    "#@autor: Estefano Condoy\n",
    "#@fecha: 2025-30-04\n",
    "#@version: 1.0\n",
    "#@asignatura: Métodos Numéricos\n",
    "import sympy as sp\n",
    "\n",
    "# Definimos la variable, en este caso la 'e'\n",
    "e = sp.symbols('e')\n",
    "\n",
    "# Definimos la ecuación a resolver\n",
    "EcEcuacion = 3 + e**2 - 4*e\n",
    "\n",
    "# Resolvemos la ecuación de manera analitica \n",
    "EcSoluciones = sp.solve(EcEcuacion, e)\n",
    "\n",
    "# Imprimimos la solución de nuestra ecuación\n",
    "print(\"Las soluciones son:\", EcSoluciones)\n"
   ]
  },
  {
   "cell_type": "markdown",
   "id": "baedfde8",
   "metadata": {},
   "source": [
    "## Métodos Númericos\n",
    "Permite obtener soluciones cercanas para problemas cuya resolución exacta no es posible mediante métodos analíticos, es decir es un aproximado, se basa en calculos iterativos (Por ejemplo, método de Newton,Secante,Bisección, etc).\n",
    "Para este codigo del ejemplo, opte por investigar otro metodo aparte de los aprendido y escogi el **Método numérico de la regla del trapecio.**"
   ]
  },
  {
   "cell_type": "code",
   "execution_count": 5,
   "id": "b726db3f",
   "metadata": {},
   "outputs": [
    {
     "name": "stdout",
     "output_type": "stream",
     "text": [
      "La integral aproximada calculada por la regla del trapecio es: 0.7468180014679697\n"
     ]
    }
   ],
   "source": [
    "#@autor: Estefano Condoy\n",
    "#@fecha: 2025-30-04\n",
    "#@version: 1.0\n",
    "#@asignatura: Métodos Numéricos\n",
    "import math\n",
    "\n",
    "# Ponemos los parámetros del intervalo y el numero de trapecios.\n",
    "EcA = 0          # Límite inferior de integración\n",
    "EcB = 1          # Límite superior de integración\n",
    "EcN = 100        # Número de trapecios para dividir el intervalo\n",
    "\n",
    "# Definimos la función a integrar: f(x) = e^(-x^2)\n",
    "def EcFuncion(EcX):\n",
    "    return math.exp(-EcX**2)\n",
    "\n",
    "# Implementamos la regla del trapecio\n",
    "def EcReglaTrapecio(EcA, EcB, EcN):\n",
    "    # Calculamos la base de cada trapecio\n",
    "    EcH = (EcB - EcA) / EcN  \n",
    "    \n",
    "    # Inicializamos la suma con la mitad de la función evaluada en los extremos\n",
    "    EcSuma = 0.5 * (EcFuncion(EcA) + EcFuncion(EcB))\n",
    "\n",
    "    # Recorremos cada punto interno del intervalo [a,b]\n",
    "    for EcI in range(1, EcN):\n",
    "        # Calculamos la posición del punto i-ésimo\n",
    "        EcXI = EcA + EcI * EcH\n",
    "        # Sumamos el valor de la función en ese punto a la suma total\n",
    "        # Estos puntos tienen peso completo (1) en la fórmula\n",
    "        EcSuma += EcFuncion(EcXI)\n",
    "\n",
    "    # Multiplicamos la suma por la base de os trapecios, para obtener el área total\n",
    "    return EcSuma * EcH\n",
    "\n",
    "# Ejecutamos la función de integración\n",
    "EcIntegralAproximada = EcReglaTrapecio(EcA, EcB, EcN)\n",
    "\n",
    "# Imprimimos el resltado final\n",
    "print(f\"La integral aproximada calculada por la regla del trapecio es: {EcIntegralAproximada}\")\n"
   ]
  },
  {
   "cell_type": "markdown",
   "id": "5ef7c060",
   "metadata": {},
   "source": [
    "## Exactitud vs Precisión\n",
    "**Exactitud:** Cerca del valor real.\n",
    "\n",
    "**Presicisión:** Valores consistentes entre sí.\n",
    "\n",
    "Este ejemplo muestra cómo se puede evaluar la calidad de un conjunto de mediciones,en el código que escribi hice que se calcule  ambas usando tres mediciones simuladas y se imprime el promedio, la exactitud y la precisión para entender la diferencia entre Exactitud vs Precisión.\n"
   ]
  },
  {
   "cell_type": "code",
   "execution_count": 6,
   "id": "2f7a0b6b",
   "metadata": {},
   "outputs": [
    {
     "name": "stdout",
     "output_type": "stream",
     "text": [
      "Mediciones: 98.0 98.2 98.1\n",
      "Promedio: 98.09999999999998\n",
      "Exactitud (diferencia con el valor real): 1.90000000000002\n",
      "Precisión (diferencia entre mediciones): 0.20000000000000284\n"
     ]
    }
   ],
   "source": [
    "#@autor: Estefano Condoy\n",
    "#@fecha: 2025-30-04\n",
    "#@version: 1.0\n",
    "#@asignatura: Métodos Numéricos\n",
    "import math\n",
    "\n",
    "# Le ponemos un valor verdadero para el calculo.\n",
    "EcValorVerdadero = 100.0\n",
    "\n",
    "# Le damos tres mediciones simuladas\n",
    "EcMedicion1 = 98.0\n",
    "EcMedicion2 = 98.2\n",
    "EcMedicion3 = 98.1\n",
    "\n",
    "# Promediamos las mediciones\n",
    "EcPromedio = (EcMedicion1 + EcMedicion2 + EcMedicion3) / 3\n",
    "\n",
    "# Exactitud: Cerca del valor real\n",
    "EcExactitud = abs(EcPromedio - EcValorVerdadero)\n",
    "\n",
    "# Precisión: Valores consistentes entre sí\n",
    "EcPrecisión = max(EcMedicion1, EcMedicion2, EcMedicion3) - min(EcMedicion1, EcMedicion2, EcMedicion3)\n",
    "\n",
    "# Imprimimos los resultados\n",
    "print(\"Mediciones:\", EcMedicion1, EcMedicion2, EcMedicion3)\n",
    "print(\"Promedio:\", EcPromedio)\n",
    "print(\"Exactitud (diferencia con el valor real):\", EcExactitud)\n",
    "print(\"Precisión (diferencia entre mediciones):\", EcPrecisión)\n"
   ]
  },
  {
   "cell_type": "markdown",
   "id": "6327ee03",
   "metadata": {},
   "source": [
    "## Tipos de errores\n",
    "### Error por truncamiento\n",
    "Si un algoritmo con truncamiento fijo no se implementa correctamente, puede proporcionar resultados exactos pero con una precisión limitada.\n",
    "\n",
    "Haremos el ejemplo con pi, con 5 cifras significativas."
   ]
  },
  {
   "cell_type": "code",
   "execution_count": 7,
   "id": "ea919120",
   "metadata": {},
   "outputs": [
    {
     "name": "stdout",
     "output_type": "stream",
     "text": [
      "Truncamiento de pi a 5 cifras significativas: 3.1415\n"
     ]
    }
   ],
   "source": [
    "#@autor: Estefano Condoy\n",
    "#@fecha: 2025-30-04\n",
    "#@version: 1.0\n",
    "#@asignatura: Métodos Numéricos\n",
    "import math\n",
    "\n",
    "EcPiReal = math.pi\n",
    "EcPiStr = str(EcPiReal)\n",
    "\n",
    "# Truncar a 5 cifras significativas\n",
    "EcPiTruncado = float(EcPiStr[:6]) #Toma desde la posicion 0 hasta la posicion 5\n",
    "\n",
    "print(\"Truncamiento de pi a 5 cifras significativas:\", EcPiTruncado)\n"
   ]
  },
  {
   "cell_type": "markdown",
   "id": "e693801a",
   "metadata": {},
   "source": [
    "### Error por redondeo\n",
    "Un algoritmo con redondeo puede tener mucha aproximación pero no exactitud.\n",
    "\n",
    "Haremos el ejemplo con pi, con 5 cifras significativas."
   ]
  },
  {
   "cell_type": "code",
   "execution_count": 8,
   "id": "b3282f04",
   "metadata": {},
   "outputs": [
    {
     "name": "stdout",
     "output_type": "stream",
     "text": [
      "Redondeo de pi a 5 cifras significativas: 3.1416\n"
     ]
    }
   ],
   "source": [
    "#@autor: Estefano Condoy\n",
    "#@fecha: 2025-30-04\n",
    "#@version: 1.0\n",
    "#@asignatura: Métodos Numéricos\n",
    "import math\n",
    "\n",
    "EcPiReal = math.pi\n",
    "\n",
    "# Redondear a 5 cifras significativas -> 3.1416\n",
    "EcPiRedondeado = round(EcPiReal, 4)  # 4 decimales para total 5 cifras significativas\n",
    "\n",
    "print(\"Redondeo de pi a 5 cifras significativas:\", EcPiRedondeado)"
   ]
  },
  {
   "cell_type": "markdown",
   "id": "94fa19fd",
   "metadata": {},
   "source": [
    "## Cálculo de error\n",
    "El ejemplo se realizara para los cuatro errores con $p = \\sqrt{3}$   y $p* = 1.73205$\n",
    "\n",
    "### Error real"
   ]
  },
  {
   "cell_type": "code",
   "execution_count": 9,
   "id": "e76798ee",
   "metadata": {},
   "outputs": [
    {
     "name": "stdout",
     "output_type": "stream",
     "text": [
      "1. Error real: 8.075688771036482e-07\n",
      "2. Valor real: 1.7320508075688772\n",
      "3. Valor aproximado: 1.73205\n"
     ]
    }
   ],
   "source": [
    "#@autor: Estefano Condoy\n",
    "#@fecha: 2025-30-04\n",
    "#@version: 1.0\n",
    "#@asignatura: Métodos Numéricos\n",
    "import math\n",
    "\n",
    "# Definir los valores\n",
    "EcValorReal = math.sqrt(3) \n",
    "EcValorAprox = 1.73205# Aproximación truncada         \n",
    "\n",
    "# Calcular el error real\n",
    "EcErrorReal = EcValorReal - EcValorAprox\n",
    "print(\"1. Error real:\", EcErrorReal)\n",
    "print(\"2. Valor real:\", EcValorReal)\n",
    "print(\"3. Valor aproximado:\", EcValorAprox)\n"
   ]
  },
  {
   "cell_type": "markdown",
   "id": "c8ce3999",
   "metadata": {},
   "source": [
    "### Error absoluto"
   ]
  },
  {
   "cell_type": "code",
   "execution_count": 10,
   "id": "39cd3206",
   "metadata": {},
   "outputs": [
    {
     "name": "stdout",
     "output_type": "stream",
     "text": [
      "1. Error absoluto: 8.075688771036482e-07\n",
      "2. Valor real: 1.7320508075688772\n",
      "3. Valor aproximado: 1.73205\n"
     ]
    }
   ],
   "source": [
    "#@autor: Estefano Condoy\n",
    "#@fecha: 2025-30-04\n",
    "#@version: 1.0\n",
    "#@asignatura: Métodos Numéricos\n",
    "import math\n",
    "\n",
    "# Definir los valores reales y aproximados\n",
    "EcValorReal = math.sqrt(3)\n",
    "EcValorAprox = 1.73205 # Aproximación truncada\n",
    "\n",
    "# Calcular el error absoluto \n",
    "EcErrorAbsoluto = abs(EcValorReal - EcValorAprox)\n",
    "\n",
    "# Mostrar el resultado\n",
    "print(\"1. Error absoluto:\", EcErrorAbsoluto)\n",
    "print(\"2. Valor real:\", EcValorReal)\n",
    "print(\"3. Valor aproximado:\", EcValorAprox)\n"
   ]
  },
  {
   "cell_type": "markdown",
   "id": "48a7e9b3",
   "metadata": {},
   "source": [
    "### Error relativo"
   ]
  },
  {
   "cell_type": "code",
   "execution_count": 11,
   "id": "fb21d414",
   "metadata": {},
   "outputs": [
    {
     "name": "stdout",
     "output_type": "stream",
     "text": [
      "1. Error relativo: 4.6625010858495513e-07\n",
      "2. Valor real: 1.7320508075688772\n",
      "3. Valor aproximado: 1.73205\n"
     ]
    }
   ],
   "source": [
    "#@autor: Estefano Condoy\n",
    "#@fecha: 2025-30-04\n",
    "#@version: 1.0\n",
    "#@asignatura: Métodos Numéricos\n",
    "import math\n",
    "\n",
    "# Definir los valores\n",
    "EcValorReal = math.sqrt(3)\n",
    "EcValorAprox = 1.73205\n",
    "\n",
    "# Calcular el error relativo (error absoluto dividido por el valor real)\n",
    "EcErrorRelativo = math.fabs(EcValorReal - EcValorAprox) / EcValorReal\n",
    "print(\"1. Error relativo:\", EcErrorRelativo)\n",
    "print(\"2. Valor real:\", EcValorReal)\n",
    "print(\"3. Valor aproximado:\", EcValorAprox)"
   ]
  },
  {
   "cell_type": "markdown",
   "id": "3eb359c4",
   "metadata": {},
   "source": [
    "### Error relativo porcentual\n"
   ]
  },
  {
   "cell_type": "code",
   "execution_count": 12,
   "id": "3c820262",
   "metadata": {},
   "outputs": [
    {
     "name": "stdout",
     "output_type": "stream",
     "text": [
      "1. Error relativo porcentual: 4.6625010858495514e-05 %\n",
      "2. Valor real: 1.7320508075688772\n",
      "3. Valor aproximado: 1.73205\n"
     ]
    }
   ],
   "source": [
    "#@autor: Estefano Condoy\n",
    "#@fecha: 2025-30-04\n",
    "#@version: 1.0\n",
    "#@asignatura: Métodos Numéricos\n",
    "import math\n",
    "\n",
    "# Definir los valores\n",
    "EcValorReal = math.sqrt(3)\n",
    "EcValorAprox = 1.73205\n",
    "\n",
    "# Calcular el error relativo porcentual\n",
    "EcErrorPorcentual = (math.fabs(EcValorReal - EcValorAprox) / EcValorReal) * 100\n",
    "print(\"1. Error relativo porcentual:\", EcErrorPorcentual, \"%\")\n",
    "print(\"2. Valor real:\", EcValorReal)\n",
    "print(\"3. Valor aproximado:\", EcValorAprox)"
   ]
  },
  {
   "cell_type": "markdown",
   "id": "10af8066",
   "metadata": {},
   "source": [
    "<div style=\"text-align: center;\">\n",
    "\n",
    "$$\\huge \\textcolor{red}{\\textbf{U2 Preliminares B}}$$  \n",
    "<br><br>"
   ]
  },
  {
   "cell_type": "markdown",
   "id": "f8ab9bac",
   "metadata": {},
   "source": [
    "## Representación Numérica 32 bits\n",
    "- 1 bit se usa para el signo (0 para positivo, 1 para negativo).\n",
    "\n",
    "- 8 bits corresponden al exponente.\n",
    "\n",
    "- 23 bits se destinan a la mantisa."
   ]
  },
  {
   "cell_type": "code",
   "execution_count": 13,
   "id": "a1ac29ef",
   "metadata": {},
   "outputs": [
    {
     "name": "stdout",
     "output_type": "stream",
     "text": [
      "Bit del signo: 0\n",
      "Bits de la parte del exponente: 10000111\n",
      "Bits de la parte de la mantisa: 00000111010011001100110\n",
      "IEEE 754 (32 bits): 01000011100000111010011001100110\n"
     ]
    }
   ],
   "source": [
    "#@autor: Estefano Condoy\n",
    "#@fecha: 2025-06-05\n",
    "#@version: 1.0\n",
    "#@asignatura: Métodos Numéricos\n",
    "\n",
    "# Este numero se eligio fue porque el ingeniero nos lo dio en clases\n",
    "EcNumero = 263.3 \n",
    "\n",
    "# En el paso 1 determinamos el signo del Bit\n",
    "EcSigno = 0\n",
    "if EcNumero < 0:\n",
    "    EcSigno = 1\n",
    "    EcNumero = -EcNumero \n",
    "\n",
    "# 2.En el paso 2 convertimos en binario la parte entera\n",
    "EcParteEntera = int(EcNumero)  # Tomamos la parte entera de 263\n",
    "EcBinEntera = bin(EcParteEntera)[2:]  # Convertimos 263 a binario\n",
    "\n",
    "# En el paso 3 convertimos en binrio la parte decimal\n",
    "EcParteDecimal = EcNumero - EcParteEntera  # Obtenemos la parte decimal → 0.3\n",
    "EcBinDecimal = \"\"\n",
    "EcTemp = EcParteDecimal\n",
    "while len(EcBinDecimal) < 23:\n",
    "    EcTemp *= 2\n",
    "    bit = int(EcTemp)\n",
    "    EcBinDecimal += str(bit)\n",
    "    EcTemp -= bit\n",
    "    if EcTemp == 0:\n",
    "        break\n",
    "\n",
    "# En el paso 4 lo convertimos en notación científica\n",
    "EcExp = len(EcBinEntera) - 1  # Le desplazamos la coma a la izquierda hasta antes del primer bit\n",
    "EcMantisa = EcBinEntera[1:] + EcBinDecimal \n",
    "EcMantisa = EcMantisa[:23]  # Solo tomamos los primeros 23 bits para la mantisa\n",
    "\n",
    "# En el paso 5 Sumamos el exponente mas 127 para el formato IEEE 754\n",
    "EcExponente = EcExp + 127  \n",
    "EcExponenteBin = format(EcExponente, '08b')  # Representamos el exponente en 8 bits binarios\n",
    "\n",
    "# En el ultimo paso unimos al format IEEE 754\n",
    "Ec32bits = str(EcSigno) + EcExponenteBin + EcMantisa\n",
    "# Imprimimos los resultados\n",
    "print(\"Bit del signo:\", EcSigno)\n",
    "print(\"Bits de la parte del exponente:\", EcExponenteBin)\n",
    "print(\"Bits de la parte de la mantisa:\", EcMantisa)\n",
    "print(\"IEEE 754 (32 bits):\", Ec32bits)\n"
   ]
  },
  {
   "cell_type": "markdown",
   "id": "3a84bcfc",
   "metadata": {},
   "source": [
    "## Representación Numérica 64 bits\n",
    "- 1 bit se usa para el signo (0 para positivo, 1 para negativo).\n",
    "\n",
    "- 11 bits corresponden al exponente.\n",
    "\n",
    "- 52 bits se destinan a la mantisa."
   ]
  },
  {
   "cell_type": "code",
   "execution_count": 14,
   "id": "c44b477e",
   "metadata": {},
   "outputs": [
    {
     "name": "stdout",
     "output_type": "stream",
     "text": [
      "Bit del signo: 0\n",
      "Bits de la parte del exponente: 10000000111\n",
      "Bits de la parte de la mantisa: 0000011101001100110011001100110011001100110011001101\n",
      "IEEE 754 (32 bits): 0100000001110000011101001100110011001100110011001100110011001101\n"
     ]
    }
   ],
   "source": [
    "#@autor: Estefano Condoy\n",
    "#@fecha: 2025-06-05\n",
    "#@version: 1.0\n",
    "#@asignatura: Métodos Numéricos\n",
    "\n",
    "# Este numero se eligio fue porque el ingeniero nos lo dio en clases\n",
    "EcNumero = 263.3 \n",
    "\n",
    "# En el paso 1 determinamos el signo del Bit\n",
    "EcSigno = 0\n",
    "if EcNumero < 0:\n",
    "    EcSigno = 1\n",
    "    EcNumero = -EcNumero \n",
    "\n",
    "# 2.En el paso 2 convertimos en binario la parte entera\n",
    "EcParteEntera = int(EcNumero)  # Tomamos la parte entera de 263\n",
    "EcBinEntera = bin(EcParteEntera)[2:]  # Convertimos 263 a binario\n",
    "\n",
    "# En el paso 3 convertimos en binrio la parte decimal\n",
    "EcParteDecimal = EcNumero - EcParteEntera  # Obtenemos la parte decimal → 0.3\n",
    "EcBinDecimal = \"\"\n",
    "EcTemp = EcParteDecimal\n",
    "while len(EcBinDecimal) < 52:\n",
    "    EcTemp *= 2\n",
    "    bit = int(EcTemp)\n",
    "    EcBinDecimal += str(bit)\n",
    "    EcTemp -= bit\n",
    "    if EcTemp == 0:\n",
    "        break\n",
    "\n",
    "# En el paso 4 lo convertimos en notación científica\n",
    "EcExp = len(EcBinEntera) - 1  # Le desplazamos la coma a la izquierda hasta antes del primer bit\n",
    "EcMantisa = EcBinEntera[1:] + EcBinDecimal \n",
    "EcMantisa = EcMantisa[:52]  # Solo tomamos los primeros 23 bits para la mantisa\n",
    "\n",
    "# En el paso 5 Sumamos el exponente mas 127 para el formato IEEE 754\n",
    "EcExponente = EcExp + 1023  \n",
    "EcExponenteBin = format(EcExponente, '011b')  # Representamos el exponente en 8 bits binarios\n",
    "\n",
    "# En el ultimo paso unimos al format IEEE 754\n",
    "Ec64bits = str(EcSigno) + EcExponenteBin + EcMantisa\n",
    "# Imprimimos los resultados\n",
    "print(\"Bit del signo:\", EcSigno)\n",
    "print(\"Bits de la parte del exponente:\", EcExponenteBin)\n",
    "print(\"Bits de la parte de la mantisa:\", EcMantisa)\n",
    "print(\"IEEE 754 (32 bits):\", Ec64bits)"
   ]
  },
  {
   "cell_type": "markdown",
   "id": "1d8f0651",
   "metadata": {},
   "source": [
    "## Aritmética de dígitos finitos / de computador\n",
    "Es la representación en punto flotante y sus operaciones son:\n",
    "$$ x \\oplus y = \\text{fl}(\\text{fl}(x) + \\text{fl}(y)) $$\n",
    "\n",
    "$$ x \\ominus y = \\text{fl}(\\text{fl}(x) - \\text{fl}(y)) $$\n",
    "\n",
    "$$ x \\otimes y = \\text{fl}(\\text{fl}(x) \\times \\text{fl}(y)) $$\n",
    "\n",
    "$$ x \\oslash y = \\text{fl} \\left( \\frac{\\text{fl}(x)}{\\text{fl}(y)} \\right) $$\n"
   ]
  },
  {
   "cell_type": "code",
   "execution_count": 15,
   "id": "bc23a3a7",
   "metadata": {},
   "outputs": [
    {
     "name": "stdout",
     "output_type": "stream",
     "text": [
      "x = 3.14 → 0.314e+01\n",
      "y = 2.72 → 0.272e+01\n",
      "\n",
      "Resultados de las operaciones:\n",
      "\n",
      "x ⊕ y = 0.586e+01\n",
      "x ⊖ y = 0.42 e+00\n",
      "x ⊗ y = 0.854e+01\n",
      "x ⊘ y = 0.115e+01\n"
     ]
    }
   ],
   "source": [
    "#@autor: Estefano Condoy\n",
    "#@fecha: 2025-06-05\n",
    "#@version: 1.0\n",
    "#@asignatura: Métodos Numéricos\n",
    "\n",
    "Ec_x = 3.141592\n",
    "Ec_y = 2.718281\n",
    "\n",
    "def Ec_fl_redondeo(numero):\n",
    "    # Simulamos la aritmetica de computadora\n",
    "    if numero == 0:\n",
    "        return 0.0\n",
    "\n",
    "    negativo = False\n",
    "    if numero < 0:\n",
    "        negativo = True\n",
    "        numero = -numero\n",
    "\n",
    "    exponente = 0\n",
    "    # Normalizamos para que el numero siempre empieze en 0....( ya que la computadora solo maneja 0 y 1)\n",
    "    while numero >= 1:\n",
    "        numero = numero / 10\n",
    "        exponente += 1\n",
    "    while numero < 0.1:\n",
    "        numero = numero * 10\n",
    "        exponente -= 1\n",
    "\n",
    "    # Redondeamos a 3 cifras significativas\n",
    "    numero = int(numero * 1000 + 0.5) / 1000.0\n",
    "\n",
    "    # Reconstruye el número completo\n",
    "    numero = numero * (10 ** exponente)\n",
    "    if negativo:\n",
    "        numero = -numero\n",
    "    return numero\n",
    "\n",
    "# Definimos la función para convertir a formato científico\n",
    "def Ec_formato_cientifico(numero):\n",
    "    if numero == 0:\n",
    "        return \"0.000e+00\"\n",
    "\n",
    "    negativo = numero < 0\n",
    "    if negativo:\n",
    "        numero = -numero\n",
    "\n",
    "    exponente = 0\n",
    "    while numero >= 1:\n",
    "        numero = numero / 10\n",
    "        exponente += 1\n",
    "    while numero < 0.1:\n",
    "        numero = numero * 10\n",
    "        exponente -= 1\n",
    "\n",
    "    numero = int(numero * 1000 + 0.5) / 1000.0\n",
    "    signo = \"-\" if negativo else \"\"\n",
    "    return f\"{signo}0.{str(numero)[2:]:<3}e{exponente:+03d}\"\n",
    "\n",
    "# realizamos las operaciones\n",
    "def Ec_suma(x, y):\n",
    "    return Ec_fl_redondeo(Ec_fl_redondeo(x) + Ec_fl_redondeo(y))\n",
    "\n",
    "def Ec_resta(x, y):\n",
    "    return Ec_fl_redondeo(Ec_fl_redondeo(x) - Ec_fl_redondeo(y))\n",
    "\n",
    "def Ec_multiplicacion(x, y):\n",
    "    return Ec_fl_redondeo(Ec_fl_redondeo(x) * Ec_fl_redondeo(y))\n",
    "\n",
    "def Ec_division(x, y):\n",
    "    return Ec_fl_redondeo(Ec_fl_redondeo(x) / Ec_fl_redondeo(y))\n",
    "\n",
    "# Imprimimos el cambio a aritmetica de computadoras los datos dados.\n",
    "print(\"x =\", Ec_fl_redondeo(Ec_x), \"→\", Ec_formato_cientifico(Ec_fl_redondeo(Ec_x)))\n",
    "print(\"y =\", Ec_fl_redondeo(Ec_y), \"→\", Ec_formato_cientifico(Ec_fl_redondeo(Ec_y)))\n",
    "# Imprimimos los resultados de las operaaciones en resultado normal y tambien en formato de computadoras]\n",
    "print(\"\\nResultados de las operaciones:\")\n",
    "print(\"\\nx ⊕ y =\",Ec_formato_cientifico(Ec_suma(Ec_x, Ec_y)))\n",
    "print(\"x ⊖ y =\",Ec_formato_cientifico(Ec_resta(Ec_x, Ec_y)))\n",
    "print(\"x ⊗ y =\",Ec_formato_cientifico(Ec_multiplicacion(Ec_x, Ec_y)))\n",
    "print(\"x ⊘ y =\",Ec_formato_cientifico(Ec_division(Ec_x, Ec_y)))\n"
   ]
  },
  {
   "cell_type": "markdown",
   "id": "8a542000",
   "metadata": {},
   "source": [
    "## Convergencia, Divergencia y Tolerancia\n",
    "- **Convergencia:**  Al aumentar el número de iteraciones, los resultados se acerca a la solución exacta.\n",
    "- **Divergencia:** Si los Resultados se alejan o nunca se estabilizan.\n",
    "- **Tolerancia:** Es la cantidad de error que se permite en la solución, o tambien se utilizan los criterios de parada."
   ]
  },
  {
   "cell_type": "code",
   "execution_count": 16,
   "id": "72ba4c9f",
   "metadata": {},
   "outputs": [
    {
     "data": {
      "image/png": "[encoded data removed]",
      "text/plain": [
       "<Figure size 1100x500 with 1 Axes>"
      ]
     },
     "metadata": {},
     "output_type": "display_data"
    }
   ],
   "source": [
    "#@autor: Estefano Condoy\n",
    "#@fecha: 2025-06-05\n",
    "#@version: 1.0\n",
    "#@asignatura: Métodos Numéricos\n",
    "\n",
    "import matplotlib.pyplot as plt # Utilizo esta libreria solo para poder graficar.\n",
    "\n",
    "Ec_solucion = 2.0\n",
    "Ec_tolerancia = 0.01\n",
    "Ec_iteraciones = list(range(5, 18))\n",
    "\n",
    "# Convergencia: se acerca a la solución\n",
    "Ec_convergencia = [2 + 5 / e for e in Ec_iteraciones]\n",
    "\n",
    "# Divergencia: se aleja de la solución\n",
    "Ec_divergencia = [1 + e * 3 for e in Ec_iteraciones]\n",
    "\n",
    "# Aqui estaran las lineas de referencia\n",
    "Ec_sol_line = [Ec_solucion] * len(Ec_iteraciones)\n",
    "Ec_tolerancia_sup = [Ec_solucion + Ec_tolerancia] * len(Ec_iteraciones)\n",
    "Ec_tolerancia_inf = [Ec_solucion - Ec_tolerancia] * len(Ec_iteraciones)\n",
    "\n",
    "# Gráfica\n",
    "plt.figure(figsize=(11, 5))\n",
    "plt.plot(Ec_iteraciones, Ec_convergencia, color='red', label='Convergencia')\n",
    "plt.plot(Ec_iteraciones, Ec_divergencia, color='black', label='Divergencia')\n",
    "plt.plot(Ec_iteraciones, Ec_sol_line, 'g--', label='Solución Exacta')\n",
    "plt.plot(Ec_iteraciones, Ec_tolerancia_sup, 'r:', label='Tolerancia ±0.01')\n",
    "plt.plot(Ec_iteraciones, Ec_tolerancia_inf, 'r:')\n",
    "\n",
    "plt.title(\"Convergencia, Divergencia y Tolerancia – Estefano Condoy\")\n",
    "plt.xlabel(\"Iteración\")\n",
    "plt.ylabel(\"Valor Aproximado\")\n",
    "plt.grid(True)\n",
    "plt.legend()\n",
    "plt.tight_layout()\n",
    "plt.show()\n"
   ]
  },
  {
   "cell_type": "markdown",
   "id": "3ce7e0ca",
   "metadata": {},
   "source": [
    "## Criterios de parada\n",
    "\n",
    "1. **Error absoluto**  \n",
    "   $$ |x_{n} - x_{n-1}| < \\varepsilon $$\n",
    "\n",
    "2. **Error relativo**  \n",
    "   $$ \\frac{|x_{n+1} - x_n|}{|x_{n+1}|} < \\varepsilon $$\n",
    "\n",
    "3. **Número máximo de iteraciones**  \n",
    "   $$ K \\geq i $$\n",
    "\n",
    "4. **Tiempo de ejecución máximo**  \n",
    "   - Se detiene si el tiempo total excede un límite predefinido **T**.\n"
   ]
  },
  {
   "cell_type": "code",
   "execution_count": 17,
   "id": "f5e97db8",
   "metadata": {},
   "outputs": [
    {
     "name": "stdout",
     "output_type": "stream",
     "text": [
      "Iteración 1: x=1.500000, f(x)=2.500000e-01, error_abs=5.000000e-01, error_rel=3.333333e-01, tiempo=0.00s\n",
      "Iteración 2: x=1.250000, f(x)=-4.375000e-01, error_abs=2.500000e-01, error_rel=2.000000e-01, tiempo=0.00s\n",
      "Iteración 3: x=1.375000, f(x)=-1.093750e-01, error_abs=1.250000e-01, error_rel=9.090909e-02, tiempo=0.00s\n",
      "Iteración 4: x=1.437500, f(x)=6.640625e-02, error_abs=6.250000e-02, error_rel=4.347826e-02, tiempo=0.00s\n",
      "Iteración 5: x=1.406250, f(x)=-2.246094e-02, error_abs=3.125000e-02, error_rel=2.222222e-02, tiempo=0.00s\n",
      "Parada por número máximo de iteraciones\n",
      "Raíz aproximada: 1.40625\n"
     ]
    }
   ],
   "source": [
    "#@autor: Estefano Condoy\n",
    "#@fecha: 2025-06-05\n",
    "#@version: 1.0\n",
    "#@asignatura: Métodos Numéricos\n",
    "import time\n",
    "\n",
    "def Ec_f(x):\n",
    "    # Función x^2 - 2\n",
    "    return x**2 - 2\n",
    "\n",
    "def Ec_biseccion(Ec_a, Ec_b, Ec_K=5, Ec_epsilon_abs=1e-5, Ec_epsilon_rel=1e-5, Ec_epsilon_func=1e-5, Ec_T=1):\n",
    "    Ec_start_time = time.time()\n",
    "\n",
    "    if Ec_f(Ec_a)*Ec_f(Ec_b) >= 0:\n",
    "        print(\"Error: f(a) y f(b) deben tener signos opuestos\")\n",
    "        return None\n",
    "\n",
    "    Ec_x_anterior = Ec_a\n",
    "    for Ec_i in range(1, Ec_K+1):\n",
    "        Ec_x_nuevo = (Ec_a + Ec_b) / 2\n",
    "        Ec_f_xnuevo = Ec_f(Ec_x_nuevo)\n",
    "\n",
    "        # Criterios de parada\n",
    "        Ec_error_abs = abs(Ec_x_nuevo - Ec_x_anterior)\n",
    "        Ec_error_rel = Ec_error_abs / abs(Ec_x_nuevo) if Ec_x_nuevo != 0 else float('inf')\n",
    "        Ec_tiempo_transcurrido = time.time() - Ec_start_time\n",
    "\n",
    "        print(f\"Iteración {Ec_i}: x={Ec_x_nuevo:.6f}, f(x)={Ec_f_xnuevo:.6e}, error_abs={Ec_error_abs:.6e}, error_rel={Ec_error_rel:.6e}, tiempo={Ec_tiempo_transcurrido:.2f}s\")\n",
    "\n",
    "        if Ec_error_abs < Ec_epsilon_abs:\n",
    "            print(\"Parada por error absoluto\")\n",
    "            return Ec_x_nuevo\n",
    "        if Ec_error_rel < Ec_epsilon_rel:\n",
    "            print(\"Parada por error relativo\")\n",
    "            return Ec_x_nuevo\n",
    "        if abs(Ec_f_xnuevo) < Ec_epsilon_func:\n",
    "            print(\"Parada por valor de función pequeño\")\n",
    "            return Ec_x_nuevo\n",
    "        if Ec_tiempo_transcurrido > Ec_T:\n",
    "            print(\"Parada por tiempo máximo\")\n",
    "            return Ec_x_nuevo\n",
    "\n",
    "        # Actualizar intervalo\n",
    "        if Ec_f(Ec_a)*Ec_f_xnuevo < 0:\n",
    "            Ec_b = Ec_x_nuevo\n",
    "        else:\n",
    "            Ec_a = Ec_x_nuevo\n",
    "        \n",
    "        Ec_x_anterior = Ec_x_nuevo\n",
    "\n",
    "    print(\"Parada por número máximo de iteraciones\")\n",
    "    return Ec_x_nuevo\n",
    "\n",
    "Ec_raiz = Ec_biseccion(1, 2) # Definimos el intervalo [1, 2] para la bisecciónS\n",
    "print(f\"Raíz aproximada: {Ec_raiz}\")\n"
   ]
  },
  {
   "cell_type": "markdown",
   "id": "01d1aeb2",
   "metadata": {},
   "source": [
    "<div style=\"text-align: center;\">\n",
    "\n",
    "$$\\huge \\textcolor{red}{\\textbf{U3 Soluciones de sistemas de\n",
    "ecuaciones }}$$\n",
    "$$\\huge \\textcolor{red}{\\textbf{no lineales A }}$$\n",
    "<br><br>"
   ]
  },
  {
   "cell_type": "markdown",
   "id": "04c8fbdf",
   "metadata": {},
   "source": [
    "## Método de la Bisección\n",
    "\n",
    "El **Método de Bisección** se fundamenta en el **Teorema del Valor Intermedio**, el cual asegura la existencia de una raíz dentro de un intervalo cerrado \\([a, b]\\), siempre que la función \\( f(x) \\) sea continua en dicho intervalo y se cumpla la condición:\n",
    "\n",
    "$$ f(a) \\cdot f(b) < 0 $$\n",
    "\n",
    "### **Fórmula del punto medio**\n",
    "Para cada iteración, se calcula el punto medio \\( m \\):\n",
    "\n",
    "$$ m = \\frac{a + b}{2} $$\n",
    "\n",
    "Con esto evaluamos \\( f(m) \\):\n",
    "\n",
    "### **Condiciones de evaluación**\n",
    "- **Si \\( f(m) = 0 \\):** \\( m \\) es una **raíz exacta**.\n",
    "- **Si \\( f(a) * f(m) < 0 \\):** la raíz está en el intervalo \\([a, m]\\).\n",
    "- **Si \\( f(b) * f(m) > 0 \\):** la raíz está en el intervalo \\([m, b]\\).\n",
    "\n",
    "Se repite el procedimiento sobre el nuevo intervalo hasta que el **error absoluto** sea inferior a una **tolerancia** previamente establecida.\n",
    "\n",
    "**Ejemplo:**\n",
    "Use el método de bisección para encontrar soluciones precisas dentro de \\( 10^{-2} \\) para:\n",
    "\n",
    "$$ x^3 - 7x^2 + 14x - 6 = 0 $$\n",
    "Intervalo :  \\( [0, 1] \\)\n"
   ]
  },
  {
   "cell_type": "code",
   "execution_count": 18,
   "id": "ca270723",
   "metadata": {},
   "outputs": [
    {
     "name": "stdout",
     "output_type": "stream",
     "text": [
      "Iter  EcA         EcB         EcC         EcF(A)      EcF(B)      EcF(C)      Tolerancia  \n",
      "------------------------------------------------------------------------------------------\n",
      "1     0.000000    1.000000    0.500000    -6.000000   2.000000    -0.625000   0.500000    \n",
      "2     0.500000    1.000000    0.750000    -0.625000   2.000000    0.984375    0.250000    \n",
      "3     0.500000    0.750000    0.625000    -0.625000   0.984375    0.259766    0.125000    \n",
      "4     0.500000    0.625000    0.562500    -0.625000   0.259766    -0.161865   0.062500    \n",
      "5     0.562500    0.625000    0.593750    -0.161865   0.259766    0.054047    0.031250    \n",
      "6     0.562500    0.593750    0.578125    -0.161865   0.054047    -0.052624   0.015625    \n",
      "7     0.578125    0.593750    0.585938    -0.052624   0.054047    0.001031    0.007812    \n",
      "\n",
      "El Método de Bisección encontró la raíz.\n",
      "Raíz aproximada: 0.5859375000\n"
     ]
    }
   ],
   "source": [
    "# @autor: Estefano Condoy\n",
    "# @fecha: 2025-14-05\n",
    "# @version: 1.0\n",
    "# @asignatura: Métodos Numéricos\n",
    "\n",
    "import math\n",
    "\n",
    "def EcFuncion(x):\n",
    "    return x**3 - 7*x**2 + 14*x - 6  # Esta función es de un deber\n",
    "\n",
    "cA = 0           # Límite izquierdo\n",
    "EcB = 1           # Límite derecho\n",
    "EcTOL = 1e-2      # Tolerancia\n",
    "EcN0 = 50         # Número máximo de iteraciones\n",
    "\n",
    "\n",
    "def EcBiseccion(EcA, EcB, EcTOL, EcN0):\n",
    "    EcFA = EcFuncion(EcA)\n",
    "    \n",
    "    print(f\"{'Iter':<6}{'EcA':<12}{'EcB':<12}{'EcC':<12}{'EcF(A)':<12}{'EcF(B)':<12}{'EcF(C)':<12}{'Tolerancia':<12}\")\n",
    "    print(\"-\" * 90)\n",
    "    \n",
    "    for EcI in range(1, EcN0 + 1):\n",
    "        EcC = (EcA + EcB) / 2\n",
    "        EcFC = EcFuncion(EcC)\n",
    "        EcFB = EcFuncion(EcB)\n",
    "        EcError = abs(EcB - EcA) / 2\n",
    "\n",
    "        print(f\"{EcI:<6}{EcA:<12.6f}{EcB:<12.6f}{EcC:<12.6f}{EcFA:<12.6f}{EcFB:<12.6f}{EcFC:<12.6f}{EcError:<12.6f}\")\n",
    "\n",
    "        if EcFC == 0 or EcError < EcTOL:\n",
    "            print(\"\\nEl Método de Bisección encontró la raíz.\")\n",
    "            print(f\"Raíz aproximada: {EcC:.10f}\")\n",
    "            return\n",
    "\n",
    "        if EcFA * EcFC > 0:\n",
    "            EcA = EcC\n",
    "            EcFA = EcFC\n",
    "        else:\n",
    "            EcB = EcC\n",
    "\n",
    "    print(\"\\nEl método fracasó después de\", EcN0, \"iteraciones.\")\n",
    "\n",
    "EcBiseccion(EcA, EcB, EcTOL, EcN0)"
   ]
  },
  {
   "cell_type": "markdown",
   "id": "7e8b997a",
   "metadata": {},
   "source": [
    "<div style=\"text-align: center;\">\n",
    "\n",
    "$$\\huge \\textcolor{red}{\\textbf{U3 Soluciones de sistemas de\n",
    "ecuaciones }}$$\n",
    "$$\\huge \\textcolor{red}{\\textbf{no lineales B }}$$\n",
    "<br><br>"
   ]
  },
  {
   "cell_type": "markdown",
   "id": "1d7b28d4",
   "metadata": {},
   "source": [
    "## Método de Newton (Newton-Raphson)  \n",
    "\n",
    "El método de **Newton-Raphson** es un procedimiento iterativo que obtiene aproximaciones a la raíz de una función no lineal \\( f(x) = 0 \\).  \n",
    "\n",
    "Este método exige que la función sea **diferenciable**, ya que se fundamenta en la aproximación mediante su **tangente lineal**.  \n",
    "\n",
    "### **Fórmula iterativa**\n",
    "$$ x_n = x_{n-1} - \\frac{f(x_{n-1})}{f'(x_{n-1})}, \\quad n \\geq 1 $$\n",
    "\n",
    "Siempre inicia con un **valor inicial** y emplea la **derivada** de la función para aproximarse gradualmente a la raíz.  \n",
    "\n",
    "Su **convergencia cuadrática** es muy acelerada, siempre que la estimación inicial sea suficientemente cercana a la raíz y la función sea distinta de 0.\n"
   ]
  },
  {
   "cell_type": "markdown",
   "id": "9a17da59",
   "metadata": {},
   "source": [
    "Ejemplo:\n",
    "Dada la función:  \n",
    "$$ f(x) = x^4 - x - 1 $$  \n",
    "\n",
    "Con valor inicial:  \n",
    "$$ p_0 = 1 $$  \n",
    "\n",
    "Use el **Método de Newton** para obtener soluciones precisas con una tolerancia de:  \n",
    "$$ \\varepsilon = 10^{-6} $$\n"
   ]
  },
  {
   "cell_type": "code",
   "execution_count": 19,
   "id": "220a7e96",
   "metadata": {},
   "outputs": [
    {
     "name": "stdout",
     "output_type": "stream",
     "text": [
      "n     EcXn-1      EcF(EcXn-1)    EcF'(EcXn-1)   EcXn        Tolerancia  \n",
      "---------------------------------------------------------------------------\n",
      "1     1.000000    -1.000000      3.000000       1.333333    0.333333    \n",
      "2     1.333333    0.827160       8.481481       1.235808    0.097525    \n",
      "3     1.235808    0.096596       6.549407       1.221059    0.014749    \n",
      "4     1.221059    0.001977       6.282323       1.220744    0.000315    \n",
      "5     1.220744    0.000001       6.276693       1.220744    0.000000    \n",
      "\n",
      "El método de Newton-Raphson encontro la raíz.\n",
      "Raíz aproximada: 1.2207440846\n"
     ]
    }
   ],
   "source": [
    "# @autor: Estefano Condoy\n",
    "# @fecha: 2025-16-05\n",
    "# @versión: 1.0\n",
    "# @asignatura: Métodos Numéricos\n",
    "\n",
    "import math\n",
    "\n",
    "def EcFuncion(x):\n",
    "    return x**4-x-1\n",
    "\n",
    "def EcDerivada(x):\n",
    "    return 4*x**3 - 1\n",
    "\n",
    "# Codificamos el método de Newton-Raphson \n",
    "def EcNewton(EcP0, EcTOL, EcN0):\n",
    "    print(f\"{'n':<6}{'EcXn-1':<12}{'EcF(EcXn-1)':<15}{'EcF\\'(EcXn-1)':<15}{'EcXn':<12}{'Tolerancia':<12}\")\n",
    "    print(\"-\" * 75)\n",
    "    \n",
    "    for EcI in range(1, EcN0 + 1):\n",
    "        EcF0 = EcFuncion(EcP0)\n",
    "        EcDF0 = EcDerivada(EcP0)\n",
    "        \n",
    "        if EcDF0 == 0:\n",
    "            print(\"Error: Derivada cero. No se puede continuar.\")\n",
    "            return\n",
    "        \n",
    "        EcP = EcP0 - EcF0 / EcDF0\n",
    "        EcError = abs(EcP - EcP0)\n",
    "        \n",
    "        print(f\"{EcI:<6}{EcP0:<12.6f}{EcF0:<15.6f}{EcDF0:<15.6f}{EcP:<12.6f}{EcError:<12.6f}\")\n",
    "\n",
    "        if EcError < EcTOL:\n",
    "            print(\"\\nEl método de Newton-Raphson encontro la raíz.\")\n",
    "            print(f\"Raíz aproximada: {EcP:.10f}\")\n",
    "            return\n",
    "\n",
    "        EcP0 = EcP\n",
    "\n",
    "    print(\"\\nEl método falló después de\", EcN0, \"iteraciones.\")\n",
    "\n",
    "EcP0 = 1        # Aproximación inicial\n",
    "EcTOL = 1e-6      # Tolerancia\n",
    "EcN0 = 50         # Máximo número de iteraciones\n",
    "\n",
    "EcNewton(EcP0, EcTOL, EcN0)\n"
   ]
  },
  {
   "cell_type": "markdown",
   "id": "eafc3dd0",
   "metadata": {},
   "source": [
    "## Método de la Secante\n",
    "\n",
    "El **Método de la Secante** es una variante del **Método de Newton**, pero en lugar de utilizar la derivada, emplea una aproximación basada en dos puntos cercanos de la función.  \n",
    "\n",
    "### **Fórmula iterativa**\n",
    "$$ x_n = x_{n-1} - f(x_{n-1}) \\times \\frac{x_{n-1} - x_{n-2}}{f(x_{n-1}) - f(x_{n-2})} $$\n",
    "\n",
    "### **Pasos del método**\n",
    "- Se eligen **dos valores iniciales** dentro del intervalo de interés.\n",
    "- Se calcula el siguiente valor utilizando la ecuación iterativa.\n",
    "- Se genera una **secuencia de valores** que se aproxima a la raíz de la ecuación.\n",
    "- **El algoritmo se detiene** cuando se alcanza la raíz o una aproximación que cumple con un criterio de precisión, como **tolerancia** o otro criterio de parada.\n"
   ]
  },
  {
   "cell_type": "markdown",
   "id": "8771764c",
   "metadata": {},
   "source": [
    "Ejemplo:\n",
    "Dada la función:  \n",
    "$$ f(x) = x^4 - x - 1 $$  \n",
    "\n",
    "Con valor inicial:  \n",
    "$$ p_0 = 1     p_1 = 1.4 $$  \n",
    "\n",
    "Use el **Método de la secante** para obtener soluciones precisas con una tolerancia de:  \n",
    "$$ \\varepsilon = 10^{-6} $$"
   ]
  },
  {
   "cell_type": "code",
   "execution_count": 20,
   "id": "d018735e",
   "metadata": {},
   "outputs": [
    {
     "name": "stdout",
     "output_type": "stream",
     "text": [
      "n-2         n-1         EcF(n-2)       EcF(n-1)       n           Tolerancia  \n",
      "--------------------------------------------------------------------------------\n",
      "1.000000    1.400000    -1.000000      1.441600       1.163827    0.236173    \n",
      "1.400000    1.163827    1.441600       -0.329175      1.207730    0.043903    \n",
      "1.163827    1.207730    -0.329175      -0.080182      1.221868    0.014138    \n",
      "1.207730    1.221868    -0.080182      0.007065       1.220723    0.001145    \n",
      "1.221868    1.220723    0.007065       -0.000132      1.220744    0.000021    \n",
      "1.220723    1.220744    -0.000132      -0.000000      1.220744    0.000000    \n",
      "\n",
      "El método de la Secante fue exitoso.\n",
      "Raíz aproximada: 1.2207440846\n"
     ]
    }
   ],
   "source": [
    "# @autor: Estefano Condoy\n",
    "# @fecha: 2025-14-05\n",
    "# @versión: 1.0\n",
    "# @asignatura: Métodos Numéricos\n",
    "\n",
    "import math\n",
    "\n",
    "def EcFuncion(x):\n",
    "    return x**4-x-1\n",
    "\n",
    "# Codificar método de la secante\n",
    "def EcSecante(EcP0, EcP1, EcTOL, EcN0):\n",
    "    EcQ0 = EcFuncion(EcP0)\n",
    "    EcQ1 = EcFuncion(EcP1)\n",
    "\n",
    "    print(f\"{'n-2':<12}{'n-1':<12}{'EcF(n-2)':<15}{'EcF(n-1)':<15}{'n':<12}{'Tolerancia':<12}\")\n",
    "    print(\"-\" * 80)\n",
    "\n",
    "    for EcI in range(2, EcN0 + 1):\n",
    "        if (EcQ1 - EcQ0) == 0:\n",
    "            print(\"Error: División por cero (EcQ1 - EcQ0 = 0)\")\n",
    "            return\n",
    "\n",
    "        EcP = EcP1 - EcQ1 * (EcP1 - EcP0) / (EcQ1 - EcQ0)\n",
    "        EcError = abs(EcP - EcP1)\n",
    "\n",
    "        print(f\"{EcP0:<12.6f}{EcP1:<12.6f}{EcQ0:<15.6f}{EcQ1:<15.6f}{EcP:<12.6f}{EcError:<12.6f}\")\n",
    "\n",
    "        if EcError < EcTOL:\n",
    "            print(\"\\nEl método de la Secante fue exitoso.\")\n",
    "            print(f\"Raíz aproximada: {EcP:.10f}\")\n",
    "            return\n",
    "\n",
    "        # Actualizamos los valores para la siguiente iteración\n",
    "        EcP0, EcQ0 = EcP1, EcQ1\n",
    "        EcP1, EcQ1 = EcP, EcFuncion(EcP)\n",
    "\n",
    "    print(\"\\nEl método falló después de\", EcN0, \"iteraciones.\")\n",
    "\n",
    "EcP0 = 1.0        # Aproximación inicial n-2\n",
    "EcP1 = 1.4        # Aproximación inicial n-1\n",
    "EcTOL = 1e-6      # Tolerancia\n",
    "EcN0 = 50         # Número máximo de iteraciones\n",
    "\n",
    "EcSecante(EcP0, EcP1, EcTOL, EcN0)\n"
   ]
  },
  {
   "cell_type": "markdown",
   "id": "7786f079",
   "metadata": {},
   "source": [
    "<div style=\"text-align: center;\">\n",
    "\n",
    "$$\\huge \\textcolor{red}{\\textbf{U3 Soluciones de sistemas de\n",
    "ecuaciones }}$$\n",
    "$$\\huge \\textcolor{red}{\\textbf{no lineales C }}$$\n",
    "<br><br>"
   ]
  },
  {
   "cell_type": "markdown",
   "id": "e0136edc",
   "metadata": {},
   "source": [
    "## Método de Posición Falsa (Regula Falsi)"
   ]
  },
  {
   "cell_type": "markdown",
   "id": "907bcc6f",
   "metadata": {},
   "source": [
    "\n",
    "Este método mantiene las propiedades del **Método de Bisección** y la **fórmula iterativa de la Secante**, pero se diferencia en la forma de encontrar nuevos intervalos.  \n",
    "\n",
    "A partir de **dos puntos iniciales**, se traza una **recta secante** y se determina su **intersección con el eje \\( x \\)**, lo que permite una aproximación más rápida a la raíz.\n",
    "\n",
    "### Fórmula iterativa\n",
    "$$ x_n = x_{n-1} - f(x_{n-1}) \\times \\frac{x_{n-1} - x_{n-2}}{f(x_{n-1}) - f(x_{n-2})} $$\n",
    "\n",
    "Se verifica la condición:\n",
    "$$ \\text{sgn} f(p_2) \\times \\text{sgn} f(p_1) < 0 $$\n",
    "\n",
    "### Pasos del método\n",
    "- Se eligen **dos valores iniciales** \\( p_0 \\) y \\( p_1 \\) dentro del intervalo de interés, y se traza una **recta secante** entre ellos.\n",
    "- Se verifica que \\( f(p_0) \\) y \\( f(p_1) \\) tengan **signos opuestos**, lo que asegura la existencia de una **raíz aproximada en el intervalo**.\n",
    "\n"
   ]
  },
  {
   "cell_type": "markdown",
   "id": "32865fe6",
   "metadata": {},
   "source": [
    "Ejemplo:\n",
    "Dada la función:  \n",
    "$$ f(x) = x^4 - x - 1 $$  \n",
    "\n",
    "Con valor inicial:  \n",
    "$$ p_0 = 1     p_1 = 1.4 $$  \n",
    "\n",
    "Use el **Método de la Posición Falsa** para obtener soluciones precisas con una tolerancia de:  \n",
    "$$ \\varepsilon = 10^{-6} $$"
   ]
  },
  {
   "cell_type": "code",
   "execution_count": null,
   "id": "54496c0d",
   "metadata": {},
   "outputs": [
    {
     "name": "stdout",
     "output_type": "stream",
     "text": [
      "n-2         n-1         f(n-2)         f(n-1)         n           Error       \n",
      "--------------------------------------------------------------------------------\n",
      "1.000000    1.400000    -1.000000      1.441600       1.163827    0.236173    \n",
      "1.400000    1.163827    1.441600       -0.329175      1.207730    0.043903    \n",
      "1.400000    1.207730    1.441600       -0.080182      1.217861    0.010131    \n",
      "1.400000    1.217861    1.441600       -0.018025      1.220110    0.002249    \n",
      "1.400000    1.220110    1.441600       -0.003978      1.220605    0.000495    \n",
      "1.400000    1.220605    1.441600       -0.000874      1.220714    0.000109    \n",
      "1.400000    1.220714    1.441600       -0.000192      1.220737    0.000024    \n",
      "1.400000    1.220737    1.441600       -0.000042      1.220743    0.000005    \n",
      "1.400000    1.220743    1.441600       -0.000009      1.220744    0.000001    \n",
      "1.400000    1.220744    1.441600       -0.000002      1.220744    0.000000    \n",
      "\n",
      "El método de la Posición Falsa fue exitoso.\n",
      "Raíz aproximada: 1.2207440136\n"
     ]
    }
   ],
   "source": [
    "# @autor: Estefano Condoy\n",
    "# @fecha: 2025-14-05\n",
    "# @versión: 1.0\n",
    "# @asignatura: Métodos Numéricos\n",
    "\n",
    "import math\n",
    "\n",
    "def EcFuncion(x):\n",
    "    return x**4 - x - 1\n",
    "\n",
    "# Método de la posición falsa (Regula Falsi)\n",
    "def EcPosicionFalsa(EcP0, EcP1, EcTOL, EcN0):\n",
    "    EcQ0 = EcFuncion(EcP0)\n",
    "    EcQ1 = EcFuncion(EcP1)\n",
    "\n",
    "    print(f\"{'n-2':<12}{'n-1':<12}{'f(n-2)':<15}{'f(n-1)':<15}{'n':<12}{'Error':<12}\")\n",
    "    print(\"-\" * 80)\n",
    "\n",
    "    for EcI in range(2, EcN0 + 1):\n",
    "        if (EcQ1 - EcQ0) == 0:\n",
    "            print(\"Error: División por cero (EcQ1 - EcQ0 = 0)\")\n",
    "            return\n",
    "\n",
    "        EcP = EcP1 - EcQ1 * (EcP1 - EcP0) / (EcQ1 - EcQ0)\n",
    "        EcError = abs(EcP - EcP1)\n",
    "\n",
    "        print(f\"{EcP0:<12.6f}{EcP1:<12.6f}{EcQ0:<15.6f}{EcQ1:<15.6f}{EcP:<12.6f}{EcError:<12.6f}\")\n",
    "\n",
    "        if EcError < EcTOL:\n",
    "            print(\"\\nEl método de la Posición Falsa fue exitoso.\")\n",
    "            print(f\"Raíz aproximada: {EcP:.10f}\")\n",
    "            return\n",
    "\n",
    "        EcQ = EcFuncion(EcP)\n",
    "\n",
    "        # Verificamos el signoS\n",
    "        if EcQ * EcQ1 < 0:\n",
    "            EcP0 = EcP1\n",
    "            EcQ0 = EcQ1\n",
    "\n",
    "        EcP1 = EcP\n",
    "        EcQ1 = EcQ\n",
    "\n",
    "    print(\"\\nEl método falló después de\", EcN0, \"iteraciones.\")\n",
    "\n",
    "# Parámetros de entrada\n",
    "EcP0 = 1.0        # Aproximación inicial p0\n",
    "EcP1 = 1.4        # Aproximación inicial p1\n",
    "EcTOL = 1e-6      # Tolerancia\n",
    "EcN0 = 50         # Número máximo de iteraciones\n",
    "\n",
    "# Ejecutar método\n",
    "EcPosicionFalsa(EcP0, EcP1, EcTOL, EcN0)\n"
   ]
  },
  {
   "cell_type": "markdown",
   "id": "aa668585",
   "metadata": {},
   "source": [
    "<div style=\"text-align: center;\">\n",
    "\n",
    "$$\\huge \\textcolor{red}{\\textbf{U4 Interpolación y Ajuste de Curvas }}$$\n",
    "<br><br>"
   ]
  },
  {
   "cell_type": "markdown",
   "id": "a7743d39",
   "metadata": {},
   "source": [
    "## Polinomio de Taylor"
   ]
  },
  {
   "cell_type": "markdown",
   "id": "8c7eeba9",
   "metadata": {},
   "source": [
    "Permite aproximar funciones suaves que son infinitamente derivables mediante un polinomio centrado en un punto \\(x_0\\). Según [1], este polinomio de orden \\(n\\) está dado por:\n",
    "\n",
    "$$\n",
    "P_n(x) = f(x_0) + f'(x_0)(x - x_0) + \\frac{f''(x_0)}{2!}(x - x_0)^2 + \\frac{f'''(x_0)}{3!}(x - x_0)^3 + \\dots + \\frac{f^n(x_0)}{n!}(x - x_0)^n\n",
    "$$\n",
    "\n",
    "También la precisión de este polinomio depende del número de derivadas utilizadas, y el error de aproximación se puede calcular con el término de Lagrange del residuo, que está dado por:\n",
    "\n",
    "$$\n",
    "R_n(x) = \\frac{f^{(n+1)}(\\xi(x))}{(n+1)!}(x - x_0)^{(n+1)}, \\quad \\text{donde } \\xi(x) \\in (x, x_0)\n",
    "$$\n"
   ]
  },
  {
   "cell_type": "markdown",
   "id": "7baaae40",
   "metadata": {},
   "source": [
    "Al ser un codigo corregido y no de mi autoridad (Yo realice correciónes )\n",
    "\n",
    "Es de la pertenencia del ing Carlos Ayala.\n",
    "Con las siguiente funciones que se puede utilizar en el código:"
   ]
  },
  {
   "cell_type": "markdown",
   "id": "84df7459",
   "metadata": {},
   "source": [
    "### Funciones válidas para función `taylor`\n",
    "\n",
    "**Funciones Trigonométricas**\n",
    "\n",
    "| Función Matemática | String válido (`func_str`) |\n",
    "|--------------------|-----------------------------|\n",
    "| \\( \\sin(x) \\)      | `\"sin(x)\"`                  |\n",
    "| \\( \\cos(x) \\)      | `\"cos(x)\"`                  |\n",
    "| \\( \\tan(x) \\)      | `\"tan(x)\"`                  |\n",
    "| \\( \\cot(x) \\)      | `\"cot(x)\"`                  |\n",
    "| \\( \\sec(x) \\)      | `\"sec(x)\"`                  |\n",
    "| \\( \\csc(x) \\)      | `\"csc(x)\"`                  |\n",
    "\n",
    "**Funciones Exponenciales y Logarítmicas**\n",
    "\n",
    "| Función Matemática   | String válido (`func_str`) |\n",
    "|----------------------|-----------------------------|\n",
    "| \\( e^x \\)            | `\"exp(x)\"`                  |\n",
    "| \\( \\ln(x) \\)         | `\"ln(x)\"`                   |\n",
    "| \\( \\log_{10}(x) \\)   | `\"log(x, 10)\"`              |\n",
    "| \\( \\log_b(x) \\)      | `\"log(x, b)\"` (reemplazar `b`) |\n",
    "\n",
    "**Funciones Misceláneas**\n",
    "\n",
    "| Función Matemática | String válido (`func_str`) |\n",
    "|--------------------|-----------------------------|\n",
    "| \\( \\sqrt{x} \\)     | `\"sqrt(x)\"`                 |\n",
    "| \\( \\|x\\| \\)        | `\"Abs(x)\"`                  |\n",
    "| Polinomio típico   | `\"x**2 + 3*x\"`              |\n"
   ]
  },
  {
   "cell_type": "markdown",
   "id": "980e553f",
   "metadata": {},
   "source": [
    "Función para truncar"
   ]
  },
  {
   "cell_type": "code",
   "execution_count": 21,
   "id": "81df3279",
   "metadata": {},
   "outputs": [],
   "source": [
    "# @autor original: Ing. Carlos Ayala\n",
    "# @correcciones y mejoras: Estefano Condoy\n",
    "# @fecha de modificación: 2025-05-27\n",
    "# @versión: 2.0\n",
    "# @asignatura: Métodos Numéricos\n",
    "\n",
    "import sympy as sp\n",
    "\n",
    "def Ec_truncar(numero, decimales):\n",
    "    \"\"\"\n",
    "    Para truncar los decimales sin que se redondee utilice lo siguiente:\n",
    "\n",
    "    :numero: número que se va a truncar (debe ser float )\n",
    "    :decimales: número de cifras decimales a mantener\n",
    "    :return: número truncado como flotante\n",
    "    \"\"\"\n",
    "    factor = 10 ** decimales\n",
    "    return int(numero * factor) / factor\n"
   ]
  },
  {
   "cell_type": "markdown",
   "id": "ba666403",
   "metadata": {},
   "source": [
    "Cálculo del polinomio de Taylor con su truncamiento"
   ]
  },
  {
   "cell_type": "code",
   "execution_count": 63,
   "id": "0d1a986e",
   "metadata": {},
   "outputs": [],
   "source": [
    "def Ec_polinomio_taylor(func_str, x0, grado, decimales):\n",
    "    \"\"\"\n",
    "    Esta función calcula el polinomio y la trunca a los decimales que pidamos.\n",
    "\n",
    "    :func_str: string de la función, por ejemplo 'exp(x)'\n",
    "    :x0: punto alrededor del cual se desarrolla el polinomio\n",
    "    :grado: grado del polinomio de Taylor\n",
    "    :decimales: número de decimales a truncar en los coeficientes\n",
    "    :return: string con la forma de f(x) ≈ P_n(x) + R_n(x)\n",
    "    \"\"\"\n",
    "    \n",
    "    x = sp.Symbol('x')  # Se declara la variable x\n",
    "    Ec_funcion = sp.sympify(func_str)  # Se convierte el string de la función a objeto simbólico\n",
    "    Ec_pol_taylor = 0  # Inicializa el polinomio de Taylor como 0\n",
    "\n",
    "    # Este for es para  construir el polinomio de Taylor hasta el grado indicado\n",
    "    for n in range(grado + 1):\n",
    "        Ec_derivada_n = Ec_funcion.diff(x, n)  # Derivada n-ésima de la función\n",
    "        Ec_valor_derivada = Ec_derivada_n.subs(x, x0)  # Evalúa la derivada en x0\n",
    "        Ec_fact_n = sp.factorial(n)  # Calcula el factorial\n",
    "        Ec_coef = Ec_valor_derivada / Ec_fact_n  # Calcula el coeficiente de (x - x0)^n\n",
    "\n",
    "        # Si el coeficiente es numérico, se trunca sin redondear y se vuelve a convertir a tipo Float simbólico\n",
    "        if Ec_coef.is_number:\n",
    "            Ec_coef = Ec_truncar(float(Ec_coef), decimales)\n",
    "            Ec_coef = sp.Float(Ec_coef, decimales)\n",
    "\n",
    "        # Si el coeficiente es cero, se omite el término del polinomio\n",
    "        if Ec_coef == 0:\n",
    "            continue\n",
    "\n",
    "        # Define la base del término: (x - x0)^n o x^n si x0 = 0\n",
    "        Ec_base = (x - x0)**n if x0 != 0 else x**n\n",
    "        Ec_pol_taylor += Ec_coef * Ec_base  # Suma el término al polinomio total\n",
    "\n",
    "    # Convierte el polinomio de Taylor a string para mostrarlo\n",
    "    Ec_Pn_str = str(Ec_pol_taylor)\n",
    "\n",
    "    # Esto es el calculo del error\n",
    "\n",
    "    n_plus_1 = grado + 1  # Se calcula el orden del siguiente término (n + 1), esto es porque se debe tomar una derivada más\n",
    "    fact_np1 = sp.factorial(n_plus_1)  # Se calcula (n+1)!\n",
    "    inv_fact_np1 = Ec_truncar(1 / float(fact_np1), decimales)  # Se trunca 1/(n+1)!\n",
    "    inv_fact_np1 = sp.Float(inv_fact_np1, decimales)  # Se convierte a simbólico con precisión fija\n",
    "\n",
    "    # Base del término de error: (x - x0)^(n+1) o x^(n+1) si x0 = 0\n",
    "    Ec_base_error = (x - x0)**n_plus_1 if x0 != 0 else x**n_plus_1\n",
    "\n",
    "    # Se forma el string del término de error con la notación ξ(x) para la derivada general\n",
    "    Ec_Rn_str = f\"( {inv_fact_np1}*{func_str}^({n_plus_1})(ξ(x)) )*({Ec_base_error})\"\n",
    "\n",
    "    # Se imprime el polinomio aproximado y el término de error\n",
    "    print(f\"P_n(x) ≈ {Ec_Pn_str}\")\n",
    "    print(f\"R_n(x) ≈ {Ec_Rn_str}\")\n",
    "    print(f\"f(x) ≈ {Ec_Pn_str} + {Ec_Rn_str}\")\n"
   ]
  },
  {
   "cell_type": "markdown",
   "id": "ed6d52c6",
   "metadata": {},
   "source": [
    "Ejemplo de su uso"
   ]
  },
  {
   "cell_type": "code",
   "execution_count": 68,
   "id": "a7872323",
   "metadata": {},
   "outputs": [
    {
     "name": "stdout",
     "output_type": "stream",
     "text": [
      "P_n(x) ≈ 2.71828*x + 0.113261*(x - 1)**4 + 0.453046*(x - 1)**3 + 1.35914*(x - 1)**2\n",
      "R_n(x) ≈ ( 0.00833300*exp(x)^(5)(ξ(x)) )*((x - 1)**5)\n",
      "f(x) ≈ 2.71828*x + 0.113261*(x - 1)**4 + 0.453046*(x - 1)**3 + 1.35914*(x - 1)**2 + ( 0.00833300*exp(x)^(5)(ξ(x)) )*((x - 1)**5)\n",
      "None\n"
     ]
    }
   ],
   "source": [
    "# Ejemplo de uso con f(x) = exp(x), alrededor de x0 = 1, grado 5  y truncado a 6 decimales\n",
    "print(Ec_polinomio_taylor(\"exp(x)\", x0=1, grado=4, decimales=6))"
   ]
  },
  {
   "cell_type": "markdown",
   "id": "eeba0888",
   "metadata": {},
   "source": [
    "## Series de Maclaurin"
   ]
  },
  {
   "cell_type": "markdown",
   "id": "5d9bde1f",
   "metadata": {},
   "source": [
    "Esta serie se distingue como un caso distinto pero ala vez rara de Taylor , donde el centro de la expansión, $x_0$, se establece en $0$. Su aplicación fundamental reside en la capacidad de **aproximar funciones complejas a través de polinomios**.\n",
    "\n",
    "Si bien ofrece una **precisión excepcional en las cercanías de $x_0 = 0$**, esta exactitud disminuye de forma gradual a medida que nos distanciamos de dicho origen. Es crucial entender que, dada su naturaleza de aproximación local centrada en un punto fijo, la serie de Maclaurin **no está diseñada para tareas de interpolación** de datos discretos, sino que su propósito esencial es **describir y modelar el comportamiento local de una función** en las proximidades de su punto de expansión.\n"
   ]
  },
  {
   "cell_type": "code",
   "execution_count": 22,
   "id": "6c3338e3",
   "metadata": {},
   "outputs": [],
   "source": [
    "#@autor: Estefano Condoy\n",
    "#@fecha: 2025-06-05\n",
    "#@version: 1.0\n",
    "#@asignatura: Métodos Numéricos\n",
    "import math\n",
    "import numpy as np     #Aqui ocupo numpy para poder hacer la matriz de coeficientes\n",
    "import matplotlib.pyplot as plt #Ocupo esta libreria para poder graficar\n",
    "\n",
    "def EcMaclaurinCos(EcX_Value, EcNumTerms_Value):\n",
    "    \"\"\"\n",
    "    Elegi calcular cos(x) porque e a la x ya estaba en el ejemplo del aula virtual\n",
    "\n",
    "    Parámetros:\n",
    "        EcX_Value (float): El valor en radianes para el cual se calculará cos(x).\n",
    "        EcNumTerms_Value (int): El número de términos a usar en la serie.\n",
    "                                Cuantos más términos, mejor la aproximación.\n",
    "\n",
    "    Lo que retorna:\n",
    "        float: La aproximación de cos(x) usando la serie de Maclaurin.\n",
    "    \"\"\"\n",
    "    EcResult = 0.0  # Esto inicializa el resultado de la serie\n",
    "    EcSign = 1      # Esto controla el signo de los términos en la serie (positivo/negativo)\n",
    "\n",
    "    # Este for ayuda para la iteración de los términos de la serie\n",
    "    for EcN_Term in range(EcNumTerms_Value):\n",
    "        # El término general para cos(x) es (-1)^n * x^(2n) / (2n)!\n",
    "        EcNumerator_Term = EcSign * (EcX_Value ** (2 * EcN_Term))  # Calcula el numerador\n",
    "        EcDenominator_Term = math.factorial(2 * EcN_Term)          # Calcula el denominador\n",
    "\n",
    "        # Suma lo que sacamos del término a la serie\n",
    "        EcResult += EcNumerator_Term / EcDenominator_Term\n",
    "\n",
    "        # Se alterna el signo para el siguiente término\n",
    "        EcSign *= -1\n",
    "\n",
    "    return EcResult"
   ]
  },
  {
   "cell_type": "markdown",
   "id": "07bd3e22",
   "metadata": {},
   "source": [
    "Implementamos la gráfica pedida para esta serie:"
   ]
  },
  {
   "cell_type": "code",
   "execution_count": 23,
   "id": "89cc8939",
   "metadata": {},
   "outputs": [
    {
     "data": {
      "image/png": "[encoded data removed]",
      "text/plain": [
       "<Figure size 1000x600 with 1 Axes>"
      ]
     },
     "metadata": {},
     "output_type": "display_data"
    }
   ],
   "source": [
    "# Configuración para la gráfica ( Esto si me ayude con IA para que sea más fácil de entender)\n",
    "if __name__ == \"__main__\":\n",
    "    EcX_Min = -4 * math.pi  # Rango mínimo para el eje X (aprox -12.5)\n",
    "    EcX_Max = 4 * math.pi   # Rango máximo para el eje X (aprox 12.5)\n",
    "    EcPoints = 500          # Número de puntos para una curva suave\n",
    "\n",
    "    # Genera un rango de valores para x\n",
    "    EcX_Plot = np.linspace(EcX_Min, EcX_Max, EcPoints)\n",
    "\n",
    "    # Calcula los valores reales de cos(x)\n",
    "    EcY_TrueCos = np.cos(EcX_Plot)\n",
    "\n",
    "    # --- Creación del gráfico ---\n",
    "    plt.figure(figsize=(10, 6)) # Define el tamaño de la figura\n",
    "\n",
    "    # Grafica la función real cos(x)\n",
    "    plt.plot(EcX_Plot, EcY_TrueCos, label=r'$y = \\cos(x)$', color='blue', linewidth=2)\n",
    "\n",
    "    # Define el número de términos para cada aproximación de Maclaurin\n",
    "    # Estos valores pueden ajustarse para ver cómo la aproximación mejora\n",
    "    EcTerms_List = [0, 1, 2, 3, 4, 5, 6, 7, 8]\n",
    "\n",
    "    # Colores para las líneas de la serie de Maclaurin (opcional, para mejor visualización)\n",
    "    # Puedes añadir más colores si añades más términos\n",
    "    EcColors = ['grey', 'lightgrey', 'silver', 'darkkhaki', 'olivedrab', 'teal', 'darkcyan', 'mediumaquamarine', 'lightseagreen']\n",
    "    EcLineStyles = [':', '--', '-.', '-', ':', '--', '-.', '-', ':']\n",
    "\n",
    "    # Grafica las aproximaciones de la serie de Maclaurin\n",
    "    for EcIndex, EcNumTerms in enumerate(EcTerms_List):\n",
    "        EcY_Maclaurin = [EcMaclaurinCos(x_val, EcNumTerms) for x_val in EcX_Plot]\n",
    "        # El label muestra P_n(x) donde n es el término máximo del polinomio\n",
    "        plt.plot(EcX_Plot, EcY_Maclaurin,\n",
    "                 label=f'$P_{{{2 * EcNumTerms}}}(x)$' if EcNumTerms > 0 else '$P_0(x)$',\n",
    "                 color=EcColors[EcIndex % len(EcColors)],\n",
    "                 linestyle=EcLineStyles[EcIndex % len(EcLineStyles)],\n",
    "                 alpha=0.7)\n",
    "\n",
    "    # --- Configuración de los ejes y etiquetas ---\n",
    "    plt.axhline(0, color='gray', linewidth=0.8) # Eje X\n",
    "    plt.axvline(0, color='gray', linewidth=0.8) # Eje Y\n",
    "\n",
    "    plt.title(r'Serie de Maclaurin para $f(x) = \\cos(x)$ @autor: Estefano Condoy',)\n",
    "    plt.xlabel('$x$')\n",
    "    plt.ylabel('$y$')\n",
    "    plt.xlim(EcX_Min, EcX_Max)\n",
    "    plt.ylim(-2, 2) # Ajusta los límites del eje Y para una mejor visualización de cos(x)\n",
    "\n",
    "    plt.grid(True, linestyle='--', alpha=0.6)\n",
    "    plt.legend() # Muestra la leyenda de las etiquetas\n",
    "    plt.show() # Muestra el gráfico"
   ]
  },
  {
   "cell_type": "markdown",
   "id": "79a3fabb",
   "metadata": {},
   "source": [
    "## Polinomio de Lagrange"
   ]
  },
  {
   "cell_type": "markdown",
   "id": "f8a4a965",
   "metadata": {},
   "source": [
    "El polinomio de Lagrange es una técnica de interpolación utilizada para construir un polinomio único que pase exactamente por un conjunto dado de puntos. Según Arfken y Weber [3], se define como:\n",
    "\n",
    "$$\n",
    "L(x) = \\sum_{i=0}^{n} y_i \\cdot l_i(x), \\quad \\text{donde} \\quad l_i(x) = \\prod_{\\substack{j=0 \\\\ j \\neq i}}^{n} \\frac{x - x_j}{x_i - x_j}\n",
    "$$\n",
    "\n",
    "La siguiente fórmula más explícita se define así:\n",
    "\n",
    "$$\n",
    "L_{n,k}(x) = \\frac{(x - x_0)(x - x_1) \\dots (x - x_{k-1})(x - x_{k+1}) \\dots (x - x_n)}{(x_k - x_0)(x_k - x_1) \\dots (x_k - x_{k-1})(x_k - x_{k+1}) \\dots (x_k - x_n)}\n",
    "$$"
   ]
  },
  {
   "cell_type": "markdown",
   "id": "e6b3fb61",
   "metadata": {},
   "source": [
    "Creamos el Polinomio"
   ]
  },
  {
   "cell_type": "code",
   "execution_count": 80,
   "id": "50233cd7",
   "metadata": {},
   "outputs": [],
   "source": [
    "# @autor: Estefano Condoy\n",
    "# @fecha: 2025-31-05\n",
    "# @versión: 1.0\n",
    "# @asignatura: Métodos Numéricos\n",
    "\n",
    "def Ec_interpolacion_lagrange(Ec_x_datos, Ec_y_datos, Ec_variable, Ec_decimales):\n",
    "    \"\"\"\n",
    "    Calcula el polinomio de Langrage con puntos dados y se trunca los decimales con los que se pida\n",
    "    x_datos: lista de valores de x conocidos\n",
    "    y_datos: lista de valores de y conocidos\n",
    "    variable: variable simbólica (usualmente x)\n",
    "    decimales: cantidad de decimales a truncar en los coeficientes\n",
    "    return: string con f(x) ≈ P_n(x) + R_n(x)\n",
    "    \"\"\"\n",
    "    Ec_x = Ec_variable  # Es la variable simbolica para crear el polinomio\n",
    "    Ec_n = len(Ec_x_datos)  # Número de puntos de datos\n",
    "    Ec_polinomio = 0  # Inicializamos el polinomio\n",
    "\n",
    "    # Este for nos ayuda con la construcción del polinomio interpolador de Lagrange\n",
    "    for Ec_i in range(Ec_n):\n",
    "        Ec_xi = Ec_x_datos[Ec_i]  # Valor x_i\n",
    "        Ec_yi = Ec_y_datos[Ec_i]  # Valor y_i = \n",
    "        Ec_Li = 1  # Inicializamos el polinomio base L_i(x)\n",
    "\n",
    "        # Construimos el término L_i(x)\n",
    "        for Ec_j in range(Ec_n):\n",
    "            if Ec_j != Ec_i:\n",
    "                # Aqui nos da el producto de (x - x_j)/(x_i - x_j)\n",
    "                Ec_Li *= (Ec_x - Ec_x_datos[Ec_j]) / (Ec_xi - Ec_x_datos[Ec_j])\n",
    "\n",
    "        # Aqui truncamos el valor de y_i para controlar la precisión\n",
    "        Ec_yi_truncado = Ec_truncar(float(Ec_yi), Ec_decimales)\n",
    "        Ec_yi_truncado = sp.Float(Ec_yi_truncado, Ec_decimales)\n",
    "        # Ss suma el término correspondiente al polinomio\n",
    "        Ec_polinomio += Ec_yi_truncado * Ec_Li\n",
    "\n",
    "    # Se expande el polinomio para obtener términos separados\n",
    "    Ec_polinomio_expandido = Ec_polinomio.expand()\n",
    "    Ec_coeficientes = Ec_polinomio_expandido.as_ordered_terms()\n",
    "\n",
    "    Ec_polinomio_truncado = 0 \n",
    "    for Ec_termino in Ec_coeficientes:\n",
    "        # Se separa el  coeficiente y base del término\n",
    "        Ec_coef = Ec_termino.as_coeff_Mul()[0]\n",
    "        Ec_base = Ec_termino / Ec_coef\n",
    "\n",
    "        # Se trunca el coeficiente a la cantidad de decimales que queramos \n",
    "        Ec_coef_trunc = Ec_truncar(float(Ec_coef), Ec_decimales)\n",
    "        Ec_coef_trunc = sp.Float(Ec_coef_trunc, Ec_decimales)\n",
    "\n",
    "        # Sumamos el término con coeficiente truncado al polinomio\n",
    "        Ec_polinomio_truncado += Ec_coef_trunc * Ec_base\n",
    "\n",
    "    Ec_Pn_str = str(Ec_polinomio_truncado)  # Convertimos el polinomio a string\n",
    "\n",
    "    # Calculamos el error\n",
    "    Ec_producto_error = 1\n",
    "    for Ec_k in range(Ec_n):\n",
    "        # Producto (x - x_k) para k=0,...,n-1\n",
    "        Ec_producto_error *= (Ec_x - Ec_x_datos[Ec_k])\n",
    "\n",
    "    Ec_producto_error = Ec_producto_error.expand()\n",
    "\n",
    "    # El factorial de n para el término de error\n",
    "    Ec_factorial_n = sp.factorial(Ec_n)\n",
    "    Ec_inverso_fact = 1 / float(Ec_factorial_n)\n",
    "\n",
    "    # Se trunca el valor del inverso del factorial\n",
    "    Ec_inverso_fact = Ec_truncar(Ec_inverso_fact, Ec_decimales)\n",
    "    Ec_inverso_fact = sp.Float(Ec_inverso_fact, Ec_decimales)\n",
    "\n",
    "    # se construye el término de error en forma simbólica\n",
    "    Ec_Rn_str = f\"( {Ec_inverso_fact} * f^({Ec_n})(ξ(x)) ) * ( {Ec_producto_error} )\"\n",
    "\n",
    "    # Aquí se muestra los resultados\n",
    "    print(f\"P_n(x) ≈ {Ec_Pn_str}\")\n",
    "    print(f\"R_n(x) ≈ {Ec_Rn_str}\")\n",
    "    print(f\"f(x) ≈ {Ec_Pn_str} + {Ec_Rn_str}\")\n",
    "\n"
   ]
  },
  {
   "cell_type": "markdown",
   "id": "31b1de28",
   "metadata": {},
   "source": [
    "Ejemplo de uso"
   ]
  },
  {
   "cell_type": "code",
   "execution_count": 67,
   "id": "e19dce83",
   "metadata": {},
   "outputs": [
    {
     "name": "stdout",
     "output_type": "stream",
     "text": [
      "P_n(x) ≈ 0.5*x**2 - 2.5*x + 4.0\n",
      "R_n(x) ≈ ( 0.16666 * f^(3)(ξ(x)) ) * ( x**3 - 6*x**2 + 11*x - 6 )\n",
      "f(x) ≈ 0.5*x**2 - 2.5*x + 4.0 + ( 0.16666 * f^(3)(ξ(x)) ) * ( x**3 - 6*x**2 + 11*x - 6 )\n"
     ]
    }
   ],
   "source": [
    "# Puntos de interpolación: f(x) = e^x en x = 1, 2, 3 (aproximados)\n",
    "Ec_xlista = [1, 2, 3]\n",
    "Ec_ylista = [2, 1, 1]\n",
    "\n",
    "# Aplicamos el método con truncamiento a 4 decimales\n",
    "Ec_interpolacion_lagrange(Ec_xlista, Ec_ylista, Ec_x, Ec_decimales=5)"
   ]
  },
  {
   "cell_type": "markdown",
   "id": "a6935134",
   "metadata": {},
   "source": [
    "<div style=\"text-align: center;\">\n",
    "\n",
    "$$\\huge \\textcolor{red}{\\textbf{U4 Interpolación y Ajuste de Curvas B }}$$\n",
    "<br><br>"
   ]
  },
  {
   "cell_type": "markdown",
   "id": "56efc9ef",
   "metadata": {},
   "source": [
    "## Spline Cúbico con frontera Natural"
   ]
  },
  {
   "cell_type": "markdown",
   "id": "e3a0494c",
   "metadata": {},
   "source": [
    "Un spline cúbico natural es una técnica de interpolación muy útil que une una serie de puntos de datos usando polinomios cúbicos individuales. Este método asegura que la curva resultante sea excepcionalmente suave, manteniendo la continuidad tanto en su primera como en su segunda derivada. Lo que distingue a un \"spline natural\" es una condición de frontera específica: la segunda derivada en ambos extremos del intervalo interpolado se establece en cero. Esta característica única ayuda a reducir la curvatura de la curva en sus límites, lo que resulta en una interpolación más orgánica y menos errática, evitando oscilaciones no deseadas."
   ]
  },
  {
   "cell_type": "markdown",
   "id": "e6fafbe3",
   "metadata": {},
   "source": [
    "Creamos el supline Cubico Natural"
   ]
  },
  {
   "cell_type": "code",
   "execution_count": 117,
   "id": "576f0b06",
   "metadata": {},
   "outputs": [],
   "source": [
    "# @autor: Estefano Condoy\n",
    "# @fecha: 2025-31-05\n",
    "# @versión: 1.0\n",
    "# @asignatura: Métodos Numéricos\n",
    "# @código ralizado basado en el pseudocódigo del Ing. Carlos Ayala\n",
    "def EcSplineCubicoNatural(EcX, EcF, decimales):\n",
    "    \"\"\"\n",
    "    Esta sera la función para calcular el spline cúbico natural.\n",
    "\n",
    "    :EcX: Lista de coordenadas x\n",
    "    :EcF: Lista de coordenadas f(x) (y)\n",
    "    :decimales: Decimales a truncar en los resultados\n",
    "    :return: Listas de coeficientes a, b, c, d de cada intervalo del spline\n",
    "    \"\"\"\n",
    "    n = len(EcX) - 1  # Cantidad de intervalos\n",
    "\n",
    "    # Inicialización de listas necesarias\n",
    "    EcH = [0.0] * n              # Aqui se pone la longuitud de cada subintervalo\n",
    "    EcA = EcF[:]                 # Coeficientes a[i] son los valores de f(x)\n",
    "    EcB = [0.0] * n\n",
    "    EcC = [0.0] * (n + 1)\n",
    "    EcD = [0.0] * n\n",
    "    EcAlpha = [0.0] * n\n",
    "    EcL = [0.0] * (n + 1)\n",
    "    EcMu = [0.0] * (n + 1)\n",
    "    EcZ = [0.0] * (n + 1)\n",
    "\n",
    "    # Aqui calculamos h[i] = x[i+1] - x[i]\n",
    "    for i in range(n):\n",
    "        EcH[i] = EcX[i+1] - EcX[i]\n",
    "\n",
    "    # Aqui calculamos el alpha[i] (parte derecha del sistema tridiagonal)\n",
    "    for i in range(1, n):\n",
    "        EcAlpha[i] = (3.0 / EcH[i]) * (EcA[i+1] - EcA[i]) - (3.0 / EcH[i-1]) * (EcA[i] - EcA[i-1])\n",
    "\n",
    "    # En esta parte inicializamos los coeficientes\n",
    "    EcL[0] = 1.0\n",
    "    EcMu[0] = 0.0\n",
    "    EcZ[0] = 0.0\n",
    "\n",
    "    # Resolvemos el sistema de ecuacion ( Escogi el metodo de Thomas)\n",
    "    for i in range(1, n):\n",
    "        EcL[i] = 2.0 * (EcX[i+1] - EcX[i-1]) - EcH[i-1] * EcMu[i-1]\n",
    "        EcMu[i] = EcH[i] / EcL[i]\n",
    "        EcZ[i] = (EcAlpha[i] - EcH[i-1] * EcZ[i-1]) / EcL[i]\n",
    "\n",
    "    # Aqui esta la segunda derivada = 0 en extremos)\n",
    "    EcL[n] = 1.0\n",
    "    EcZ[n] = 0.0\n",
    "    EcC[n] = 0.0\n",
    "\n",
    "    # Calculamos los coeficientes finales b, c, d desde atrás hacia adelante\n",
    "    for j in range(n-1, -1, -1):\n",
    "        EcC[j] = EcZ[j] - EcMu[j] * EcC[j+1]\n",
    "        EcB[j] = (EcA[j+1] - EcA[j]) / EcH[j] - EcH[j] * (EcC[j+1] + 2.0 * EcC[j]) / 3.0\n",
    "        EcD[j] = (EcC[j+1] - EcC[j]) / (3.0 * EcH[j])\n",
    "\n",
    "    #Aqui ocupamos nuestra función ya creada en Taylor para los  coeficientes a la cantidad de decimales deseada\n",
    "    EcA = [Ec_truncar(a, decimales) for a in EcA[:-1]]\n",
    "    EcB = [Ec_truncar(b, decimales) for b in EcB]\n",
    "    EcC = [Ec_truncar(c, decimales) for c in EcC[:-1]]\n",
    "    EcD = [Ec_truncar(d, decimales) for d in EcD]\n",
    "\n",
    "    return EcA, EcB, EcC, EcD\n",
    "\n"
   ]
  },
  {
   "cell_type": "markdown",
   "id": "b7e88726",
   "metadata": {},
   "source": [
    "Ejemplo de Uso"
   ]
  },
  {
   "cell_type": "code",
   "execution_count": 118,
   "id": "92fb4de0",
   "metadata": {},
   "outputs": [
    {
     "name": "stdout",
     "output_type": "stream",
     "text": [
      "Incognitas encontradasecuaciones del spline cúbico:\n",
      "\n",
      "Intervalo 0 -> [0, 1]:\n",
      "  a0 = -5.0\n",
      "  b0 = -0.5\n",
      "  c0 = 0.0\n",
      "  d0 = 1.5\n",
      "Ecuacion del spline cúbico\n",
      "  S0(x) = -5.0 + -0.5*(x - 0) + 0.0*(x - 0)^2 + 1.5*(x - 0)^3\n",
      "\n",
      "Intervalo 1 -> [1, 2]:\n",
      "  a1 = -4.0\n",
      "  b1 = 4.0\n",
      "  c1 = 4.5\n",
      "  d1 = -1.5\n",
      "Ecuacion del spline cúbico\n",
      "  S1(x) = -4.0 + 4.0*(x - 1) + 4.5*(x - 1)^2 + -1.5*(x - 1)^3\n"
     ]
    }
   ],
   "source": [
    "\n",
    "EcX = [0, 1, 2] # Coordenadas x \n",
    "EcY = [-5, -4, 3] # Coordenadas f(x) (y)\n",
    "\n",
    "decimales = 3  # Cantidad de decimales truncados\n",
    "\n",
    "# Obtener coeficientes\n",
    "EcA, EcB, EcC, EcD = EcSplineCubicoNatural(EcX, EcY, decimales)\n",
    "\n",
    "# Mostrar coeficientes y ecuaciones\n",
    "print(\"Incognitas encontradasecuaciones del spline cúbico:\")\n",
    "for i in range(len(EcA)):\n",
    "    print(f\"\\nIntervalo {i} -> [{EcX[i]}, {EcX[i+1]}]:\")\n",
    "    print(f\"  a{i} = {EcA[i]}\")\n",
    "    print(f\"  b{i} = {EcB[i]}\")\n",
    "    print(f\"  c{i} = {EcC[i]}\")\n",
    "    print(f\"  d{i} = {EcD[i]}\")\n",
    "    print(\"Ecuacion del spline cúbico\")\n",
    "    print(f\"  S{i}(x) = {EcA[i]} + {EcB[i]}*(x - {EcX[i]}) + {EcC[i]}*(x - {EcX[i]})^2 + {EcD[i]}*(x - {EcX[i]})^3\")\n",
    "\n"
   ]
  },
  {
   "cell_type": "markdown",
   "id": "86c47523",
   "metadata": {},
   "source": [
    "## Spline Cúbico con frontera Condicionada"
   ]
  },
  {
   "cell_type": "markdown",
   "id": "e733e19a",
   "metadata": {},
   "source": [
    "Un spline cúbico con frontera condicionada, a diferencia del spline natural, te permite especificar las derivadas de la función en los puntos extremos del intervalo de interpolación. Esto significa que, además de pasar por los puntos de datos, la curva del spline se ajusta para tener una pendiente particular en el inicio y al final."
   ]
  },
  {
   "cell_type": "markdown",
   "id": "a1c440a3",
   "metadata": {},
   "source": [
    "Codificamos el código para frontera condicionada"
   ]
  },
  {
   "cell_type": "code",
   "execution_count": 11,
   "id": "b0e9452b",
   "metadata": {},
   "outputs": [],
   "source": [
    "# @autor: Estefano Condoy\n",
    "# @fecha: 2025-31-05\n",
    "# @versión: 1.0\n",
    "# @asignatura: Métodos Numéricos\n",
    "# @código ralizado basado en el pseudocódigo del Ing. Carlos Ayala\n",
    "def EcSplineCubicoCondicionado(EcX, EcF, derivada_ini, derivada_fin, decimales):\n",
    "    \"\"\"\n",
    "    Con esta función se calculará el spline cúbico condicionado con derivadas conocidas en los extremos.\n",
    "\n",
    "    :EcX: Lista de coordenadas x (nodos)\n",
    "    :EcF: Lista de coordenadas f(x) (valores en cada nodo)\n",
    "    :derivada_ini: Valor conocido de la derivada en el extremo izquierdo f'(x0)\n",
    "    :derivada_fin: Valor conocido de la derivada en el extremo derecho f'(xn)\n",
    "    :decimales: Número de decimales a truncar en los coeficientes\n",
    "    :return: Listas de coeficientes EcA, EcB, EcC, EcD por cada intervalo\n",
    "    \"\"\"\n",
    "\n",
    "    n = len(EcX) - 1  # Este es el numero de intervalos entre nodos\n",
    "\n",
    "    # Aqui le inicializamos las listas necesarias\n",
    "    EcH = [0.0] * n                    # Esta es la longitud del intervalo [x_i, x_{i+1}]\n",
    "    EcA = EcF[:]                       # Coeficientes a del spline \n",
    "    EcB = [0.0] * n                    # Coeficientes b del spline\n",
    "    EcC = [0.0] * (n + 1)              # Coeficientes c del spline\n",
    "    EcD = [0.0] * n                    # Coeficientes d del spline\n",
    "    EcAlpha = [0.0] * (n + 1)          \n",
    "    EcL = [0.0] * (n + 1)              \n",
    "    EcMu = [0.0] * (n + 1)             \n",
    "    EcZ = [0.0] * (n + 1)              \n",
    "\n",
    "    # Calculamos el h[i] = x_{i+1} - x_i\n",
    "    for i in range(n):\n",
    "        EcH[i] = EcX[i+1] - EcX[i]\n",
    "\n",
    "    # Calculamos el alpha para extremos (condiciones de frontera)\n",
    "    EcAlpha[0] = 3.0 * (EcA[1] - EcA[0]) / EcH[0] - 3.0 * derivada_ini\n",
    "    EcAlpha[n] = 3.0 * derivada_fin - 3.0 * (EcA[n] - EcA[n-1]) / EcH[n-1]\n",
    "\n",
    "    # Calculamos los alpha extremo \n",
    "    for i in range(1, n):\n",
    "        EcAlpha[i] = (3.0 / EcH[i]) * (EcA[i+1] - EcA[i]) - (3.0 / EcH[i-1]) * (EcA[i] - EcA[i-1])\n",
    "\n",
    "    # Se inicializa la primera fila del sistema tridiagonal (condición en x0)\n",
    "    EcL[0] = 2.0 * EcH[0]\n",
    "    EcMu[0] = 0.5\n",
    "    EcZ[0] = EcAlpha[0] / EcL[0]\n",
    "\n",
    "    # Resolvemos el sistema de ecuaciones utilizando el método de Thomas\n",
    "    for i in range(1, n):\n",
    "        EcL[i] = 2.0 * (EcX[i+1] - EcX[i-1]) - EcH[i-1] * EcMu[i-1]\n",
    "        EcMu[i] = EcH[i] / EcL[i]\n",
    "        EcZ[i] = (EcAlpha[i] - EcH[i-1] * EcZ[i-1]) / EcL[i]\n",
    "\n",
    "    # Ponemos la condicion final en xn\n",
    "    EcL[n] = EcH[n-1] * (2.0 - EcMu[n-1])\n",
    "    EcZ[n] = (EcAlpha[n] - EcH[n-1] * EcZ[n-1]) / EcL[n]\n",
    "    EcC[n] = EcZ[n]  # Valor de c[n]\n",
    "\n",
    "    # Aqui sustituimos para encontrar c,b y d \n",
    "    for j in range(n-1, -1, -1):\n",
    "        EcC[j] = EcZ[j] - EcMu[j] * EcC[j+1]\n",
    "        EcB[j] = (EcA[j+1] - EcA[j]) / EcH[j] - EcH[j] * (EcC[j+1] + 2.0 * EcC[j]) / 3.0\n",
    "        EcD[j] = (EcC[j+1] - EcC[j]) / (3.0 * EcH[j])\n",
    "\n",
    "    # Truncamos los resultados a la cantidad de decimales indicada\n",
    "    EcA = [Ec_truncar(a, decimales) for a in EcA[:-1]]  # último a[n] no se usa\n",
    "    EcB = [Ec_truncar(b, decimales) for b in EcB]\n",
    "    EcC = [Ec_truncar(c, decimales) for c in EcC[:-1]]  # último c[n] no se usa\n",
    "    EcD = [Ec_truncar(d, decimales) for d in EcD]\n",
    "\n",
    "    return EcA, EcB, EcC, EcD\n",
    "\n"
   ]
  },
  {
   "cell_type": "markdown",
   "id": "b2dc8f2c",
   "metadata": {},
   "source": [
    "Ejemplo de Uso:"
   ]
  },
  {
   "cell_type": "code",
   "execution_count": 13,
   "id": "a2fca676",
   "metadata": {},
   "outputs": [
    {
     "name": "stdout",
     "output_type": "stream",
     "text": [
      "Incógnitas encontradas - Ecuaciones del Spline Cúbico Condicionado:\n",
      "\n",
      "Intervalo 0 -> [0, 1]:\n",
      "  a0 = -5\n",
      "  b0 = 1.0\n",
      "  c0 = -5.0\n",
      "  d0 = 5.0\n",
      "Ecuacion del spline cúbico\n",
      "  S0(x) = 5.0*x**3 - 5.0*x**2 + 1.0*x - 5\n",
      "\n",
      "Intervalo 1 -> [1, 2]:\n",
      "  a1 = -4\n",
      "  b1 = 6.0\n",
      "  c1 = 10.0\n",
      "  d1 = -9.0\n",
      "Ecuacion del spline cúbico\n",
      "  S1(x) = 6.0*x - 9.0*(x - 1)**3 + 10.0*(x - 1)**2 - 10.0\n",
      "\n"
     ]
    }
   ],
   "source": [
    "def Ec_truncar(valor, decimales):\n",
    "    return round(valor, decimales)\n",
    "\n",
    "# Aqui se puede cambiar los valores de EcX y EcF para probar con otros datos\n",
    "EcX = [0, 1, 2]\n",
    "EcF = [-5, -4, 3]\n",
    "derivada_ini = 1\n",
    "derivada_fin = -1\n",
    "decimales = 3\n",
    "\n",
    "EcA, EcB, EcC, EcD = EcSplineCubicoCondicionado(EcX, EcF, derivada_ini, derivada_fin, decimales)\n",
    "\n",
    "# Mostrar resultados\n",
    "print(\"Incógnitas encontradas - Ecuaciones del Spline Cúbico Condicionado:\\n\")\n",
    "import sympy as sp\n",
    "x = sp.Symbol('x')\n",
    "for i in range(len(EcA)):\n",
    "    print(f\"Intervalo {i} -> [{EcX[i]}, {EcX[i+1]}]:\")\n",
    "    print(f\"  a{i} = {EcA[i]}\")\n",
    "    print(f\"  b{i} = {EcB[i]}\")\n",
    "    print(f\"  c{i} = {EcC[i]}\")\n",
    "    print(f\"  d{i} = {EcD[i]}\")\n",
    "    print(\"Ecuacion del spline cúbico\")\n",
    "    eq = EcA[i] + EcB[i]*(x - EcX[i]) + EcC[i]*(x - EcX[i])**2 + EcD[i]*(x - EcX[i])**3\n",
    "    print(f\"  S{i}(x) = {eq}\\n\")\n"
   ]
  },
  {
   "cell_type": "markdown",
   "id": "8cbcb488",
   "metadata": {},
   "source": [
    "<div style=\"text-align: center;\">\n",
    "\n",
    "$$\\huge \\textcolor{red}{\\textbf{U4 Interpolación y Ajuste de Curvas }}$$\n",
    "<br><br>"
   ]
  },
  {
   "cell_type": "markdown",
   "id": "e1da6bed",
   "metadata": {},
   "source": [
    "## Método de Mínimos Cuadrados"
   ]
  },
  {
   "cell_type": "markdown",
   "id": "edde7563",
   "metadata": {},
   "source": [
    "Este método es el ultimo de este notebook y se utiliza para encontrar la mejor aproximación de un conjunto de datos mediante una función que minimice la suma de los errores al cuadrado. Se emplea frecuentemente en análisis numérico y estadística para ajustar curvas a datos experimentales.\n",
    "\n",
    "La función ajustada se modela como:\n",
    "\n",
    "$$\n",
    "y = a_0 + a_1 x + a_2 x^2 + \\dots + a_n x^n\n",
    "$$\n",
    "\n",
    "Donde las incógnitas son:\n",
    "\n",
    "- $ a_1 $: equivalente a la pendiente (\\( m \\))\n",
    "- $ a_0 $: equivalente a la intersección con el eje \\( y \\) (\\( b \\))\n",
    "\n",
    "Para determinar los coeficientes $a_i$, se establece el sistema de ecuaciones basado en la minimización de la suma de errores:\n",
    "\n",
    "$$\n",
    "S = \\sum_{i=1}^{m} \\left( y_i - f(x_i) \\right)^2\n",
    "$$\n",
    "\n",
    "Derivando respecto a los coeficientes $a_j$ y igualando a cero(Esto es utilizando la regla de la cadena):\n",
    "\n",
    "$$\n",
    "\\sum_{i=1}^{m} x_i^j \\left( y_i - \\sum_{k=0}^{n} a_k x_i^k \\right) = 0, \\quad \\text{para} \\quad j = 0, 1, \\dots, n\n",
    "$$\n",
    "\n",
    "### Matriz Normal\n",
    "\n",
    "El sistema de ecuaciones puede escribirse en forma matricial(Esto ocupo en mi código porque considero que es la manera más facil de codificar):\n",
    "\n",
    "$$\n",
    "\\begin{bmatrix}\n",
    "\\sum x_i^0 & \\sum x_i^1 & \\sum x_i^2 & \\dots & \\sum x_i^n \\\\\n",
    "\\sum x_i^1 & \\sum x_i^2 & \\sum x_i^3 & \\dots & \\sum x_i^{n+1} \\\\\n",
    "\\vdots & \\vdots & \\vdots & \\ddots & \\vdots \\\\\n",
    "\\sum x_i^n & \\sum x_i^{n+1} & \\sum x_i^{n+2} & \\dots & \\sum x_i^{2n}\n",
    "\\end{bmatrix}\n",
    "\\begin{bmatrix}\n",
    "a_0 \\\\ a_1 \\\\ \\vdots \\\\ a_n\n",
    "\\end{bmatrix}\n",
    "=\n",
    "\\begin{bmatrix}\n",
    "\\sum y_i x_i^0 \\\\ \\sum y_i x_i^1 \\\\ \\vdots \\\\ \\sum y_i x_i^n\n",
    "\\end{bmatrix}\n",
    "$$\n",
    "\n",
    "Este sistema se resuelve para obtener los coeficientes $a_i$, ajustando así la mejor curva a los datos.\n"
   ]
  },
  {
   "cell_type": "markdown",
   "id": "78e72c21",
   "metadata": {},
   "source": [
    "A continuación se podra observar mi código y un ejemplo de su uso"
   ]
  },
  {
   "cell_type": "code",
   "execution_count": null,
   "id": "2a96f919",
   "metadata": {},
   "outputs": [],
   "source": [
    "# @autor: Estefano Condoy\n",
    "# @fecha: 2025-06-05\n",
    "# @versión: 1.0\n",
    "# @asignatura: Métodos Numéricos\n",
    "\n",
    "def EcMinimosCuadradosCuadratico(EcX, EcY, EcDecimales):\n",
    "    \"\"\"\n",
    "    Aplica el método de mínimos cuadrados para ajustar un polinomio de segundo grado\n",
    "    - EcX: lista de valores en el eje x\n",
    "    - EcY: lista de valores en el eje y\n",
    "    - EcDecimales: número de decimales para truncar los resultados\n",
    "    Retorna:\n",
    "    - EcA2, EcA1, EcA0: coeficientes del polinomio cuadrático ajustado\n",
    "    \"\"\"\n",
    "    EcN = len(EcX)\n",
    "\n",
    "    # Ponemos las sumas necesarias para el sistema de ecuaciones normales\n",
    "    EcSx = sum(EcX)\n",
    "    EcSx2 = sum(x**2 for x in EcX)\n",
    "    EcSx3 = sum(x**3 for x in EcX)\n",
    "    EcSx4 = sum(x**4 for x in EcX)\n",
    "    EcSy = sum(EcY)\n",
    "    EcSxy = sum(EcX[i]*EcY[i] for i in range(EcN))\n",
    "    EcSx2y = sum((EcX[i]**2)*EcY[i] for i in range(EcN))\n",
    "\n",
    "\n",
    "    # Realizamos la matriz del sistema\n",
    "\n",
    "    EcMatriz = [\n",
    "        [EcN, EcSx, EcSx2],\n",
    "        [EcSx, EcSx2, EcSx3],\n",
    "        [EcSx2, EcSx3, EcSx4]\n",
    "    ]\n",
    "\n",
    "    EcVector = [EcSy, EcSxy, EcSx2y] \n",
    "\n",
    "    # Usamos esta librerias para el sistema de ecuaciones lineales de Gauss (No utilize metodo de thomas porque aqui utilizamos menos ecuaciones)\n",
    "    from numpy import array, linalg\n",
    "    EcCoeficientes = linalg.solve(array(EcMatriz), array(EcVector))\n",
    "\n",
    "    # Aqui truncamos los coeficientes a la cantidad de decimales especificos\n",
    "    EcA0 = Ec_truncar(EcCoeficientes[0], EcDecimales)\n",
    "    EcA1 = Ec_truncar(EcCoeficientes[1], EcDecimales)\n",
    "    EcA2 = Ec_truncar(EcCoeficientes[2], EcDecimales)\n",
    "\n",
    "    # Mostramos los resultados\n",
    "    print(\"\\nIncógnitas encontradas:\")\n",
    "    print(f\"  a0 = {EcA0}\")\n",
    "    print(f\"  a1 = {EcA1}\")\n",
    "    print(f\"  a2 = {EcA2}\")\n",
    "\n",
    "    print(\"\\nEcuación del ajuste cuadrático por Mínimos Cuadrados:\")\n",
    "    print(f\"  y = ({EcA2}x^2) + ({EcA1}x) + ({EcA0})\")\n",
    "    return EcA2, EcA1, EcA0\n",
    "\n",
    "\n"
   ]
  },
  {
   "cell_type": "markdown",
   "id": "1d988577",
   "metadata": {},
   "source": [
    "Ejemplo de uso"
   ]
  },
  {
   "cell_type": "code",
   "execution_count": null,
   "id": "92bd7321",
   "metadata": {},
   "outputs": [
    {
     "name": "stdout",
     "output_type": "stream",
     "text": [
      "\n",
      "Incógnitas encontradas:\n",
      "  a0 = -0.9999\n",
      "  a1 = -1.0\n",
      "  a2 = 0.25\n",
      "\n",
      "Ecuación del ajuste cuadrático por Mínimos Cuadrados:\n",
      "  y = (0.25x^2) + (-1.0x) + (-0.9999)\n"
     ]
    },
    {
     "data": {
      "text/plain": [
       "(0.25, -1.0, -0.9999)"
      ]
     },
     "execution_count": 143,
     "metadata": {},
     "output_type": "execute_result"
    }
   ],
   "source": [
    "\n",
    "EcX = [-2,0,2,6]         # Coordenadas en X\n",
    "EcY = [2,-1,-2,2]         # Coordenadas en Y\n",
    "EcDecimales = 4           # Cantidad de decimales para truncar\n",
    "\n",
    "# Llamamos a la función\n",
    "EcMinimosCuadradosCuadratico(EcX, EcY, EcDecimales)"
   ]
  }
 ],
 "metadata": {
  "kernelspec": {
   "display_name": "Python 3",
   "language": "python",
   "name": "python3"
  },
  "language_info": {
   "codemirror_mode": {
    "name": "ipython",
    "version": 3
   },
   "file_extension": ".py",
   "mimetype": "text/x-python",
   "name": "python",
   "nbconvert_exporter": "python",
   "pygments_lexer": "ipython3",
   "version": "3.12.7"
  }
 },
 "nbformat": 4,
 "nbformat_minor": 5
}
